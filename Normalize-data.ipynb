{
 "cells": [
  {
   "cell_type": "code",
   "execution_count": 1,
   "metadata": {},
   "outputs": [],
   "source": [
    "import pyspark\n",
    "\n",
    "sc = pyspark.sql.SparkSession.Builder().getOrCreate()"
   ]
  },
  {
   "cell_type": "markdown",
   "metadata": {},
   "source": [
    "## Levanto los archivos"
   ]
  },
  {
   "cell_type": "code",
   "execution_count": 2,
   "metadata": {},
   "outputs": [],
   "source": [
    "DIR = \"datos/\"\n",
    "FILE_COORDENADAS = \"DistancesCoordenadasUTM.csv\"\n",
    "FILE_CALIBRACION = \"DatosCalibracion.csv\"\n",
    "FILE_RECEPTORES = [\"DatosRC1.csv\", \"DatosRC2.csv\", \"DatosD1.csv\", \"DatosD2.csv\"] \n",
    "\n",
    "def rdd_from_file(filename):\n",
    "    return sc.read.csv(filename, header=True, inferSchema=True).rdd\n",
    "\n",
    "coord_rdd = rdd_from_file(DIR+FILE_COORDENADAS)\n",
    "cal_rdd = rdd_from_file(DIR+FILE_CALIBRACION)\n",
    "recep_rdd = [rdd_from_file(DIR+name) for name in FILE_RECEPTORES]"
   ]
  },
  {
   "cell_type": "code",
   "execution_count": null,
   "metadata": {},
   "outputs": [],
   "source": []
  },
  {
   "cell_type": "code",
   "execution_count": null,
   "metadata": {},
   "outputs": [],
   "source": []
  },
  {
   "cell_type": "markdown",
   "metadata": {},
   "source": [
    "## Utils"
   ]
  },
  {
   "cell_type": "code",
   "execution_count": 3,
   "metadata": {},
   "outputs": [],
   "source": [
    "def apply_all(list_rdd, f):\n",
    "    return list(map(f, list_rdd)) "
   ]
  },
  {
   "cell_type": "markdown",
   "metadata": {},
   "source": [
    "## Filtro los datos de calibración vacios"
   ]
  },
  {
   "cell_type": "code",
   "execution_count": 4,
   "metadata": {},
   "outputs": [],
   "source": [
    "cal_rdd = cal_rdd.filter(lambda x: x['Fecha'] != 'NA')"
   ]
  },
  {
   "cell_type": "markdown",
   "metadata": {},
   "source": [
    "## Filtro datos de receptores invalidos (hay invalidos porque se repite el header)"
   ]
  },
  {
   "cell_type": "code",
   "execution_count": 5,
   "metadata": {},
   "outputs": [],
   "source": [
    "recep_rdd = apply_all(recep_rdd, lambda recep: recep.filter(lambda row: row['Date'] is not None))\n"
   ]
  },
  {
   "cell_type": "markdown",
   "metadata": {},
   "source": [
    "## Fix fechas ambiguas"
   ]
  },
  {
   "cell_type": "code",
   "execution_count": 6,
   "metadata": {},
   "outputs": [],
   "source": [
    "import re\n",
    "from datetime import datetime\n",
    "\n",
    "pattern = re.compile('[1-9][0-9]*/[1-9][0-9]*/.*')\n",
    "global pattern\n",
    "\n",
    "def fix_date_format(row, field):\n",
    "    row_dict = row.asDict()\n",
    "    date = row[field]\n",
    "    format_from = '%m/%d/%Y'\n",
    "    format_to = '%d/%m/%Y'\n",
    "    if pattern.match(date):\n",
    "        row_dict[field] = datetime.strptime(date, format_from).strftime(format_to)\n",
    "    return row_dict\n",
    "\n",
    "cal_rdd = cal_rdd.map(lambda x: fix_date_format(x,'Fecha'))\n",
    "recep_rdd = apply_all(recep_rdd, lambda recep: recep.map(lambda x: fix_date_format(x, 'Date'))) \n"
   ]
  },
  {
   "cell_type": "markdown",
   "metadata": {},
   "source": [
    "## Agrego timestamp"
   ]
  },
  {
   "cell_type": "code",
   "execution_count": 7,
   "metadata": {},
   "outputs": [],
   "source": [
    "def add_timestamp(row, date_field, time_field, suffix = ''):\n",
    "    row_dict = row if isinstance(row, (dict)) else row.asDict()\n",
    "    row_dict['timestamp'+suffix] = datetime.strptime(row[date_field]+' '+ row[time_field], '%d/%m/%Y %H:%M:%S')\n",
    "    return row_dict\n",
    "    \n",
    "cal_rdd = cal_rdd.map(lambda x: add_timestamp(x, 'Fecha', 'Inicio', '_inicio')).map(lambda x: add_timestamp(x, 'Fecha', 'Fin', '_fin'))\n",
    "recep_rdd = apply_all(recep_rdd, lambda recep: recep.map(lambda x: add_timestamp(x, 'Date', 'Time'))) \n",
    "\n"
   ]
  },
  {
   "cell_type": "markdown",
   "metadata": {},
   "source": [
    "## Saco recepciones de pajaros"
   ]
  },
  {
   "cell_type": "code",
   "execution_count": 8,
   "metadata": {},
   "outputs": [],
   "source": [
    "cal_tags = cal_rdd.map(lambda x: int(x['Tag'])).distinct().collect()\n",
    "recep_rdd = apply_all(recep_rdd, lambda recep: recep.filter(lambda x: x['Tag ID'] in cal_tags))"
   ]
  },
  {
   "cell_type": "code",
   "execution_count": null,
   "metadata": {},
   "outputs": [],
   "source": []
  },
  {
   "cell_type": "code",
   "execution_count": null,
   "metadata": {},
   "outputs": [],
   "source": []
  },
  {
   "cell_type": "code",
   "execution_count": null,
   "metadata": {},
   "outputs": [],
   "source": []
  },
  {
   "cell_type": "code",
   "execution_count": 9,
   "metadata": {},
   "outputs": [],
   "source": [
    "recibidos_by = [recep_rdd[i].collect() for i in range(len(recep_rdd))]\n",
    "global recibidos_by\n",
    "def add_recep(calibr):\n",
    "    for i in range(len(recibidos_by)):\n",
    "        recepciones = (\n",
    "            list(map(lambda x: x['Power'], filter(lambda x: int(calibr['Tag']) == x['Tag ID'] and calibr['timestamp_inicio'] <= x['timestamp'] and x['timestamp'] <= calibr['timestamp_fin'], recibidos_by[i])))\n",
    "        )\n",
    "        calibr['recep_{}'.format(i)] = recepciones\n",
    "    return calibr\n",
    "\n",
    "cal_rdd = cal_rdd.map(add_recep)\n"
   ]
  },
  {
   "cell_type": "code",
   "execution_count": null,
   "metadata": {},
   "outputs": [],
   "source": [
    "import json\n",
    "\n",
    "def my_converter(o):\n",
    "    if isinstance(o, datetime):\n",
    "        return o.__str__()\n",
    "    \n",
    "\n",
    "cal_rdd.map(lambda x: json.dumps(x, default=my_converter)).saveAsTextFile('datos/points-recep.jsonlines')"
   ]
  },
  {
   "cell_type": "code",
   "execution_count": null,
   "metadata": {},
   "outputs": [],
   "source": []
  },
  {
   "cell_type": "code",
   "execution_count": null,
   "metadata": {},
   "outputs": [],
   "source": []
  }
 ],
 "metadata": {
  "kernelspec": {
   "display_name": "Python 3",
   "language": "python",
   "name": "python3"
  },
  "language_info": {
   "codemirror_mode": {
    "name": "ipython",
    "version": 3
   },
   "file_extension": ".py",
   "mimetype": "text/x-python",
   "name": "python",
   "nbconvert_exporter": "python",
   "pygments_lexer": "ipython3",
   "version": "3.6.5"
  }
 },
 "nbformat": 4,
 "nbformat_minor": 2
}
