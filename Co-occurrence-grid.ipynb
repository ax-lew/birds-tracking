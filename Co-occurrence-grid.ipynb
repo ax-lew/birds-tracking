{
 "cells": [
  {
   "cell_type": "code",
   "execution_count": 1,
   "metadata": {},
   "outputs": [],
   "source": [
    "%matplotlib notebook"
   ]
  },
  {
   "cell_type": "code",
   "execution_count": 2,
   "metadata": {},
   "outputs": [],
   "source": [
    "import pyspark\n",
    "\n",
    "sc = pyspark.sql.SparkSession.Builder().getOrCreate()"
   ]
  },
  {
   "cell_type": "markdown",
   "metadata": {},
   "source": [
    "## Levanto los archivos"
   ]
  },
  {
   "cell_type": "code",
   "execution_count": 3,
   "metadata": {},
   "outputs": [],
   "source": [
    "import json\n",
    "import numpy as np\n",
    "import pandas as pd\n",
    "import matplotlib.pyplot as plt\n",
    "from sklearn.neighbors import KNeighborsRegressor\n",
    "from sklearn.multioutput import MultiOutputRegressor\n",
    "from sklearn.model_selection import cross_val_score, train_test_split\n",
    "from sklearn.neighbors import KNeighborsClassifier\n",
    "from sklearn.model_selection import KFold \n",
    "from sklearn.model_selection import GridSearchCV\n",
    "from sklearn.model_selection import ParameterGrid\n",
    "from sklearn.neighbors import base\n",
    "from IPython.display import display, HTML\n",
    "import math\n",
    "import time\n",
    "import matplotlib.animation as animation\n",
    "from datetime import datetime, timedelta\n",
    "\n"
   ]
  },
  {
   "cell_type": "code",
   "execution_count": 4,
   "metadata": {},
   "outputs": [],
   "source": [
    "points_recep = sc.read.json('datos/train-test-by-emission.jsonlines/').rdd"
   ]
  },
  {
   "cell_type": "code",
   "execution_count": 5,
   "metadata": {},
   "outputs": [],
   "source": [
    "birds_recep = sc.read.json('datos/all-birds-data.jsonlines/').rdd\n",
    "birds_recep = birds_recep.sortBy(lambda x: x['timestamp'])"
   ]
  },
  {
   "cell_type": "code",
   "execution_count": 6,
   "metadata": {},
   "outputs": [
    {
     "data": {
      "text/plain": [
       "2309123"
      ]
     },
     "execution_count": 6,
     "metadata": {},
     "output_type": "execute_result"
    }
   ],
   "source": [
    "birds_recep.count()"
   ]
  },
  {
   "cell_type": "code",
   "execution_count": null,
   "metadata": {},
   "outputs": [],
   "source": []
  },
  {
   "cell_type": "markdown",
   "metadata": {},
   "source": [
    "## Map utils"
   ]
  },
  {
   "cell_type": "code",
   "execution_count": 7,
   "metadata": {},
   "outputs": [],
   "source": [
    "global posicion_antenas\n",
    "posicion_antenas = [(463512.015195402,6111004.324434620),(464259.981343845,6110331.85100085),(464443.295130103,6111377.26171875),(464629.562194595,6111105.34734669)]\n",
    "nombre_antenas = [\"RC1\", \"RC2\", \"D1\", \"D2\"] \n",
    "\n",
    "\n",
    "global x_0\n",
    "global y_0\n",
    "\n",
    "x_0 = 462385.503783397\n",
    "x_f = 465958.114906211\n",
    "y_0 = 6109042.35153865\n",
    "y_f = 6112715.80637111\n",
    "\n",
    "\n",
    "def normalize_positions(row):\n",
    "    row['x'] = row['x']-x_0\n",
    "    row['y'] = row['y']-y_0\n",
    "    return row\n",
    "\n",
    "def distance(p1, p2):\n",
    "    return math.sqrt((p1[0]-p2[0])**2+(p1[1]-p2[1])**2)\n"
   ]
  },
  {
   "cell_type": "code",
   "execution_count": null,
   "metadata": {},
   "outputs": [],
   "source": []
  },
  {
   "cell_type": "code",
   "execution_count": 8,
   "metadata": {},
   "outputs": [],
   "source": [
    "def group_emisions(data):\n",
    "    data_dict = data.asDict()\n",
    "    recep_0 = data_dict.pop('recep_0')\n",
    "    recep_1 = data_dict.pop('recep_1')\n",
    "    recep_2 = data_dict.pop('recep_2')\n",
    "    recep_3 = data_dict.pop('recep_3')\n",
    "    \n",
    "    data_dict['emissions'] = []\n",
    "    for i in range(24):\n",
    "        data_dict['emissions'].append([recep_0[i], recep_1[i], recep_2[i], recep_3[i]])\n",
    "    return data_dict\n"
   ]
  },
  {
   "cell_type": "code",
   "execution_count": 9,
   "metadata": {},
   "outputs": [],
   "source": [
    "points_emisions = points_recep.map(group_emisions)\n"
   ]
  },
  {
   "cell_type": "code",
   "execution_count": 10,
   "metadata": {},
   "outputs": [],
   "source": [
    "def expand_rows_with_emissions(row):\n",
    "    emissions = row.pop('emissions')\n",
    "    rows = []\n",
    "    for e in emissions:\n",
    "        new_row = row.copy()\n",
    "        new_row['recep'] = e\n",
    "        rows.append(new_row)\n",
    "    return rows\n",
    "        \n",
    "all_emissions = points_emisions.flatMap(expand_rows_with_emissions)"
   ]
  },
  {
   "cell_type": "markdown",
   "metadata": {},
   "source": [
    "### Genero los atributos y etiquetas que me interesan"
   ]
  },
  {
   "cell_type": "code",
   "execution_count": 11,
   "metadata": {},
   "outputs": [],
   "source": [
    "def generate_attrs(row):\n",
    "    data = {\n",
    "        'antenna_0': row['recep'][0],\n",
    "        'antenna_1': row['recep'][1],\n",
    "        'antenna_2': row['recep'][2],\n",
    "        'antenna_3': row['recep'][3],\n",
    "    }\n",
    "    return {'data': data, 'x': row['x'], 'y': row['y'], 'point': row['Punto']}\n",
    "    \n",
    "all_emissions = all_emissions.map(generate_attrs)"
   ]
  },
  {
   "cell_type": "markdown",
   "metadata": {},
   "source": [
    "### Saco las emisiones sin ninguna recepcion"
   ]
  },
  {
   "cell_type": "code",
   "execution_count": 12,
   "metadata": {},
   "outputs": [],
   "source": [
    "all_emissions = all_emissions.filter(lambda x: sum(x['data'].values())>0)"
   ]
  },
  {
   "cell_type": "markdown",
   "metadata": {},
   "source": [
    "### Normalizo coordenadas"
   ]
  },
  {
   "cell_type": "code",
   "execution_count": 13,
   "metadata": {},
   "outputs": [],
   "source": [
    "all_emissions = all_emissions.map(lambda x: normalize_positions(x))"
   ]
  },
  {
   "cell_type": "markdown",
   "metadata": {},
   "source": [
    "### Regresion por eje"
   ]
  },
  {
   "cell_type": "code",
   "execution_count": 14,
   "metadata": {
    "scrolled": true
   },
   "outputs": [
    {
     "data": {
      "text/plain": [
       "MultiOutputRegressor(estimator=KNeighborsRegressor(algorithm='auto', leaf_size=30, metric='minkowski',\n",
       "          metric_params=None, n_jobs=None, n_neighbors=5, p=2,\n",
       "          weights='distance'),\n",
       "           n_jobs=None)"
      ]
     },
     "execution_count": 14,
     "metadata": {},
     "output_type": "execute_result"
    }
   ],
   "source": [
    "regre_target = pd.DataFrame(all_emissions.map(lambda x: [x['x'], x['y']]).collect())\n",
    "regre_data = pd.DataFrame(all_emissions.map(lambda x: x['data']).collect())\n",
    "\n",
    "\n",
    "\n",
    "clf = MultiOutputRegressor(KNeighborsRegressor(n_neighbors=5, weights='distance'))\n",
    "\n",
    "clf.fit(regre_data, regre_target)\n"
   ]
  },
  {
   "cell_type": "code",
   "execution_count": null,
   "metadata": {},
   "outputs": [],
   "source": []
  },
  {
   "cell_type": "code",
   "execution_count": null,
   "metadata": {},
   "outputs": [],
   "source": []
  },
  {
   "cell_type": "code",
   "execution_count": null,
   "metadata": {},
   "outputs": [],
   "source": []
  },
  {
   "cell_type": "code",
   "execution_count": null,
   "metadata": {},
   "outputs": [],
   "source": []
  },
  {
   "cell_type": "code",
   "execution_count": 15,
   "metadata": {},
   "outputs": [],
   "source": [
    "GRID = [(1750, 1600), (2200, 2000)]\n",
    "FEMALES = [11, 15, 17, 20, 24, 26, 28, 30, 33, 34]\n",
    "MALES = [10, 14, 16, 21, 22, 23, 25, 27, 29, 31, 32]\n"
   ]
  },
  {
   "cell_type": "markdown",
   "metadata": {},
   "source": [
    "### Me quedo solo con pajaros etiquetados"
   ]
  },
  {
   "cell_type": "code",
   "execution_count": 16,
   "metadata": {},
   "outputs": [],
   "source": [
    "birds_recep = birds_recep.filter(lambda x: x['tag_id'] in MALES+FEMALES)"
   ]
  },
  {
   "cell_type": "markdown",
   "metadata": {},
   "source": [
    "### Obtengo cual es el dia inicial en el que todos los pajaros tienen chip"
   ]
  },
  {
   "cell_type": "code",
   "execution_count": 17,
   "metadata": {},
   "outputs": [
    {
     "data": {
      "text/plain": [
       "[Row(max(min(timestamp))='2018-01-02 21:13:07')]"
      ]
     },
     "execution_count": 17,
     "metadata": {},
     "output_type": "execute_result"
    }
   ],
   "source": [
    "import pyspark.sql.functions as F\n",
    "birds_recep_df = birds_recep.toDF()\n",
    "birds_start_date = birds_recep_df.groupBy('tag_id').agg(F.min(\"timestamp\"))\n",
    "birds_start_date.agg(F.max('min(timestamp)')).collect()"
   ]
  },
  {
   "cell_type": "code",
   "execution_count": 17,
   "metadata": {},
   "outputs": [],
   "source": [
    "#start_date = '2018-01-03'\n",
    "start_date = '2018-01-10' ## Fecha que me pasó Romina"
   ]
  },
  {
   "cell_type": "markdown",
   "metadata": {},
   "source": [
    "### Obtengo cual es el dia final en el que todos los pajaros tienen chip"
   ]
  },
  {
   "cell_type": "code",
   "execution_count": 19,
   "metadata": {},
   "outputs": [
    {
     "data": {
      "text/plain": [
       "[Row(min(max(timestamp))='2018-01-26 15:27:50')]"
      ]
     },
     "execution_count": 19,
     "metadata": {},
     "output_type": "execute_result"
    }
   ],
   "source": [
    "birds_end_date = birds_recep_df.groupBy('tag_id').agg(F.max(\"timestamp\"))\n",
    "birds_end_date.agg(F.min('max(timestamp)')).collect()"
   ]
  },
  {
   "cell_type": "code",
   "execution_count": 18,
   "metadata": {},
   "outputs": [],
   "source": [
    "end_date = '2018-01-26'\n",
    "#end_date = '2018-02-08'"
   ]
  },
  {
   "cell_type": "code",
   "execution_count": null,
   "metadata": {},
   "outputs": [],
   "source": []
  },
  {
   "cell_type": "markdown",
   "metadata": {},
   "source": [
    "### Filtro a partir de la fecha obtenida"
   ]
  },
  {
   "cell_type": "code",
   "execution_count": 19,
   "metadata": {},
   "outputs": [],
   "source": [
    "birds_recep = birds_recep.filter(lambda x: x['timestamp'] >= start_date and  x['timestamp'] < end_date)"
   ]
  },
  {
   "cell_type": "code",
   "execution_count": 20,
   "metadata": {},
   "outputs": [
    {
     "data": {
      "text/plain": [
       "1069514"
      ]
     },
     "execution_count": 20,
     "metadata": {},
     "output_type": "execute_result"
    }
   ],
   "source": [
    "birds_recep.count()"
   ]
  },
  {
   "cell_type": "code",
   "execution_count": null,
   "metadata": {},
   "outputs": [],
   "source": []
  },
  {
   "cell_type": "code",
   "execution_count": null,
   "metadata": {},
   "outputs": [],
   "source": []
  },
  {
   "cell_type": "code",
   "execution_count": 21,
   "metadata": {},
   "outputs": [],
   "source": [
    "START_TIME = '08:00:00'\n",
    "END_TIME = '19:00:00'\n",
    "birds_data_complete_df = birds_recep.filter(lambda x: START_TIME <= x['timestamp'].split(' ')[1] < END_TIME).toDF()\n",
    "birds_data_complete_df.write.parquet('tmp/checkpoint-cog.parquet')\n",
    "\n"
   ]
  },
  {
   "cell_type": "code",
   "execution_count": 22,
   "metadata": {},
   "outputs": [],
   "source": [
    "#birds_data_complete = birds_data_complete_df.toPandas()\n",
    "birds_data_complete = pd.read_parquet('tmp/checkpoint-cog.parquet')\n",
    "birds_data = birds_data_complete.drop(columns=['tag_id','timestamp'])"
   ]
  },
  {
   "cell_type": "code",
   "execution_count": 23,
   "metadata": {},
   "outputs": [],
   "source": [
    "predictions = clf.predict(birds_data)\n",
    "predictions = pd.concat([pd.DataFrame(predictions), pd.DataFrame(birds_data_complete)], axis=1).values"
   ]
  },
  {
   "cell_type": "code",
   "execution_count": 39,
   "metadata": {},
   "outputs": [],
   "source": [
    "from datetime import datetime\n",
    "\n",
    "WINDOW_SIZE = 60\n",
    "STEP_SIZE = 10\n",
    "\n",
    "smooth_predictions = []\n",
    "window_predictions = []\n",
    "\n",
    "init_time_map = {}\n",
    "for i in range(len(predictions)):\n",
    "    prediction = predictions[i]\n",
    "    bird_id = prediction[6]\n",
    "    init_time = init_time_map.get(bird_id)\n",
    "    if init_time is not None:\n",
    "        new_init_time = datetime.strptime(prediction[7], '%Y-%m-%d %H:%M:%S')\n",
    "        delta = new_init_time - init_time\n",
    "        if delta.total_seconds() <= STEP_SIZE:\n",
    "            continue\n",
    "    window_predictions = []\n",
    "    window_predictions.append(prediction)\n",
    "    init_time = datetime.strptime(prediction[7], '%Y-%m-%d %H:%M:%S')\n",
    "    init_time_map[bird_id] = init_time\n",
    "    for j in range(i+1, len(predictions)):\n",
    "        next_prediction = predictions[j]\n",
    "        if bird_id != next_prediction[6]:\n",
    "            continue\n",
    "        time_diff = datetime.strptime(next_prediction[7], '%Y-%m-%d %H:%M:%S') - init_time\n",
    "        if time_diff.total_seconds() <= WINDOW_SIZE:\n",
    "            window_predictions.append(next_prediction)\n",
    "        else:\n",
    "            break\n",
    "    window_predictions_np = np.array(window_predictions)\n",
    "    x = window_predictions_np[:,0].mean()\n",
    "    y = window_predictions_np[:,1].mean()\n",
    "    smooth_predictions.append([x, y, None, None, None, None, bird_id, window_predictions[0][7]])\n",
    "      "
   ]
  },
  {
   "cell_type": "code",
   "execution_count": 40,
   "metadata": {},
   "outputs": [],
   "source": [
    "smooth_predictions_np = np.array(smooth_predictions)"
   ]
  },
  {
   "cell_type": "code",
   "execution_count": 54,
   "metadata": {},
   "outputs": [],
   "source": [
    "grid_predictions = []\n",
    "for i in range(len(smooth_predictions_np)):\n",
    "    prediction = smooth_predictions_np[i]\n",
    "    if GRID[0][0] <= prediction[0] <= GRID[1][0] and GRID[0][1] <= prediction[1] <= GRID[1][1]:\n",
    "        grid_pred = np.insert(prediction, 8,'in_grid', axis=0)\n",
    "    else:\n",
    "        grid_pred = np.insert(prediction, 8,'out_grid', axis=0)\n",
    "    grid_predictions.append(grid_pred)"
   ]
  },
  {
   "cell_type": "code",
   "execution_count": 55,
   "metadata": {},
   "outputs": [],
   "source": [
    "grid_predictions = pd.DataFrame(grid_predictions, columns=['x', 'y', 'recep_0', 'recep_1', 'recep_2', 'recep_3', 'tag', 'time', 'region'])\n"
   ]
  },
  {
   "cell_type": "code",
   "execution_count": null,
   "metadata": {},
   "outputs": [],
   "source": []
  },
  {
   "cell_type": "code",
   "execution_count": null,
   "metadata": {},
   "outputs": [],
   "source": []
  },
  {
   "cell_type": "code",
   "execution_count": 57,
   "metadata": {},
   "outputs": [],
   "source": [
    "def get_bird_timestamp_in_grid(bird_data):\n",
    "    DELTA_TIME_IN_SEC = 30\n",
    "    timestamp_in_grid = []\n",
    "    for row in bird_data['time']:\n",
    "        real_time = datetime.strptime(row, '%Y-%m-%d %H:%M:%S')\n",
    "        for i in range(-DELTA_TIME_IN_SEC, DELTA_TIME_IN_SEC+1):\n",
    "            res=real_time+timedelta(seconds=i)\n",
    "            timestamp_in_grid.append(datetime.strftime(res, '%Y-%m-%d %H:%M:%S'))\n",
    "\n",
    "    timestamp_in_grid = list(set(timestamp_in_grid))\n",
    "    return pd.DataFrame(timestamp_in_grid, columns=['time'])\n",
    "\n",
    "male_birds_in_grid = grid_predictions[(grid_predictions.tag.isin(MALES)) & (grid_predictions['region'] == 'in_grid')]\n",
    "\n",
    "matches_per_bird = {}\n",
    "for female_bird in FEMALES:\n",
    "    female_bird_in_grid = grid_predictions[(grid_predictions['tag'] == female_bird) & (grid_predictions['region'] == 'in_grid')]\n",
    "    timestamp_in_grid_pd = get_bird_timestamp_in_grid(female_bird_in_grid)\n",
    "    \n",
    "    male_in_grid_with_female = male_birds_in_grid.join(timestamp_in_grid_pd.set_index('time'), on='time', how='inner')\n",
    "\n",
    "    female_matches = {}\n",
    "    for index, row in male_in_grid_with_female.iterrows():\n",
    "        tag = row['tag']\n",
    "        current_matches = female_matches.get(tag, 0)\n",
    "        female_matches[tag] = current_matches+1\n",
    "\n",
    "    matches_per_bird[female_bird] = female_matches\n",
    "\n"
   ]
  },
  {
   "cell_type": "code",
   "execution_count": 58,
   "metadata": {},
   "outputs": [],
   "source": [
    "for female_id in matches_per_bird.keys():\n",
    "    males_matches = matches_per_bird[female_id]\n",
    "    without_match = MALES-males_matches.keys()\n",
    "    for b in without_match:\n",
    "        matches_per_bird[female_id][b] = 0\n",
    "    \n"
   ]
  },
  {
   "cell_type": "code",
   "execution_count": 66,
   "metadata": {},
   "outputs": [
    {
     "name": "stdout",
     "output_type": "stream",
     "text": [
      "{ 11: { 10: 12,\n",
      "        14: 0,\n",
      "        16: 0,\n",
      "        21: 0,\n",
      "        22: 0,\n",
      "        23: 0,\n",
      "        25: 0,\n",
      "        27: 1,\n",
      "        29: 0,\n",
      "        31: 2,\n",
      "        32: 1},\n",
      "  15: { 10: 2,\n",
      "        14: 0,\n",
      "        16: 0,\n",
      "        21: 0,\n",
      "        22: 0,\n",
      "        23: 0,\n",
      "        25: 0,\n",
      "        27: 0,\n",
      "        29: 0,\n",
      "        31: 1,\n",
      "        32: 0},\n",
      "  17: { 10: 1,\n",
      "        14: 1,\n",
      "        16: 0,\n",
      "        21: 3,\n",
      "        22: 0,\n",
      "        23: 2,\n",
      "        25: 0,\n",
      "        27: 19,\n",
      "        29: 4,\n",
      "        31: 0,\n",
      "        32: 8},\n",
      "  20: { 10: 9,\n",
      "        14: 2,\n",
      "        16: 0,\n",
      "        21: 105,\n",
      "        22: 3,\n",
      "        23: 3,\n",
      "        25: 5,\n",
      "        27: 25,\n",
      "        29: 8,\n",
      "        31: 20,\n",
      "        32: 34},\n",
      "  24: { 10: 2,\n",
      "        14: 5,\n",
      "        16: 0,\n",
      "        21: 13,\n",
      "        22: 2,\n",
      "        23: 11,\n",
      "        25: 0,\n",
      "        27: 27,\n",
      "        29: 17,\n",
      "        31: 4,\n",
      "        32: 45},\n",
      "  26: { 10: 0,\n",
      "        14: 2,\n",
      "        16: 0,\n",
      "        21: 0,\n",
      "        22: 0,\n",
      "        23: 0,\n",
      "        25: 5,\n",
      "        27: 0,\n",
      "        29: 0,\n",
      "        31: 0,\n",
      "        32: 4},\n",
      "  28: { 10: 4,\n",
      "        14: 5,\n",
      "        16: 0,\n",
      "        21: 2,\n",
      "        22: 0,\n",
      "        23: 5,\n",
      "        25: 0,\n",
      "        27: 12,\n",
      "        29: 8,\n",
      "        31: 4,\n",
      "        32: 8},\n",
      "  30: { 10: 3,\n",
      "        14: 0,\n",
      "        16: 0,\n",
      "        21: 3,\n",
      "        22: 3,\n",
      "        23: 0,\n",
      "        25: 0,\n",
      "        27: 3,\n",
      "        29: 8,\n",
      "        31: 20,\n",
      "        32: 0},\n",
      "  33: { 10: 12,\n",
      "        14: 1,\n",
      "        16: 0,\n",
      "        21: 18,\n",
      "        22: 1,\n",
      "        23: 1,\n",
      "        25: 1,\n",
      "        27: 9,\n",
      "        29: 10,\n",
      "        31: 11,\n",
      "        32: 295},\n",
      "  34: { 10: 1,\n",
      "        14: 0,\n",
      "        16: 0,\n",
      "        21: 2,\n",
      "        22: 0,\n",
      "        23: 1,\n",
      "        25: 0,\n",
      "        27: 7,\n",
      "        29: 23,\n",
      "        31: 1,\n",
      "        32: 1}}\n"
     ]
    }
   ],
   "source": [
    "import pprint\n",
    "pp = pprint.PrettyPrinter(indent=2)\n",
    "pp.pprint(matches_per_bird)"
   ]
  },
  {
   "cell_type": "code",
   "execution_count": null,
   "metadata": {},
   "outputs": [],
   "source": []
  },
  {
   "cell_type": "code",
   "execution_count": null,
   "metadata": {},
   "outputs": [],
   "source": []
  },
  {
   "cell_type": "code",
   "execution_count": null,
   "metadata": {},
   "outputs": [],
   "source": []
  },
  {
   "cell_type": "code",
   "execution_count": null,
   "metadata": {},
   "outputs": [],
   "source": []
  }
 ],
 "metadata": {
  "kernelspec": {
   "display_name": "Python 3",
   "language": "python",
   "name": "python3"
  },
  "language_info": {
   "codemirror_mode": {
    "name": "ipython",
    "version": 3
   },
   "file_extension": ".py",
   "mimetype": "text/x-python",
   "name": "python",
   "nbconvert_exporter": "python",
   "pygments_lexer": "ipython3",
   "version": "3.6.5"
  }
 },
 "nbformat": 4,
 "nbformat_minor": 2
}
