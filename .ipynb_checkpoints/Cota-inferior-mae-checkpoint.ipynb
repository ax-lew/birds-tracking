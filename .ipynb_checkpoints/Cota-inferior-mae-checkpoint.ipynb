{
 "cells": [
  {
   "cell_type": "code",
   "execution_count": 1,
   "metadata": {},
   "outputs": [],
   "source": [
    "%matplotlib notebook"
   ]
  },
  {
   "cell_type": "code",
   "execution_count": 2,
   "metadata": {},
   "outputs": [],
   "source": [
    "import pyspark\n",
    "\n",
    "sc = pyspark.sql.SparkSession.Builder().getOrCreate()"
   ]
  },
  {
   "cell_type": "markdown",
   "metadata": {},
   "source": [
    "## Levanto los archivos"
   ]
  },
  {
   "cell_type": "code",
   "execution_count": 23,
   "metadata": {},
   "outputs": [],
   "source": [
    "import json\n",
    "import random\n",
    "import numpy as np\n",
    "import pandas as pd\n",
    "import math\n",
    "from scipy.spatial.distance import cdist, euclidean\n"
   ]
  },
  {
   "cell_type": "markdown",
   "metadata": {},
   "source": [
    "## Utils"
   ]
  },
  {
   "cell_type": "code",
   "execution_count": 4,
   "metadata": {},
   "outputs": [],
   "source": [
    "def distance(p1, p2):\n",
    "    return math.sqrt((p1[0]-p2[0])**2+(p1[1]-p2[1])**2)\n"
   ]
  },
  {
   "cell_type": "code",
   "execution_count": 5,
   "metadata": {},
   "outputs": [],
   "source": [
    "points_recep = sc.read.json('datos/train-test-by-emission.jsonlines/').rdd"
   ]
  },
  {
   "cell_type": "code",
   "execution_count": 6,
   "metadata": {},
   "outputs": [],
   "source": [
    "def group_emisions(data):\n",
    "    data_dict = data.asDict()\n",
    "    recep_0 = data_dict.pop('recep_0')\n",
    "    recep_1 = data_dict.pop('recep_1')\n",
    "    recep_2 = data_dict.pop('recep_2')\n",
    "    recep_3 = data_dict.pop('recep_3')\n",
    "    \n",
    "    data_dict['emissions'] = []\n",
    "    for i in range(24):\n",
    "        data_dict['emissions'].append([recep_0[i], recep_1[i], recep_2[i], recep_3[i]])\n",
    "    return data_dict\n"
   ]
  },
  {
   "cell_type": "code",
   "execution_count": 7,
   "metadata": {},
   "outputs": [],
   "source": [
    "points_emisions = points_recep.map(group_emisions)\n"
   ]
  },
  {
   "cell_type": "code",
   "execution_count": 12,
   "metadata": {},
   "outputs": [],
   "source": [
    "def expand_rows_with_emissions(row):\n",
    "    emissions = row.pop('emissions')\n",
    "    print(row)\n",
    "    rows = []\n",
    "    for e in emissions:\n",
    "        new_row = row.copy()\n",
    "        new_row['recep'] = e\n",
    "        rows.append(new_row)\n",
    "    return rows\n",
    "        \n",
    "all_emissions = points_emisions.flatMap(expand_rows_with_emissions)"
   ]
  },
  {
   "cell_type": "markdown",
   "metadata": {},
   "source": [
    "### Genero los atributos y etiquetas que me interesan"
   ]
  },
  {
   "cell_type": "code",
   "execution_count": 13,
   "metadata": {},
   "outputs": [],
   "source": [
    "def generate_attrs(row):\n",
    "    data = {\n",
    "        'antenna_0': row['recep'][0],\n",
    "        'antenna_1': row['recep'][1],\n",
    "        'antenna_2': row['recep'][2],\n",
    "        'antenna_3': row['recep'][3],\n",
    "    }\n",
    "    return {'data': data, 'x': row['x'], 'y': row['y'], 'point': row['Punto']}\n",
    "    \n",
    "all_emissions = all_emissions.map(generate_attrs)"
   ]
  },
  {
   "cell_type": "markdown",
   "metadata": {},
   "source": [
    "### Saco las emisiones sin ninguna recepcion"
   ]
  },
  {
   "cell_type": "code",
   "execution_count": 14,
   "metadata": {},
   "outputs": [],
   "source": [
    "all_emissions = all_emissions.filter(lambda x: sum(x['data'].values())>0)"
   ]
  },
  {
   "cell_type": "code",
   "execution_count": null,
   "metadata": {},
   "outputs": [],
   "source": []
  },
  {
   "cell_type": "code",
   "execution_count": 24,
   "metadata": {},
   "outputs": [],
   "source": [
    "same_signals_points = all_emissions.groupBy(lambda x: str(x['data'])).map(lambda x: list(x[1]))"
   ]
  },
  {
   "cell_type": "code",
   "execution_count": 25,
   "metadata": {},
   "outputs": [],
   "source": [
    "def geometric_median(X, eps=1e-5):\n",
    "    y = np.mean(X, 0)\n",
    "\n",
    "    while True:\n",
    "        D = cdist(X, [y])\n",
    "        nonzeros = (D != 0)[:, 0]\n",
    "\n",
    "        Dinv = 1 / D[nonzeros]\n",
    "        Dinvs = np.sum(Dinv)\n",
    "        W = Dinv / Dinvs\n",
    "        T = np.sum(W * X[nonzeros], 0)\n",
    "\n",
    "        num_zeros = len(X) - np.sum(nonzeros)\n",
    "        if num_zeros == 0:\n",
    "            y1 = T\n",
    "        elif num_zeros == len(X):\n",
    "            return y\n",
    "        else:\n",
    "            R = (T - y) * Dinvs\n",
    "            r = np.linalg.norm(R)\n",
    "            rinv = 0 if r == 0 else num_zeros/r\n",
    "            y1 = max(0, 1-rinv)*T + min(1, rinv)*y\n",
    "\n",
    "        if euclidean(y, y1) < eps:\n",
    "            return y1\n",
    "\n",
    "        y = y1"
   ]
  },
  {
   "cell_type": "code",
   "execution_count": 26,
   "metadata": {},
   "outputs": [],
   "source": [
    "def calc_min_err(emissions):\n",
    "    min_dist_sum = 1000000\n",
    "    for i in range(len(emissions)):\n",
    "        distances_sum = 0\n",
    "        for j in range(len(emissions)):\n",
    "            if i != j:\n",
    "                p1 = (emissions[i]['x'], emissions[i]['y'])\n",
    "                p2 = (emissions[j]['x'], emissions[j]['y'])\n",
    "                distances_sum += distance(p1, p2)\n",
    "        min_dist_sum = min(min_dist_sum, distances_sum)\n",
    "        \n",
    "    pos = np.array([[e['x'],e['y']] for e in emissions])\n",
    "    best_point = geometric_median(pos)\n",
    "    distances_sum = 0\n",
    "    for i in range(len(emissions)):\n",
    "        p1 = (emissions[i]['x'], emissions[i]['y'])\n",
    "        p2 = best_point\n",
    "        distances_sum += distance(p1, p2)\n",
    "    min_dist_sum = min(min_dist_sum, distances_sum)\n",
    "    \n",
    "    return min_dist_sum\n",
    "\n"
   ]
  },
  {
   "cell_type": "code",
   "execution_count": null,
   "metadata": {},
   "outputs": [],
   "source": []
  },
  {
   "cell_type": "code",
   "execution_count": 27,
   "metadata": {},
   "outputs": [
    {
     "data": {
      "text/plain": [
       "226.8865060208359"
      ]
     },
     "execution_count": 27,
     "metadata": {},
     "output_type": "execute_result"
    }
   ],
   "source": [
    "sum_min_dist = same_signals_points.map(calc_min_err).sum()\n",
    "total_emmisions = all_emissions.count()\n",
    "\n",
    "min_mae = sum_min_dist/float(total_emmisions)\n",
    "min_mae"
   ]
  },
  {
   "cell_type": "code",
   "execution_count": 19,
   "metadata": {},
   "outputs": [],
   "source": []
  },
  {
   "cell_type": "code",
   "execution_count": null,
   "metadata": {},
   "outputs": [],
   "source": []
  },
  {
   "cell_type": "code",
   "execution_count": null,
   "metadata": {},
   "outputs": [],
   "source": []
  },
  {
   "cell_type": "code",
   "execution_count": null,
   "metadata": {},
   "outputs": [],
   "source": []
  },
  {
   "cell_type": "code",
   "execution_count": null,
   "metadata": {},
   "outputs": [],
   "source": []
  },
  {
   "cell_type": "code",
   "execution_count": null,
   "metadata": {},
   "outputs": [],
   "source": []
  }
 ],
 "metadata": {
  "kernelspec": {
   "display_name": "Python 3",
   "language": "python",
   "name": "python3"
  },
  "language_info": {
   "codemirror_mode": {
    "name": "ipython",
    "version": 3
   },
   "file_extension": ".py",
   "mimetype": "text/x-python",
   "name": "python",
   "nbconvert_exporter": "python",
   "pygments_lexer": "ipython3",
   "version": "3.6.5"
  }
 },
 "nbformat": 4,
 "nbformat_minor": 2
}
