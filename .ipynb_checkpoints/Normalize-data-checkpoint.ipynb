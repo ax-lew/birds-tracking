{
 "cells": [
  {
   "cell_type": "code",
   "execution_count": 1,
   "metadata": {},
   "outputs": [],
   "source": [
    "import pyspark\n",
    "\n",
    "sc = pyspark.sql.SparkSession.Builder().getOrCreate()"
   ]
  },
  {
   "cell_type": "markdown",
   "metadata": {},
   "source": [
    "## Levanto los archivos"
   ]
  },
  {
   "cell_type": "code",
   "execution_count": 2,
   "metadata": {},
   "outputs": [],
   "source": [
    "DIR = \"datos/\"\n",
    "FILE_COORDENADAS = \"DistancesCoordenadasUTM.csv\"\n",
    "FILE_CALIBRACION = \"DatosCalibracion.csv\"\n",
    "FILE_RECEPTORES = [\"DatosRC1.csv\", \"DatosRC2.csv\", \"DatosD1.csv\", \"DatosD2.csv\"] \n",
    "\n",
    "def rdd_from_file(filename):\n",
    "    return sc.read.csv(filename, header=True, inferSchema=True).rdd\n",
    "\n",
    "coord_rdd = rdd_from_file(DIR+FILE_COORDENADAS)\n",
    "cal_rdd = rdd_from_file(DIR+FILE_CALIBRACION)\n",
    "recep_rdd = [rdd_from_file(DIR+name) for name in FILE_RECEPTORES]"
   ]
  },
  {
   "cell_type": "code",
   "execution_count": null,
   "metadata": {},
   "outputs": [],
   "source": []
  },
  {
   "cell_type": "code",
   "execution_count": null,
   "metadata": {},
   "outputs": [],
   "source": []
  },
  {
   "cell_type": "markdown",
   "metadata": {},
   "source": [
    "## Utils"
   ]
  },
  {
   "cell_type": "code",
   "execution_count": 3,
   "metadata": {},
   "outputs": [],
   "source": [
    "def apply_all(list_rdd, f):\n",
    "    return list(map(f, list_rdd)) "
   ]
  },
  {
   "cell_type": "markdown",
   "metadata": {},
   "source": [
    "## Filtro los datos de calibración vacios"
   ]
  },
  {
   "cell_type": "code",
   "execution_count": 4,
   "metadata": {},
   "outputs": [],
   "source": [
    "cal_rdd = cal_rdd.filter(lambda x: x['Fecha'] != 'NA')"
   ]
  },
  {
   "cell_type": "markdown",
   "metadata": {},
   "source": [
    "## Filtro datos de receptores invalidos (hay invalidos porque se repite el header)"
   ]
  },
  {
   "cell_type": "code",
   "execution_count": 5,
   "metadata": {},
   "outputs": [],
   "source": [
    "recep_rdd = apply_all(recep_rdd, lambda recep: recep.filter(lambda row: row['Date'] is not None))\n"
   ]
  },
  {
   "cell_type": "markdown",
   "metadata": {},
   "source": [
    "## Fix fechas ambiguas"
   ]
  },
  {
   "cell_type": "code",
   "execution_count": 6,
   "metadata": {},
   "outputs": [],
   "source": [
    "import re\n",
    "from datetime import datetime, timedelta\n",
    "\n",
    "pattern = re.compile('[1-9][0-9]*/[1-9][0-9]*/.*')\n",
    "global pattern\n",
    "\n",
    "def fix_date_format(row, field):\n",
    "    row_dict = row.asDict()\n",
    "    date = row[field]\n",
    "    format_from = '%m/%d/%Y'\n",
    "    format_to = '%d/%m/%Y'\n",
    "    if pattern.match(date):\n",
    "        row_dict[field] = datetime.strptime(date, format_from).strftime(format_to)\n",
    "    return row_dict\n",
    "\n",
    "cal_rdd = cal_rdd.map(lambda x: fix_date_format(x,'Fecha'))\n",
    "recep_rdd = apply_all(recep_rdd, lambda recep: recep.map(lambda x: fix_date_format(x, 'Date'))) \n"
   ]
  },
  {
   "cell_type": "markdown",
   "metadata": {},
   "source": [
    "## Agrego timestamp"
   ]
  },
  {
   "cell_type": "code",
   "execution_count": 7,
   "metadata": {},
   "outputs": [],
   "source": [
    "def add_timestamp(row, date_field, time_field, suffix = ''):\n",
    "    row_dict = row if isinstance(row, (dict)) else row.asDict()\n",
    "    row_dict['timestamp'+suffix] = datetime.strptime(row[date_field]+' '+ row[time_field], '%d/%m/%Y %H:%M:%S')\n",
    "    return row_dict\n",
    "    \n",
    "cal_rdd = cal_rdd.map(lambda x: add_timestamp(x, 'Fecha', 'Inicio', '_inicio')).map(lambda x: add_timestamp(x, 'Fecha', 'Fin', '_fin'))\n",
    "recep_rdd = apply_all(recep_rdd, lambda recep: recep.map(lambda x: add_timestamp(x, 'Date', 'Time'))) \n",
    "\n"
   ]
  },
  {
   "cell_type": "markdown",
   "metadata": {},
   "source": [
    "## Saco recepciones de pajaros"
   ]
  },
  {
   "cell_type": "code",
   "execution_count": 8,
   "metadata": {},
   "outputs": [],
   "source": [
    "cal_tags = cal_rdd.map(lambda x: int(x['Tag'])).distinct().collect()\n",
    "recep_rdd = apply_all(recep_rdd, lambda recep: recep.filter(lambda x: x['Tag ID'] in cal_tags))"
   ]
  },
  {
   "cell_type": "code",
   "execution_count": null,
   "metadata": {},
   "outputs": [],
   "source": []
  },
  {
   "cell_type": "code",
   "execution_count": null,
   "metadata": {},
   "outputs": [],
   "source": []
  },
  {
   "cell_type": "markdown",
   "metadata": {},
   "source": [
    "## Agrego las recepeciones de las antenas por cada periodo de emision"
   ]
  },
  {
   "cell_type": "code",
   "execution_count": 64,
   "metadata": {},
   "outputs": [],
   "source": [
    "recibidos_by = [recep_rdd[i].collect() for i in range(len(recep_rdd))]\n",
    "global recibidos_by\n",
    "\n",
    "\n",
    "'''\n",
    "### Deprecado\n",
    "def add_recep(calibr):\n",
    "    for i in range(len(recibidos_by)):\n",
    "        recepciones = []\n",
    "        for angle in range(4):\n",
    "            recepciones_angle = (\n",
    "                list(map(lambda x: x['Power'], filter(lambda x: int(calibr['Tag']) == x['Tag ID'] and calibr['timestamp_inicio']+timedelta(seconds=angle*30) <= x['timestamp'] and x['timestamp'] < calibr['timestamp_inicio']+timedelta(seconds=(angle+1)*30), recibidos_by[i])))\n",
    "            )\n",
    "            while len(recepciones_angle) < 6:\n",
    "                recepciones_angle.append(0)\n",
    "            recepciones.extend(recepciones_angle)\n",
    "                \n",
    "        calibr['recep_{}'.format(i)] = recepciones\n",
    "    return calibr\n",
    "'''\n",
    "\n",
    "def is_equals_with_delta(t1, t2):\n",
    "    return abs((t1-t2).total_seconds()) <= 1\n",
    "\n",
    "def add_recep(calibr):\n",
    "    for i in range(len(recibidos_by)):\n",
    "        recepciones_by_time = (\n",
    "            list(map(lambda x: (x['Power'],x['timestamp']), filter(lambda x: int(calibr['Tag']) == x['Tag ID'] and calibr['timestamp_inicio'] <= x['timestamp'] and x['timestamp'] < calibr['timestamp_fin'], recibidos_by[i])))\n",
    "        )\n",
    "        recepciones = []   \n",
    "        \n",
    "        t = calibr['timestamp_inicio']\n",
    "        r = 0\n",
    "        for j in range(24):\n",
    "            if r < len(recepciones_by_time) and is_equals_with_delta(t, recepciones_by_time[r][1]):\n",
    "                recepciones.append(recepciones_by_time[r][0])\n",
    "                r += 1\n",
    "            else:\n",
    "                recepciones.append(0)\n",
    "            t = t+timedelta(seconds=5)\n",
    "        \n",
    "            \n",
    "        calibr['recep_{}'.format(i)] = recepciones\n",
    "    return calibr\n",
    "\n",
    "\n",
    "cal_rdd = cal_rdd.map(add_recep)\n"
   ]
  },
  {
   "cell_type": "code",
   "execution_count": null,
   "metadata": {},
   "outputs": [],
   "source": []
  },
  {
   "cell_type": "markdown",
   "metadata": {},
   "source": [
    "## Agrego posicion de los puntos"
   ]
  },
  {
   "cell_type": "code",
   "execution_count": 65,
   "metadata": {},
   "outputs": [],
   "source": [
    "coordenadas_UTM = sc.read.csv('datos/DistancesCoordenadasUTM.csv', header=True, inferSchema=True).rdd\n",
    "dict_coordenadas = coordenadas_UTM.map(lambda x: (x['Punto'],(x['X'], x['Y']))).collectAsMap()\n",
    "global dict_coordenadas\n",
    "\n",
    "def add_coord(row):\n",
    "    coordinadas = dict_coordenadas[row['Punto']]\n",
    "    row['x'] = coordinadas[0]\n",
    "    row['y'] = coordinadas[1]\n",
    "    return row\n",
    "\n",
    "cal_rdd = cal_rdd.map(add_coord)"
   ]
  },
  {
   "cell_type": "code",
   "execution_count": 66,
   "metadata": {},
   "outputs": [],
   "source": [
    "import json\n",
    "\n",
    "def my_converter(o):\n",
    "    if isinstance(o, datetime):\n",
    "        return o.__str__()\n",
    "    \n",
    "\n",
    "cal_rdd.map(lambda x: json.dumps(x, default=my_converter)).saveAsTextFile('datos/points-recep-2.jsonlines')"
   ]
  },
  {
   "cell_type": "code",
   "execution_count": null,
   "metadata": {},
   "outputs": [],
   "source": []
  },
  {
   "cell_type": "code",
   "execution_count": null,
   "metadata": {},
   "outputs": [],
   "source": []
  },
  {
   "cell_type": "markdown",
   "metadata": {},
   "source": [
    "### Cantidad de emisiones que tienen recepcion tanto al comienzo _x_  como al fin _x_+2min, es decir, que podrian tener 25 recepciones"
   ]
  },
  {
   "cell_type": "code",
   "execution_count": 77,
   "metadata": {},
   "outputs": [
    {
     "data": {
      "text/plain": [
       "6"
      ]
     },
     "execution_count": 77,
     "metadata": {},
     "output_type": "execute_result"
    }
   ],
   "source": [
    "def add_recep_from_antenna(row):\n",
    "    i = 1\n",
    "    return list(map(lambda x: x['Time'], filter(lambda x: int(row['Tag']) == x['Tag ID'] and row['timestamp_inicio'] <= x['timestamp'] and x['timestamp'] <= row['timestamp_fin'], recibidos_by[i])))\n",
    "\n",
    "cal_rdd.map(add_recep_from_antenna).filter(lambda x: len(x)>1 and datetime.strptime(x[0], '%H:%M:%S')+timedelta(minutes=2) == datetime.strptime(x[-1], '%H:%M:%S')).count()\n",
    "\n"
   ]
  },
  {
   "cell_type": "code",
   "execution_count": null,
   "metadata": {},
   "outputs": [],
   "source": []
  },
  {
   "cell_type": "code",
   "execution_count": null,
   "metadata": {},
   "outputs": [],
   "source": []
  },
  {
   "cell_type": "code",
   "execution_count": null,
   "metadata": {},
   "outputs": [],
   "source": []
  },
  {
   "cell_type": "code",
   "execution_count": null,
   "metadata": {},
   "outputs": [],
   "source": []
  },
  {
   "cell_type": "code",
   "execution_count": 61,
   "metadata": {},
   "outputs": [],
   "source": [
    "\n"
   ]
  },
  {
   "cell_type": "code",
   "execution_count": null,
   "metadata": {},
   "outputs": [],
   "source": []
  },
  {
   "cell_type": "code",
   "execution_count": null,
   "metadata": {},
   "outputs": [],
   "source": []
  },
  {
   "cell_type": "code",
   "execution_count": null,
   "metadata": {},
   "outputs": [],
   "source": []
  }
 ],
 "metadata": {
  "kernelspec": {
   "display_name": "Python 2",
   "language": "python",
   "name": "python2"
  },
  "language_info": {
   "codemirror_mode": {
    "name": "ipython",
    "version": 2
   },
   "file_extension": ".py",
   "mimetype": "text/x-python",
   "name": "python",
   "nbconvert_exporter": "python",
   "pygments_lexer": "ipython2",
   "version": "2.7.15"
  }
 },
 "nbformat": 4,
 "nbformat_minor": 2
}
