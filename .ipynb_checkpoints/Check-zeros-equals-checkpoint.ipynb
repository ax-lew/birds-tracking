{
 "cells": [
  {
   "cell_type": "code",
   "execution_count": 1,
   "metadata": {},
   "outputs": [],
   "source": [
    "#%matplotlib nbagg\n",
    "#%pylab\n",
    "%matplotlib notebook"
   ]
  },
  {
   "cell_type": "code",
   "execution_count": 2,
   "metadata": {},
   "outputs": [],
   "source": [
    "import pyspark\n",
    "\n",
    "sc = pyspark.sql.SparkSession.Builder().getOrCreate()"
   ]
  },
  {
   "cell_type": "markdown",
   "metadata": {},
   "source": [
    "## Levanto los archivos"
   ]
  },
  {
   "cell_type": "code",
   "execution_count": 3,
   "metadata": {},
   "outputs": [],
   "source": [
    "import json\n",
    "import numpy as np\n",
    "import pandas as pd\n",
    "import matplotlib.pyplot as plt"
   ]
  },
  {
   "cell_type": "code",
   "execution_count": 28,
   "metadata": {},
   "outputs": [],
   "source": [
    "points_recep = sc.read.json('datos/points-recep.jsonlines').rdd\n",
    "points_recep_with_zeros = sc.read.json('datos/points-recep-with-zeros.jsonlines/').rdd"
   ]
  },
  {
   "cell_type": "markdown",
   "metadata": {},
   "source": [
    "## Utils"
   ]
  },
  {
   "cell_type": "code",
   "execution_count": 12,
   "metadata": {},
   "outputs": [],
   "source": [
    "def remove_no_receptions(l):\n",
    "    return list(filter(lambda e: e > 0, l))\n",
    "\n"
   ]
  },
  {
   "cell_type": "code",
   "execution_count": 52,
   "metadata": {},
   "outputs": [
    {
     "data": {
      "text/plain": [
       "5"
      ]
     },
     "execution_count": 52,
     "metadata": {},
     "output_type": "execute_result"
    }
   ],
   "source": [
    "points_recep.filter(lambda x: len(x['recep_0']) == 10).count()"
   ]
  },
  {
   "cell_type": "code",
   "execution_count": 51,
   "metadata": {},
   "outputs": [
    {
     "data": {
      "text/plain": [
       "5"
      ]
     },
     "execution_count": 51,
     "metadata": {},
     "output_type": "execute_result"
    }
   ],
   "source": [
    "points_recep_with_zeros.filter(lambda x: len(remove_no_receptions(x['recep_0'])) == 10).count()"
   ]
  },
  {
   "cell_type": "code",
   "execution_count": 55,
   "metadata": {},
   "outputs": [
    {
     "data": {
      "text/plain": [
       "[]"
      ]
     },
     "execution_count": 55,
     "metadata": {},
     "output_type": "execute_result"
    }
   ],
   "source": [
    "temp1 = points_recep.filter(lambda x: len(x['recep_0']) > 0).map(lambda x: x['Punto']).collect()\n",
    "temp2 = points_recep_with_zeros.filter(lambda x: any(x['recep_0'])).map(lambda x: x['Punto']).collect()\n",
    "list(set(temp1) - set(temp2)) + list(set(temp2)-set(temp1))"
   ]
  },
  {
   "cell_type": "code",
   "execution_count": 56,
   "metadata": {},
   "outputs": [
    {
     "data": {
      "text/plain": [
       "[]"
      ]
     },
     "execution_count": 56,
     "metadata": {},
     "output_type": "execute_result"
    }
   ],
   "source": [
    "temp1 = points_recep.filter(lambda x: len(x['recep_1']) > 0).map(lambda x: x['Punto']).collect()\n",
    "temp2 = points_recep_with_zeros.filter(lambda x: any(x['recep_1'])).map(lambda x: x['Punto']).collect()\n",
    "list(set(temp1) - set(temp2)) + list(set(temp2)-set(temp1))"
   ]
  },
  {
   "cell_type": "code",
   "execution_count": 57,
   "metadata": {},
   "outputs": [
    {
     "data": {
      "text/plain": [
       "[]"
      ]
     },
     "execution_count": 57,
     "metadata": {},
     "output_type": "execute_result"
    }
   ],
   "source": [
    "temp1 = points_recep.filter(lambda x: len(x['recep_2']) > 0).map(lambda x: x['Punto']).collect()\n",
    "temp2 = points_recep_with_zeros.filter(lambda x: any(x['recep_2'])).map(lambda x: x['Punto']).collect()\n",
    "list(set(temp1) - set(temp2)) + list(set(temp2)-set(temp1))"
   ]
  },
  {
   "cell_type": "code",
   "execution_count": 58,
   "metadata": {},
   "outputs": [
    {
     "data": {
      "text/plain": [
       "[]"
      ]
     },
     "execution_count": 58,
     "metadata": {},
     "output_type": "execute_result"
    }
   ],
   "source": [
    "temp1 = points_recep.filter(lambda x: len(x['recep_3']) > 0).map(lambda x: x['Punto']).collect()\n",
    "temp2 = points_recep_with_zeros.filter(lambda x: any(x['recep_3'])).map(lambda x: x['Punto']).collect()\n",
    "list(set(temp1) - set(temp2)) + list(set(temp2)-set(temp1))"
   ]
  },
  {
   "cell_type": "code",
   "execution_count": null,
   "metadata": {},
   "outputs": [],
   "source": []
  }
 ],
 "metadata": {
  "kernelspec": {
   "display_name": "Python 3",
   "language": "python",
   "name": "python3"
  },
  "language_info": {
   "codemirror_mode": {
    "name": "ipython",
    "version": 3
   },
   "file_extension": ".py",
   "mimetype": "text/x-python",
   "name": "python",
   "nbconvert_exporter": "python",
   "pygments_lexer": "ipython3",
   "version": "3.6.5"
  }
 },
 "nbformat": 4,
 "nbformat_minor": 2
}
