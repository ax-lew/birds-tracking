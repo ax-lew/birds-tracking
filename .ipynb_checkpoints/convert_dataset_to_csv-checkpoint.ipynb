{
 "cells": [
  {
   "cell_type": "code",
   "execution_count": 75,
   "metadata": {},
   "outputs": [],
   "source": [
    "%matplotlib notebook"
   ]
  },
  {
   "cell_type": "code",
   "execution_count": 76,
   "metadata": {},
   "outputs": [],
   "source": [
    "import pyspark\n",
    "\n",
    "sc = pyspark.sql.SparkSession.Builder().getOrCreate()"
   ]
  },
  {
   "cell_type": "code",
   "execution_count": null,
   "metadata": {},
   "outputs": [],
   "source": []
  },
  {
   "cell_type": "code",
   "execution_count": 77,
   "metadata": {},
   "outputs": [],
   "source": [
    "points_recep = sc.read.json('datos/points-recep-with-zeros.jsonlines')"
   ]
  },
  {
   "cell_type": "code",
   "execution_count": 103,
   "metadata": {},
   "outputs": [],
   "source": [
    "points_recep_2 = (\n",
    "    points_recep\n",
    "    .withColumnRenamed('timestamp_fin', 'End Time')\n",
    "    .withColumnRenamed('timestamp_inicio', 'Start Time')\n",
    "    .withColumnRenamed('Punto', 'Point ID')\n",
    "    .withColumnRenamed('Tag', 'Tag ID')\n",
    "    .withColumnRenamed('recep_0', 'Receptions antenna RC1').withColumnRenamed('recep_1', 'Receptions antenna RC2').withColumnRenamed('recep_2', 'Receptions antenna D1').withColumnRenamed('recep_3', 'Receptions antenna D2')\n",
    "    .withColumnRenamed('x', 'X').withColumnRenamed('y', 'Y')\n",
    ")"
   ]
  },
  {
   "cell_type": "code",
   "execution_count": 104,
   "metadata": {
    "scrolled": true
   },
   "outputs": [],
   "source": [
    "points_recep_2 = points_recep_2.drop('Fecha').drop('Inicio').drop('Fin')"
   ]
  },
  {
   "cell_type": "code",
   "execution_count": 105,
   "metadata": {},
   "outputs": [],
   "source": [
    "from pyspark.sql.types import StringType\n",
    "\n",
    "points_recep_2 = points_recep_2.withColumn('Point ID', points_recep_2[\"Point ID\"].cast(StringType()))"
   ]
  },
  {
   "cell_type": "code",
   "execution_count": 106,
   "metadata": {},
   "outputs": [],
   "source": [
    "import json\n",
    "from pyspark.sql.functions import udf\n",
    "from pyspark.sql.types import StringType\n",
    "\n",
    "def array_to_string(my_list):\n",
    "    return '[' + ','.join([str(elem) for elem in my_list]) + ']'\n",
    "\n",
    "\n",
    "array_to_string_udf = udf(array_to_string, StringType())"
   ]
  },
  {
   "cell_type": "code",
   "execution_count": 107,
   "metadata": {},
   "outputs": [],
   "source": [
    "from pyspark.sql.types import IntegerType\n",
    "from pyspark.sql.types import ArrayType\n",
    "from pyspark.sql.functions import col\n",
    "\n",
    "points_recep_2 = points_recep_2.withColumn('Receptions antenna RC1', points_recep_2['Receptions antenna RC1'].cast(\"string\"))\n",
    "points_recep_2 = points_recep_2.withColumn('Receptions antenna RC2', points_recep_2['Receptions antenna RC2'].cast(\"string\"))\n",
    "points_recep_2 = points_recep_2.withColumn('Receptions antenna D1', points_recep_2['Receptions antenna D1'].cast(\"string\"))\n",
    "points_recep_2 = points_recep_2.withColumn('Receptions antenna D2', points_recep_2['Receptions antenna D2'].cast(\"string\"))\n"
   ]
  },
  {
   "cell_type": "code",
   "execution_count": 108,
   "metadata": {},
   "outputs": [
    {
     "data": {
      "text/plain": [
       "[Row(Point ID='367', Tag ID='18', Receptions antenna RC1='[0, 0, 0, 0, 0, 0, 0, 0, 0, 0, 0, 0, 0, 0, 0, 0, 0, 0, 0, 0, 0, 0, 0, 0]', Receptions antenna RC2='[0, 0, 0, 0, 0, 0, 0, 0, 0, 0, 0, 0, 0, 0, 0, 0, 0, 0, 0, 0, 0, 0, 0, 0]', Receptions antenna D1='[0, 0, 0, 0, 0, 0, 0, 0, 0, 0, 0, 0, 0, 0, 0, 0, 0, 0, 0, 0, 0, 0, 0, 0]', Receptions antenna D2='[0, 0, 0, 0, 0, 0, 0, 0, 0, 29, 0, 0, 0, 0, 70, 0, 0, 0, 28, 58, 81, 75, 83, 79]', End Time='2018-02-23 11:48:45', Start Time='2018-02-23 11:46:45', X=465240.285794961, Y=6111235.24622763)]"
      ]
     },
     "execution_count": 108,
     "metadata": {},
     "output_type": "execute_result"
    }
   ],
   "source": [
    "points_recep_2.take(1)"
   ]
  },
  {
   "cell_type": "code",
   "execution_count": 110,
   "metadata": {},
   "outputs": [],
   "source": [
    "(\n",
    "    points_recep_2\n",
    "    .coalesce(1)\n",
    "    .write.option(\"sep\",\";\").option(\"header\",\"true\").csv('dataset/calibration.csv')\n",
    ")"
   ]
  },
  {
   "cell_type": "code",
   "execution_count": null,
   "metadata": {},
   "outputs": [],
   "source": []
  },
  {
   "cell_type": "code",
   "execution_count": null,
   "metadata": {},
   "outputs": [],
   "source": []
  },
  {
   "cell_type": "code",
   "execution_count": null,
   "metadata": {},
   "outputs": [],
   "source": []
  },
  {
   "cell_type": "markdown",
   "metadata": {},
   "source": [
    "### Datos pajaros"
   ]
  },
  {
   "cell_type": "code",
   "execution_count": 111,
   "metadata": {},
   "outputs": [],
   "source": [
    "birds_recep = sc.read.json('datos/all-birds-data.jsonlines/')"
   ]
  },
  {
   "cell_type": "code",
   "execution_count": 112,
   "metadata": {},
   "outputs": [
    {
     "data": {
      "text/plain": [
       "[Row(recep_0=0, recep_1=28, recep_2=0, recep_3=0, tag_id=27, timestamp='2018-01-14 03:25:03')]"
      ]
     },
     "execution_count": 112,
     "metadata": {},
     "output_type": "execute_result"
    }
   ],
   "source": []
  },
  {
   "cell_type": "code",
   "execution_count": 113,
   "metadata": {},
   "outputs": [],
   "source": [
    "birds_recep_2 = (\n",
    "    birds_recep\n",
    "    .withColumnRenamed('timestamp', 'Time')\n",
    "    .withColumnRenamed('tag_id', 'Tag ID')\n",
    "    .withColumnRenamed('recep_0', 'Receptions antenna RC1').withColumnRenamed('recep_1', 'Receptions antenna RC2').withColumnRenamed('recep_2', 'Receptions antenna D1').withColumnRenamed('recep_3', 'Receptions antenna D2')\n",
    ")"
   ]
  },
  {
   "cell_type": "code",
   "execution_count": 114,
   "metadata": {},
   "outputs": [],
   "source": [
    "(\n",
    "    birds_recep_2\n",
    "    .coalesce(1)\n",
    "    .write.option(\"sep\",\";\").option(\"header\",\"true\").csv('dataset/birds-receptions.csv')\n",
    ")"
   ]
  },
  {
   "cell_type": "code",
   "execution_count": null,
   "metadata": {},
   "outputs": [],
   "source": []
  }
 ],
 "metadata": {
  "kernelspec": {
   "display_name": "Python 3",
   "language": "python",
   "name": "python3"
  },
  "language_info": {
   "codemirror_mode": {
    "name": "ipython",
    "version": 3
   },
   "file_extension": ".py",
   "mimetype": "text/x-python",
   "name": "python",
   "nbconvert_exporter": "python",
   "pygments_lexer": "ipython3",
   "version": "3.8.3"
  }
 },
 "nbformat": 4,
 "nbformat_minor": 4
}
