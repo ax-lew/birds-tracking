{
 "cells": [
  {
   "cell_type": "markdown",
   "metadata": {},
   "source": [
    "### Grid search para encontrar los mejores hiperparametros del smooth.\n",
    "Los mejores resultados van a ser aquellos que minimicen la cantidad de predicciones que caen dentro de la grilla cuando los pajaros se supone que estan durmiendo"
   ]
  },
  {
   "cell_type": "code",
   "execution_count": 1,
   "metadata": {},
   "outputs": [],
   "source": [
    "%matplotlib notebook"
   ]
  },
  {
   "cell_type": "code",
   "execution_count": 2,
   "metadata": {},
   "outputs": [],
   "source": [
    "import pyspark\n",
    "sc = pyspark.sql.SparkSession.Builder().getOrCreate()"
   ]
  },
  {
   "cell_type": "code",
   "execution_count": 3,
   "metadata": {},
   "outputs": [],
   "source": [
    "import json\n",
    "import numpy as np\n",
    "import pandas as pd\n",
    "import seaborn as sn\n",
    "\n",
    "import matplotlib.pyplot as plt\n",
    "from IPython.display import display, HTML\n",
    "import math\n",
    "import time\n",
    "import matplotlib.animation as animation\n",
    "from datetime import datetime, timedelta\n",
    "import pyspark.sql.functions as F\n",
    "\n",
    "from utils.emissions_normalizer import EmissionsNormalizer\n",
    "from utils.knn_predictor import KnnPredictor\n",
    "from utils.smoother import Smoother\n",
    "from utils.random_predictor import RandomPredictor\n",
    "\n",
    "from shapely.geometry import Point\n",
    "from shapely.geometry.polygon import Polygon"
   ]
  },
  {
   "cell_type": "code",
   "execution_count": 4,
   "metadata": {},
   "outputs": [],
   "source": [
    "ANTENNAS_POSITION = [(464259.981343845,6110331.85100085),(463512.015195402,6111004.324434620),(464443.295130103,6111377.26171875),(464629.562194595,6111105.34734669)]\n",
    "ANTENNAS_NAMES = [\"RC1\", \"RC2\", \"D1\", \"D2\"] \n",
    "X_0 = 462385.503783397\n",
    "Y_0 = 6109042.35153865\n",
    "\n",
    "for i in range(4):\n",
    "    ANTENNAS_POSITION[i] = (ANTENNAS_POSITION[i][0]-X_0, ANTENNAS_POSITION[i][1]-Y_0)\n",
    "\n",
    "GRID = Polygon(ANTENNAS_POSITION)"
   ]
  },
  {
   "cell_type": "code",
   "execution_count": 5,
   "metadata": {},
   "outputs": [],
   "source": [
    "FEMALES = [11, 15, 17, 20, 24, 26, 28, 30, 33, 34]\n",
    "MALES = [10, 14, 16, 21, 22, 23, 25, 27, 29, 31, 32]"
   ]
  },
  {
   "cell_type": "markdown",
   "metadata": {},
   "source": [
    "## Entreno el modelo que vamos a usar para predecir"
   ]
  },
  {
   "cell_type": "code",
   "execution_count": 6,
   "metadata": {},
   "outputs": [],
   "source": [
    "points_recep = sc.read.json('datos/train-test-by-emission.jsonlines/').rdd"
   ]
  },
  {
   "cell_type": "code",
   "execution_count": 7,
   "metadata": {},
   "outputs": [],
   "source": [
    "normalizer = EmissionsNormalizer()\n",
    "data = normalizer.normalize(points_recep)\n",
    "regre_data, regre_target = normalizer.get_regression_dataframes(data)"
   ]
  },
  {
   "cell_type": "code",
   "execution_count": 8,
   "metadata": {},
   "outputs": [],
   "source": [
    "predictor = KnnPredictor()\n",
    "predictor.fit(regre_data, regre_target)"
   ]
  },
  {
   "cell_type": "code",
   "execution_count": null,
   "metadata": {},
   "outputs": [],
   "source": []
  },
  {
   "cell_type": "markdown",
   "metadata": {},
   "source": [
    "## Levanto el archivo con las emisiones de los pajaros"
   ]
  },
  {
   "cell_type": "code",
   "execution_count": null,
   "metadata": {},
   "outputs": [],
   "source": [
    "birds_recep = sc.read.json('datos/all-birds-data.jsonlines/').rdd\n",
    "birds_recep = birds_recep.sortBy(lambda x: x['timestamp'])"
   ]
  },
  {
   "cell_type": "markdown",
   "metadata": {},
   "source": [
    "### Me quedo solo con pajaros etiquetados"
   ]
  },
  {
   "cell_type": "code",
   "execution_count": null,
   "metadata": {},
   "outputs": [],
   "source": [
    "birds_recep = birds_recep.filter(lambda x: x['tag_id'] in MALES+FEMALES)"
   ]
  },
  {
   "cell_type": "markdown",
   "metadata": {},
   "source": [
    "### Obtengo cual es el dia inicial en el que todos los pajaros tienen chip"
   ]
  },
  {
   "cell_type": "code",
   "execution_count": null,
   "metadata": {},
   "outputs": [],
   "source": [
    "start_date = '2018-01-10' ## Fecha que me pasó Romina"
   ]
  },
  {
   "cell_type": "markdown",
   "metadata": {},
   "source": [
    "### Obtengo cual es el dia final en el que todos los pajaros tienen chip"
   ]
  },
  {
   "cell_type": "code",
   "execution_count": null,
   "metadata": {},
   "outputs": [],
   "source": [
    "end_date = '2018-01-26'"
   ]
  },
  {
   "cell_type": "markdown",
   "metadata": {},
   "source": [
    "### Filtro a partir de las fechas obtenida"
   ]
  },
  {
   "cell_type": "code",
   "execution_count": null,
   "metadata": {},
   "outputs": [],
   "source": [
    "birds_recep = birds_recep.filter(lambda x: x['timestamp'] >= start_date and  x['timestamp'] < end_date)"
   ]
  },
  {
   "cell_type": "code",
   "execution_count": null,
   "metadata": {},
   "outputs": [],
   "source": [
    "birds_recep.count()"
   ]
  },
  {
   "cell_type": "markdown",
   "metadata": {},
   "source": [
    "### Filtro en solo los horarios que nos interesa analizar y hago un checkpoint en disco"
   ]
  },
  {
   "cell_type": "code",
   "execution_count": null,
   "metadata": {},
   "outputs": [],
   "source": [
    "START_TIME = '04:00:00'\n",
    "END_TIME = '21:00:00'\n",
    "birds_data_complete_df = birds_recep.filter(lambda x: not (START_TIME <= x['timestamp'].split(' ')[1] < END_TIME)).toDF()\n",
    "birds_data_complete_df.write.parquet('tmp/checkpoint-sgs.parquet')\n",
    "\n"
   ]
  },
  {
   "cell_type": "markdown",
   "metadata": {},
   "source": [
    "### Levanto el chekpoint en pandas"
   ]
  },
  {
   "cell_type": "code",
   "execution_count": 9,
   "metadata": {},
   "outputs": [],
   "source": [
    "birds_data_complete = pd.read_parquet('tmp/checkpoint-sgs.parquet')\n",
    "birds_data = birds_data_complete.drop(columns=['tag_id','timestamp'])"
   ]
  },
  {
   "cell_type": "code",
   "execution_count": null,
   "metadata": {},
   "outputs": [],
   "source": []
  },
  {
   "cell_type": "markdown",
   "metadata": {},
   "source": [
    "### Obtengo las predicciones"
   ]
  },
  {
   "cell_type": "code",
   "execution_count": 10,
   "metadata": {},
   "outputs": [],
   "source": [
    "predictions = predictor.predict(birds_data)\n",
    "predictions = pd.concat([pd.DataFrame(predictions), pd.DataFrame(birds_data_complete)], axis=1).values"
   ]
  },
  {
   "cell_type": "code",
   "execution_count": 32,
   "metadata": {},
   "outputs": [],
   "source": [
    "aux = pd.DataFrame(predictions)"
   ]
  },
  {
   "cell_type": "code",
   "execution_count": 41,
   "metadata": {},
   "outputs": [
    {
     "data": {
      "text/plain": [
       "0         00:00:00\n",
       "1         00:00:00\n",
       "2         00:00:02\n",
       "3         00:00:02\n",
       "4         00:00:03\n",
       "5         00:00:04\n",
       "6         00:00:05\n",
       "7         00:00:07\n",
       "8         00:00:07\n",
       "9         00:00:08\n",
       "10        00:00:10\n",
       "11        00:00:10\n",
       "12        00:00:12\n",
       "13        00:00:12\n",
       "14        00:00:14\n",
       "15        00:00:15\n",
       "16        00:00:17\n",
       "17        00:00:17\n",
       "18        00:00:18\n",
       "19        00:00:19\n",
       "20        00:00:20\n",
       "21        00:00:20\n",
       "22        00:00:22\n",
       "23        00:00:23\n",
       "24        00:00:25\n",
       "25        00:00:25\n",
       "26        00:00:27\n",
       "27        00:00:30\n",
       "28        00:00:32\n",
       "29        00:00:32\n",
       "            ...   \n",
       "416426    23:59:34\n",
       "416427    23:59:35\n",
       "416428    23:59:36\n",
       "416429    23:59:37\n",
       "416430    23:59:38\n",
       "416431    23:59:38\n",
       "416432    23:59:39\n",
       "416433    23:59:40\n",
       "416434    23:59:41\n",
       "416435    23:59:42\n",
       "416436    23:59:44\n",
       "416437    23:59:44\n",
       "416438    23:59:44\n",
       "416439    23:59:46\n",
       "416440    23:59:46\n",
       "416441    23:59:47\n",
       "416442    23:59:49\n",
       "416443    23:59:49\n",
       "416444    23:59:49\n",
       "416445    23:59:50\n",
       "416446    23:59:51\n",
       "416447    23:59:52\n",
       "416448    23:59:53\n",
       "416449    23:59:53\n",
       "416450    23:59:54\n",
       "416451    23:59:55\n",
       "416452    23:59:56\n",
       "416453    23:59:59\n",
       "416454    23:59:59\n",
       "416455    23:59:59\n",
       "Name: 7, Length: 416456, dtype: object"
      ]
     },
     "execution_count": 41,
     "metadata": {},
     "output_type": "execute_result"
    }
   ],
   "source": [
    "aux[7].apply(lambda x: (x.split(' ')[1]))"
   ]
  },
  {
   "cell_type": "code",
   "execution_count": 43,
   "metadata": {},
   "outputs": [],
   "source": [
    "def get_night_number(row):\n",
    "    night_number = int(row.split(' ')[0].split('-')[2])-10\n",
    "    if int(row.split(' ')[1].split(':')[0]) > 19:\n",
    "        night_number +=1\n",
    "    return str(night_number)\n",
    "    \n",
    "aux['night_number'] = aux[7].apply(get_night_number)\n",
    "\n"
   ]
  },
  {
   "cell_type": "code",
   "execution_count": 62,
   "metadata": {},
   "outputs": [],
   "source": [
    "aux = aux[aux[7] >= '2018-01-10 18:00:00']"
   ]
  },
  {
   "cell_type": "code",
   "execution_count": 77,
   "metadata": {},
   "outputs": [
    {
     "name": "stderr",
     "output_type": "stream",
     "text": [
      "/Users/alew/py3/lib/python3.6/site-packages/ipykernel_launcher.py:5: SettingWithCopyWarning: \n",
      "A value is trying to be set on a copy of a slice from a DataFrame.\n",
      "Try using .loc[row_indexer,col_indexer] = value instead\n",
      "\n",
      "See the caveats in the documentation: http://pandas.pydata.org/pandas-docs/stable/indexing.html#indexing-view-versus-copy\n",
      "  \"\"\"\n"
     ]
    }
   ],
   "source": [
    "def set_in_grid(prediction):\n",
    "    point = Point(prediction[0], prediction[1])\n",
    "    return 1 if GRID.contains(point) else 0\n",
    "\n",
    "aux['in_grid'] = aux.apply(set_in_grid, axis=1)\n"
   ]
  },
  {
   "cell_type": "code",
   "execution_count": 125,
   "metadata": {},
   "outputs": [],
   "source": [
    "res = aux.groupby([6, 'night_number']).mean()"
   ]
  },
  {
   "cell_type": "code",
   "execution_count": 126,
   "metadata": {},
   "outputs": [
    {
     "data": {
      "text/html": [
       "<div>\n",
       "<style scoped>\n",
       "    .dataframe tbody tr th:only-of-type {\n",
       "        vertical-align: middle;\n",
       "    }\n",
       "\n",
       "    .dataframe tbody tr th {\n",
       "        vertical-align: top;\n",
       "    }\n",
       "\n",
       "    .dataframe thead th {\n",
       "        text-align: right;\n",
       "    }\n",
       "</style>\n",
       "<table border=\"1\" class=\"dataframe\">\n",
       "  <thead>\n",
       "    <tr style=\"text-align: right;\">\n",
       "      <th></th>\n",
       "      <th></th>\n",
       "      <th>in_grid</th>\n",
       "      <th>has_good_predictions</th>\n",
       "    </tr>\n",
       "    <tr>\n",
       "      <th>6</th>\n",
       "      <th>night_number</th>\n",
       "      <th></th>\n",
       "      <th></th>\n",
       "    </tr>\n",
       "  </thead>\n",
       "  <tbody>\n",
       "    <tr>\n",
       "      <th>10</th>\n",
       "      <th>3</th>\n",
       "      <td>1.000000</td>\n",
       "      <td>False</td>\n",
       "    </tr>\n",
       "    <tr>\n",
       "      <th rowspan=\"12\" valign=\"top\">14</th>\n",
       "      <th>1</th>\n",
       "      <td>0.347826</td>\n",
       "      <td>False</td>\n",
       "    </tr>\n",
       "    <tr>\n",
       "      <th>10</th>\n",
       "      <td>0.371354</td>\n",
       "      <td>False</td>\n",
       "    </tr>\n",
       "    <tr>\n",
       "      <th>13</th>\n",
       "      <td>0.394643</td>\n",
       "      <td>False</td>\n",
       "    </tr>\n",
       "    <tr>\n",
       "      <th>14</th>\n",
       "      <td>0.467121</td>\n",
       "      <td>False</td>\n",
       "    </tr>\n",
       "    <tr>\n",
       "      <th>15</th>\n",
       "      <td>0.213448</td>\n",
       "      <td>False</td>\n",
       "    </tr>\n",
       "    <tr>\n",
       "      <th>16</th>\n",
       "      <td>0.415622</td>\n",
       "      <td>False</td>\n",
       "    </tr>\n",
       "    <tr>\n",
       "      <th>4</th>\n",
       "      <td>0.297189</td>\n",
       "      <td>False</td>\n",
       "    </tr>\n",
       "    <tr>\n",
       "      <th>5</th>\n",
       "      <td>0.377476</td>\n",
       "      <td>False</td>\n",
       "    </tr>\n",
       "    <tr>\n",
       "      <th>6</th>\n",
       "      <td>0.271495</td>\n",
       "      <td>False</td>\n",
       "    </tr>\n",
       "    <tr>\n",
       "      <th>7</th>\n",
       "      <td>0.361059</td>\n",
       "      <td>False</td>\n",
       "    </tr>\n",
       "    <tr>\n",
       "      <th>8</th>\n",
       "      <td>0.421064</td>\n",
       "      <td>False</td>\n",
       "    </tr>\n",
       "    <tr>\n",
       "      <th>9</th>\n",
       "      <td>0.352941</td>\n",
       "      <td>False</td>\n",
       "    </tr>\n",
       "    <tr>\n",
       "      <th rowspan=\"2\" valign=\"top\">15</th>\n",
       "      <th>6</th>\n",
       "      <td>0.000000</td>\n",
       "      <td>True</td>\n",
       "    </tr>\n",
       "    <tr>\n",
       "      <th>9</th>\n",
       "      <td>0.250000</td>\n",
       "      <td>False</td>\n",
       "    </tr>\n",
       "    <tr>\n",
       "      <th>16</th>\n",
       "      <th>9</th>\n",
       "      <td>0.583333</td>\n",
       "      <td>False</td>\n",
       "    </tr>\n",
       "    <tr>\n",
       "      <th rowspan=\"14\" valign=\"top\">17</th>\n",
       "      <th>1</th>\n",
       "      <td>0.733048</td>\n",
       "      <td>False</td>\n",
       "    </tr>\n",
       "    <tr>\n",
       "      <th>10</th>\n",
       "      <td>0.815263</td>\n",
       "      <td>False</td>\n",
       "    </tr>\n",
       "    <tr>\n",
       "      <th>11</th>\n",
       "      <td>0.956738</td>\n",
       "      <td>False</td>\n",
       "    </tr>\n",
       "    <tr>\n",
       "      <th>12</th>\n",
       "      <td>0.954746</td>\n",
       "      <td>False</td>\n",
       "    </tr>\n",
       "    <tr>\n",
       "      <th>13</th>\n",
       "      <td>0.618267</td>\n",
       "      <td>False</td>\n",
       "    </tr>\n",
       "    <tr>\n",
       "      <th>14</th>\n",
       "      <td>0.337652</td>\n",
       "      <td>False</td>\n",
       "    </tr>\n",
       "    <tr>\n",
       "      <th>15</th>\n",
       "      <td>0.290076</td>\n",
       "      <td>False</td>\n",
       "    </tr>\n",
       "    <tr>\n",
       "      <th>16</th>\n",
       "      <td>0.086985</td>\n",
       "      <td>True</td>\n",
       "    </tr>\n",
       "    <tr>\n",
       "      <th>3</th>\n",
       "      <td>0.333333</td>\n",
       "      <td>False</td>\n",
       "    </tr>\n",
       "    <tr>\n",
       "      <th>4</th>\n",
       "      <td>0.651337</td>\n",
       "      <td>False</td>\n",
       "    </tr>\n",
       "    <tr>\n",
       "      <th>5</th>\n",
       "      <td>0.337809</td>\n",
       "      <td>False</td>\n",
       "    </tr>\n",
       "    <tr>\n",
       "      <th>6</th>\n",
       "      <td>0.171688</td>\n",
       "      <td>False</td>\n",
       "    </tr>\n",
       "    <tr>\n",
       "      <th>7</th>\n",
       "      <td>0.876039</td>\n",
       "      <td>False</td>\n",
       "    </tr>\n",
       "    <tr>\n",
       "      <th>8</th>\n",
       "      <td>0.891486</td>\n",
       "      <td>False</td>\n",
       "    </tr>\n",
       "    <tr>\n",
       "      <th>...</th>\n",
       "      <th>...</th>\n",
       "      <td>...</td>\n",
       "      <td>...</td>\n",
       "    </tr>\n",
       "    <tr>\n",
       "      <th>31</th>\n",
       "      <th>9</th>\n",
       "      <td>0.250000</td>\n",
       "      <td>False</td>\n",
       "    </tr>\n",
       "    <tr>\n",
       "      <th rowspan=\"10\" valign=\"top\">32</th>\n",
       "      <th>11</th>\n",
       "      <td>0.024397</td>\n",
       "      <td>True</td>\n",
       "    </tr>\n",
       "    <tr>\n",
       "      <th>12</th>\n",
       "      <td>0.010419</td>\n",
       "      <td>True</td>\n",
       "    </tr>\n",
       "    <tr>\n",
       "      <th>13</th>\n",
       "      <td>0.000000</td>\n",
       "      <td>True</td>\n",
       "    </tr>\n",
       "    <tr>\n",
       "      <th>15</th>\n",
       "      <td>1.000000</td>\n",
       "      <td>False</td>\n",
       "    </tr>\n",
       "    <tr>\n",
       "      <th>16</th>\n",
       "      <td>0.000000</td>\n",
       "      <td>True</td>\n",
       "    </tr>\n",
       "    <tr>\n",
       "      <th>4</th>\n",
       "      <td>0.400000</td>\n",
       "      <td>False</td>\n",
       "    </tr>\n",
       "    <tr>\n",
       "      <th>5</th>\n",
       "      <td>0.000000</td>\n",
       "      <td>True</td>\n",
       "    </tr>\n",
       "    <tr>\n",
       "      <th>6</th>\n",
       "      <td>0.001669</td>\n",
       "      <td>True</td>\n",
       "    </tr>\n",
       "    <tr>\n",
       "      <th>8</th>\n",
       "      <td>0.000000</td>\n",
       "      <td>True</td>\n",
       "    </tr>\n",
       "    <tr>\n",
       "      <th>9</th>\n",
       "      <td>0.006783</td>\n",
       "      <td>True</td>\n",
       "    </tr>\n",
       "    <tr>\n",
       "      <th rowspan=\"14\" valign=\"top\">33</th>\n",
       "      <th>1</th>\n",
       "      <td>0.127724</td>\n",
       "      <td>False</td>\n",
       "    </tr>\n",
       "    <tr>\n",
       "      <th>10</th>\n",
       "      <td>0.006223</td>\n",
       "      <td>True</td>\n",
       "    </tr>\n",
       "    <tr>\n",
       "      <th>11</th>\n",
       "      <td>0.002519</td>\n",
       "      <td>True</td>\n",
       "    </tr>\n",
       "    <tr>\n",
       "      <th>12</th>\n",
       "      <td>0.000000</td>\n",
       "      <td>True</td>\n",
       "    </tr>\n",
       "    <tr>\n",
       "      <th>13</th>\n",
       "      <td>0.215190</td>\n",
       "      <td>False</td>\n",
       "    </tr>\n",
       "    <tr>\n",
       "      <th>14</th>\n",
       "      <td>0.406500</td>\n",
       "      <td>False</td>\n",
       "    </tr>\n",
       "    <tr>\n",
       "      <th>15</th>\n",
       "      <td>0.352349</td>\n",
       "      <td>False</td>\n",
       "    </tr>\n",
       "    <tr>\n",
       "      <th>2</th>\n",
       "      <td>0.327243</td>\n",
       "      <td>False</td>\n",
       "    </tr>\n",
       "    <tr>\n",
       "      <th>3</th>\n",
       "      <td>0.366804</td>\n",
       "      <td>False</td>\n",
       "    </tr>\n",
       "    <tr>\n",
       "      <th>4</th>\n",
       "      <td>0.003886</td>\n",
       "      <td>True</td>\n",
       "    </tr>\n",
       "    <tr>\n",
       "      <th>5</th>\n",
       "      <td>0.000000</td>\n",
       "      <td>True</td>\n",
       "    </tr>\n",
       "    <tr>\n",
       "      <th>7</th>\n",
       "      <td>0.307692</td>\n",
       "      <td>False</td>\n",
       "    </tr>\n",
       "    <tr>\n",
       "      <th>8</th>\n",
       "      <td>0.000000</td>\n",
       "      <td>True</td>\n",
       "    </tr>\n",
       "    <tr>\n",
       "      <th>9</th>\n",
       "      <td>0.153360</td>\n",
       "      <td>False</td>\n",
       "    </tr>\n",
       "    <tr>\n",
       "      <th rowspan=\"5\" valign=\"top\">34</th>\n",
       "      <th>12</th>\n",
       "      <td>0.000000</td>\n",
       "      <td>True</td>\n",
       "    </tr>\n",
       "    <tr>\n",
       "      <th>3</th>\n",
       "      <td>0.473684</td>\n",
       "      <td>False</td>\n",
       "    </tr>\n",
       "    <tr>\n",
       "      <th>4</th>\n",
       "      <td>0.761845</td>\n",
       "      <td>False</td>\n",
       "    </tr>\n",
       "    <tr>\n",
       "      <th>5</th>\n",
       "      <td>0.294771</td>\n",
       "      <td>False</td>\n",
       "    </tr>\n",
       "    <tr>\n",
       "      <th>6</th>\n",
       "      <td>0.358076</td>\n",
       "      <td>False</td>\n",
       "    </tr>\n",
       "  </tbody>\n",
       "</table>\n",
       "<p>156 rows × 2 columns</p>\n",
       "</div>"
      ],
      "text/plain": [
       "                  in_grid  has_good_predictions\n",
       "6  night_number                                \n",
       "10 3             1.000000                 False\n",
       "14 1             0.347826                 False\n",
       "   10            0.371354                 False\n",
       "   13            0.394643                 False\n",
       "   14            0.467121                 False\n",
       "   15            0.213448                 False\n",
       "   16            0.415622                 False\n",
       "   4             0.297189                 False\n",
       "   5             0.377476                 False\n",
       "   6             0.271495                 False\n",
       "   7             0.361059                 False\n",
       "   8             0.421064                 False\n",
       "   9             0.352941                 False\n",
       "15 6             0.000000                  True\n",
       "   9             0.250000                 False\n",
       "16 9             0.583333                 False\n",
       "17 1             0.733048                 False\n",
       "   10            0.815263                 False\n",
       "   11            0.956738                 False\n",
       "   12            0.954746                 False\n",
       "   13            0.618267                 False\n",
       "   14            0.337652                 False\n",
       "   15            0.290076                 False\n",
       "   16            0.086985                  True\n",
       "   3             0.333333                 False\n",
       "   4             0.651337                 False\n",
       "   5             0.337809                 False\n",
       "   6             0.171688                 False\n",
       "   7             0.876039                 False\n",
       "   8             0.891486                 False\n",
       "...                   ...                   ...\n",
       "31 9             0.250000                 False\n",
       "32 11            0.024397                  True\n",
       "   12            0.010419                  True\n",
       "   13            0.000000                  True\n",
       "   15            1.000000                 False\n",
       "   16            0.000000                  True\n",
       "   4             0.400000                 False\n",
       "   5             0.000000                  True\n",
       "   6             0.001669                  True\n",
       "   8             0.000000                  True\n",
       "   9             0.006783                  True\n",
       "33 1             0.127724                 False\n",
       "   10            0.006223                  True\n",
       "   11            0.002519                  True\n",
       "   12            0.000000                  True\n",
       "   13            0.215190                 False\n",
       "   14            0.406500                 False\n",
       "   15            0.352349                 False\n",
       "   2             0.327243                 False\n",
       "   3             0.366804                 False\n",
       "   4             0.003886                  True\n",
       "   5             0.000000                  True\n",
       "   7             0.307692                 False\n",
       "   8             0.000000                  True\n",
       "   9             0.153360                 False\n",
       "34 12            0.000000                  True\n",
       "   3             0.473684                 False\n",
       "   4             0.761845                 False\n",
       "   5             0.294771                 False\n",
       "   6             0.358076                 False\n",
       "\n",
       "[156 rows x 2 columns]"
      ]
     },
     "execution_count": 126,
     "metadata": {},
     "output_type": "execute_result"
    }
   ],
   "source": [
    "res"
   ]
  },
  {
   "cell_type": "code",
   "execution_count": 94,
   "metadata": {},
   "outputs": [],
   "source": [
    "good_res = res[res.in_grid < 0.1]"
   ]
  },
  {
   "cell_type": "code",
   "execution_count": 97,
   "metadata": {},
   "outputs": [],
   "source": [
    "good_res_list = good_res.index.values"
   ]
  },
  {
   "cell_type": "code",
   "execution_count": 104,
   "metadata": {},
   "outputs": [
    {
     "data": {
      "text/plain": [
       "array([(15, '6'), (17, '16'), (20, '16'), (20, '9'), (21, '10'),\n",
       "       (23, '4'), (23, '6'), (23, '8'), (24, '10'), (24, '3'), (24, '6'),\n",
       "       (26, '2'), (28, '13'), (28, '14'), (29, '12'), (29, '2'),\n",
       "       (29, '3'), (31, '5'), (32, '11'), (32, '12'), (32, '13'),\n",
       "       (32, '16'), (32, '5'), (32, '6'), (32, '8'), (32, '9'), (33, '10'),\n",
       "       (33, '11'), (33, '12'), (33, '4'), (33, '5'), (33, '8'),\n",
       "       (34, '12')], dtype=object)"
      ]
     },
     "execution_count": 104,
     "metadata": {},
     "output_type": "execute_result"
    }
   ],
   "source": [
    "good_res_list"
   ]
  },
  {
   "cell_type": "code",
   "execution_count": 106,
   "metadata": {},
   "outputs": [
    {
     "name": "stderr",
     "output_type": "stream",
     "text": [
      "/Users/alew/py3/lib/python3.6/site-packages/ipykernel_launcher.py:4: SettingWithCopyWarning: \n",
      "A value is trying to be set on a copy of a slice from a DataFrame.\n",
      "Try using .loc[row_indexer,col_indexer] = value instead\n",
      "\n",
      "See the caveats in the documentation: http://pandas.pydata.org/pandas-docs/stable/indexing.html#indexing-view-versus-copy\n",
      "  after removing the cwd from sys.path.\n"
     ]
    }
   ],
   "source": [
    "def has_good_predictions(row):\n",
    "    return any([True for r in good_res_list if r[0] == row[6] and r[1] == row['night_number']])\n",
    "    \n",
    "aux['has_good_predictions'] = aux.apply(has_good_predictions, axis=1)\n"
   ]
  },
  {
   "cell_type": "code",
   "execution_count": 107,
   "metadata": {},
   "outputs": [],
   "source": [
    "finallyl_pred = aux[aux.has_good_predictions]"
   ]
  },
  {
   "cell_type": "code",
   "execution_count": 114,
   "metadata": {},
   "outputs": [],
   "source": [
    "finallyl_pred = finallyl_pred.drop(columns=['night_number', 'in_grid', 'has_good_predictions'])"
   ]
  },
  {
   "cell_type": "code",
   "execution_count": 122,
   "metadata": {},
   "outputs": [],
   "source": [
    "finallyl_pred = finallyl_pred.values"
   ]
  },
  {
   "cell_type": "markdown",
   "metadata": {},
   "source": [
    "### Grid smoother"
   ]
  },
  {
   "cell_type": "code",
   "execution_count": 123,
   "metadata": {},
   "outputs": [
    {
     "name": "stdout",
     "output_type": "stream",
     "text": [
      "{'windows_size': 30, 'step_size': 10, 'use_median': True, 'rate': 0.028219252302690987}\n",
      "{'windows_size': 30, 'step_size': 10, 'use_median': False, 'rate': 0.029980133646378904}\n",
      "{'windows_size': 30, 'step_size': 30, 'use_median': True, 'rate': 0.027902341803687097}\n",
      "{'windows_size': 30, 'step_size': 30, 'use_median': False, 'rate': 0.02979571499750872}\n",
      "{'windows_size': 60, 'step_size': 10, 'use_median': True, 'rate': 0.027496839443742097}\n",
      "{'windows_size': 60, 'step_size': 10, 'use_median': False, 'rate': 0.029077117572692796}\n",
      "{'windows_size': 60, 'step_size': 30, 'use_median': True, 'rate': 0.027105132037867463}\n",
      "{'windows_size': 60, 'step_size': 30, 'use_median': False, 'rate': 0.02929745889387145}\n",
      "{'windows_size': 60, 'step_size': 60, 'use_median': True, 'rate': 0.026619343389529725}\n",
      "{'windows_size': 60, 'step_size': 60, 'use_median': False, 'rate': 0.027684117125110912}\n",
      "{'windows_size': 90, 'step_size': 10, 'use_median': True, 'rate': 0.027000180603214737}\n",
      "{'windows_size': 90, 'step_size': 10, 'use_median': False, 'rate': 0.028670760339534043}\n",
      "{'windows_size': 90, 'step_size': 30, 'use_median': True, 'rate': 0.025909317389138018}\n",
      "{'windows_size': 90, 'step_size': 30, 'use_median': False, 'rate': 0.02830094668659691}\n",
      "{'windows_size': 90, 'step_size': 60, 'use_median': True, 'rate': 0.025732031943212066}\n",
      "{'windows_size': 90, 'step_size': 60, 'use_median': False, 'rate': 0.028748890860692104}\n",
      "{'windows_size': 90, 'step_size': 90, 'use_median': True, 'rate': 0.02620967741935484}\n",
      "{'windows_size': 90, 'step_size': 90, 'use_median': False, 'rate': 0.02847782258064516}\n",
      "{'windows_size': 120, 'step_size': 10, 'use_median': True, 'rate': 0.02677442658479321}\n",
      "{'windows_size': 120, 'step_size': 10, 'use_median': False, 'rate': 0.028264403106375294}\n",
      "{'windows_size': 120, 'step_size': 30, 'use_median': True, 'rate': 0.026706527154957648}\n",
      "{'windows_size': 120, 'step_size': 30, 'use_median': False, 'rate': 0.027404085700049825}\n",
      "{'windows_size': 120, 'step_size': 60, 'use_median': True, 'rate': 0.025377107364685004}\n",
      "{'windows_size': 120, 'step_size': 60, 'use_median': False, 'rate': 0.026974267968056787}\n",
      "{'windows_size': 120, 'step_size': 90, 'use_median': True, 'rate': 0.025453629032258066}\n",
      "{'windows_size': 120, 'step_size': 90, 'use_median': False, 'rate': 0.028225806451612902}\n",
      "{'windows_size': 120, 'step_size': 120, 'use_median': True, 'rate': 0.026143790849673203}\n",
      "{'windows_size': 120, 'step_size': 120, 'use_median': False, 'rate': 0.029738562091503266}\n",
      "{'windows_size': 180, 'step_size': 10, 'use_median': True, 'rate': 0.02605201372584432}\n",
      "{'windows_size': 180, 'step_size': 10, 'use_median': False, 'rate': 0.028038649087953765}\n",
      "{'windows_size': 180, 'step_size': 30, 'use_median': True, 'rate': 0.025311410064773294}\n",
      "{'windows_size': 180, 'step_size': 30, 'use_median': False, 'rate': 0.027204783258594916}\n",
      "{'windows_size': 180, 'step_size': 60, 'use_median': True, 'rate': 0.02466725820763088}\n",
      "{'windows_size': 180, 'step_size': 60, 'use_median': False, 'rate': 0.027861579414374445}\n",
      "{'windows_size': 180, 'step_size': 90, 'use_median': True, 'rate': 0.02469758064516129}\n",
      "{'windows_size': 180, 'step_size': 90, 'use_median': False, 'rate': 0.02721774193548387}\n",
      "{'windows_size': 180, 'step_size': 120, 'use_median': True, 'rate': 0.02483660130718954}\n",
      "{'windows_size': 180, 'step_size': 120, 'use_median': False, 'rate': 0.028104575163398694}\n",
      "{'windows_size': 240, 'step_size': 10, 'use_median': True, 'rate': 0.025374751670579735}\n",
      "{'windows_size': 240, 'step_size': 10, 'use_median': False, 'rate': 0.027948347480585153}\n",
      "{'windows_size': 240, 'step_size': 30, 'use_median': True, 'rate': 0.024613851519681117}\n",
      "{'windows_size': 240, 'step_size': 30, 'use_median': False, 'rate': 0.027204783258594916}\n",
      "{'windows_size': 240, 'step_size': 60, 'use_median': True, 'rate': 0.02466725820763088}\n",
      "{'windows_size': 240, 'step_size': 60, 'use_median': False, 'rate': 0.027684117125110912}\n",
      "{'windows_size': 240, 'step_size': 90, 'use_median': True, 'rate': 0.025453629032258066}\n",
      "{'windows_size': 240, 'step_size': 90, 'use_median': False, 'rate': 0.027721774193548387}\n",
      "{'windows_size': 240, 'step_size': 120, 'use_median': True, 'rate': 0.02516339869281046}\n",
      "{'windows_size': 240, 'step_size': 120, 'use_median': False, 'rate': 0.029411764705882353}\n",
      "{'windows_size': 300, 'step_size': 10, 'use_median': True, 'rate': 0.02451688640057793}\n",
      "{'windows_size': 300, 'step_size': 10, 'use_median': False, 'rate': 0.027858045873216542}\n",
      "{'windows_size': 300, 'step_size': 30, 'use_median': True, 'rate': 0.024015944195316392}\n",
      "{'windows_size': 300, 'step_size': 30, 'use_median': False, 'rate': 0.027204783258594916}\n",
      "{'windows_size': 300, 'step_size': 60, 'use_median': True, 'rate': 0.024134871339840283}\n",
      "{'windows_size': 300, 'step_size': 60, 'use_median': False, 'rate': 0.02839396628216504}\n",
      "{'windows_size': 300, 'step_size': 90, 'use_median': True, 'rate': 0.023689516129032258}\n",
      "{'windows_size': 300, 'step_size': 90, 'use_median': False, 'rate': 0.02746975806451613}\n",
      "{'windows_size': 300, 'step_size': 120, 'use_median': True, 'rate': 0.025490196078431372}\n",
      "{'windows_size': 300, 'step_size': 120, 'use_median': False, 'rate': 0.029411764705882353}\n"
     ]
    }
   ],
   "source": [
    "WINDOWS_SIZE_PARAMS = [30, 60, 90, 120, 180, 240, 300]\n",
    "STEP_SIZE_PARAMS = [10, 30, 60, 90, 120]\n",
    "USE_MEDIAN_PARAMS = [True, False]\n",
    "\n",
    "res = []\n",
    "for windows_size in WINDOWS_SIZE_PARAMS:\n",
    "    for step_size in STEP_SIZE_PARAMS:\n",
    "        for use_median in USE_MEDIAN_PARAMS:\n",
    "            if step_size > windows_size:\n",
    "                continue\n",
    "            smoother = Smoother(windows_size=windows_size, step_size=step_size, use_median=use_median)\n",
    "            smooth_predictions = smoother.smooth_predictions(finallyl_pred)\n",
    "            \n",
    "            count_in_grid = 0\n",
    "            for i in range(len(smooth_predictions)):\n",
    "                prediction = smooth_predictions[i]\n",
    "                point = Point(prediction[0], prediction[1])\n",
    "                if GRID.contains(point):\n",
    "                    count_in_grid += 1\n",
    "\n",
    "            rate_in_grid = count_in_grid/float(len(smooth_predictions))\n",
    "            res.append({\n",
    "                'windows_size': windows_size,\n",
    "                'step_size': step_size,\n",
    "                'use_median': use_median,\n",
    "                'rate': rate_in_grid,\n",
    "            })\n",
    "            print(res[-1])\n",
    "            "
   ]
  },
  {
   "cell_type": "code",
   "execution_count": null,
   "metadata": {},
   "outputs": [],
   "source": []
  },
  {
   "cell_type": "code",
   "execution_count": 17,
   "metadata": {},
   "outputs": [
    {
     "data": {
      "text/plain": [
       "array([1962.476874132086, 1697.4160601037581, 48, 48, 0, 0, 24,\n",
       "       '2018-01-10 00:00:05'], dtype=object)"
      ]
     },
     "execution_count": 17,
     "metadata": {},
     "output_type": "execute_result"
    }
   ],
   "source": []
  },
  {
   "cell_type": "code",
   "execution_count": 20,
   "metadata": {},
   "outputs": [
    {
     "ename": "TypeError",
     "evalue": "unsupported operand type(s) for +: 'NoneType' and 'int'",
     "output_type": "error",
     "traceback": [
      "\u001b[0;31m---------------------------------------------------------------------------\u001b[0m",
      "\u001b[0;31mTypeError\u001b[0m                                 Traceback (most recent call last)",
      "\u001b[0;32m<ipython-input-20-a4bc0750177a>\u001b[0m in \u001b[0;36m<module>\u001b[0;34m\u001b[0m\n\u001b[1;32m     10\u001b[0m     \u001b[0mpoint\u001b[0m \u001b[0;34m=\u001b[0m \u001b[0mPoint\u001b[0m\u001b[0;34m(\u001b[0m\u001b[0mprediction\u001b[0m\u001b[0;34m[\u001b[0m\u001b[0;36m0\u001b[0m\u001b[0;34m]\u001b[0m\u001b[0;34m,\u001b[0m \u001b[0mprediction\u001b[0m\u001b[0;34m[\u001b[0m\u001b[0;36m1\u001b[0m\u001b[0;34m]\u001b[0m\u001b[0;34m)\u001b[0m\u001b[0;34m\u001b[0m\u001b[0m\n\u001b[1;32m     11\u001b[0m     \u001b[0;32mif\u001b[0m \u001b[0mGRID\u001b[0m\u001b[0;34m.\u001b[0m\u001b[0mcontains\u001b[0m\u001b[0;34m(\u001b[0m\u001b[0mpoint\u001b[0m\u001b[0;34m)\u001b[0m\u001b[0;34m:\u001b[0m\u001b[0;34m\u001b[0m\u001b[0m\n\u001b[0;32m---> 12\u001b[0;31m         \u001b[0mcount\u001b[0m\u001b[0;34m[\u001b[0m\u001b[0mbird_id\u001b[0m\u001b[0;34m]\u001b[0m \u001b[0;34m=\u001b[0m \u001b[0mcount\u001b[0m\u001b[0;34m.\u001b[0m\u001b[0mget\u001b[0m\u001b[0;34m(\u001b[0m\u001b[0mbird_id\u001b[0m\u001b[0;34m)\u001b[0m\u001b[0;34m+\u001b[0m\u001b[0;36m1\u001b[0m\u001b[0;34m\u001b[0m\u001b[0m\n\u001b[0m\u001b[1;32m     13\u001b[0m     \u001b[0mtotal\u001b[0m\u001b[0;34m[\u001b[0m\u001b[0mbird_id\u001b[0m\u001b[0;34m]\u001b[0m \u001b[0;34m=\u001b[0m \u001b[0mtotal\u001b[0m\u001b[0;34m.\u001b[0m\u001b[0mget\u001b[0m\u001b[0;34m(\u001b[0m\u001b[0mbird_id\u001b[0m\u001b[0;34m)\u001b[0m\u001b[0;34m+\u001b[0m\u001b[0;36m1\u001b[0m\u001b[0;34m\u001b[0m\u001b[0m\n\u001b[1;32m     14\u001b[0m \u001b[0;34m\u001b[0m\u001b[0m\n",
      "\u001b[0;31mTypeError\u001b[0m: unsupported operand type(s) for +: 'NoneType' and 'int'"
     ]
    }
   ],
   "source": [
    "smoother = Smoother(windows_size=60, step_size=10, use_median=True)\n",
    "smooth_predictions = smoother.smooth_predictions(predictions)\n",
    "\n",
    "\n",
    "    "
   ]
  },
  {
   "cell_type": "code",
   "execution_count": 21,
   "metadata": {},
   "outputs": [
    {
     "ename": "KeyError",
     "evalue": "11",
     "output_type": "error",
     "traceback": [
      "\u001b[0;31m---------------------------------------------------------------------------\u001b[0m",
      "\u001b[0;31mKeyError\u001b[0m                                  Traceback (most recent call last)",
      "\u001b[0;32m<ipython-input-21-4910b82d9bba>\u001b[0m in \u001b[0;36m<module>\u001b[0;34m\u001b[0m\n\u001b[1;32m     12\u001b[0m \u001b[0mres\u001b[0m \u001b[0;34m=\u001b[0m \u001b[0;34m{\u001b[0m\u001b[0;34m}\u001b[0m\u001b[0;34m\u001b[0m\u001b[0m\n\u001b[1;32m     13\u001b[0m \u001b[0;32mfor\u001b[0m \u001b[0mb\u001b[0m \u001b[0;32min\u001b[0m \u001b[0mFEMALES\u001b[0m\u001b[0;34m+\u001b[0m\u001b[0mMALES\u001b[0m\u001b[0;34m:\u001b[0m\u001b[0;34m\u001b[0m\u001b[0m\n\u001b[0;32m---> 14\u001b[0;31m     \u001b[0mres\u001b[0m\u001b[0;34m[\u001b[0m\u001b[0mb\u001b[0m\u001b[0;34m]\u001b[0m \u001b[0;34m=\u001b[0m \u001b[0mcount\u001b[0m\u001b[0;34m[\u001b[0m\u001b[0mb\u001b[0m\u001b[0;34m]\u001b[0m \u001b[0;34m/\u001b[0m \u001b[0mmax\u001b[0m\u001b[0;34m(\u001b[0m\u001b[0mtotal\u001b[0m\u001b[0;34m[\u001b[0m\u001b[0mb\u001b[0m\u001b[0;34m]\u001b[0m\u001b[0;34m,\u001b[0m\u001b[0;36m1\u001b[0m\u001b[0;34m)\u001b[0m\u001b[0;34m\u001b[0m\u001b[0m\n\u001b[0m",
      "\u001b[0;31mKeyError\u001b[0m: 11"
     ]
    }
   ],
   "source": [
    "\n",
    "count = {}\n",
    "total = {}\n",
    "for i in range(len(smooth_predictions)):\n",
    "    prediction = smooth_predictions[i]\n",
    "    bird_id = prediction[6]\n",
    "    point = Point(prediction[0], prediction[1])\n",
    "    if GRID.contains(point):\n",
    "        count[bird_id] = count.get(bird_id, 0)+1\n",
    "    total[bird_id] = total.get(bird_id, 0)+1\n"
   ]
  },
  {
   "cell_type": "code",
   "execution_count": 27,
   "metadata": {},
   "outputs": [],
   "source": [
    "res = []\n",
    "for b in FEMALES+MALES:\n",
    "    res.append({\n",
    "        'bird': b,\n",
    "        'total': total.get(b,0),\n",
    "        'in_grid': count.get(b,0),\n",
    "        'rate': count.get(b,0) / total.get(b,1)\n",
    "    })\n",
    "res_pd = pd.DataFrame(res)"
   ]
  },
  {
   "cell_type": "code",
   "execution_count": 28,
   "metadata": {},
   "outputs": [
    {
     "data": {
      "text/html": [
       "<div>\n",
       "<style scoped>\n",
       "    .dataframe tbody tr th:only-of-type {\n",
       "        vertical-align: middle;\n",
       "    }\n",
       "\n",
       "    .dataframe tbody tr th {\n",
       "        vertical-align: top;\n",
       "    }\n",
       "\n",
       "    .dataframe thead th {\n",
       "        text-align: right;\n",
       "    }\n",
       "</style>\n",
       "<table border=\"1\" class=\"dataframe\">\n",
       "  <thead>\n",
       "    <tr style=\"text-align: right;\">\n",
       "      <th></th>\n",
       "      <th>bird</th>\n",
       "      <th>in_grid</th>\n",
       "      <th>rate</th>\n",
       "      <th>total</th>\n",
       "    </tr>\n",
       "  </thead>\n",
       "  <tbody>\n",
       "    <tr>\n",
       "      <th>0</th>\n",
       "      <td>11</td>\n",
       "      <td>0</td>\n",
       "      <td>0.000000</td>\n",
       "      <td>0</td>\n",
       "    </tr>\n",
       "    <tr>\n",
       "      <th>1</th>\n",
       "      <td>15</td>\n",
       "      <td>4</td>\n",
       "      <td>0.250000</td>\n",
       "      <td>16</td>\n",
       "    </tr>\n",
       "    <tr>\n",
       "      <th>2</th>\n",
       "      <td>17</td>\n",
       "      <td>11799</td>\n",
       "      <td>0.759120</td>\n",
       "      <td>15543</td>\n",
       "    </tr>\n",
       "    <tr>\n",
       "      <th>3</th>\n",
       "      <td>20</td>\n",
       "      <td>15050</td>\n",
       "      <td>0.611615</td>\n",
       "      <td>24607</td>\n",
       "    </tr>\n",
       "    <tr>\n",
       "      <th>4</th>\n",
       "      <td>24</td>\n",
       "      <td>13360</td>\n",
       "      <td>0.477791</td>\n",
       "      <td>27962</td>\n",
       "    </tr>\n",
       "    <tr>\n",
       "      <th>5</th>\n",
       "      <td>26</td>\n",
       "      <td>2</td>\n",
       "      <td>0.125000</td>\n",
       "      <td>16</td>\n",
       "    </tr>\n",
       "    <tr>\n",
       "      <th>6</th>\n",
       "      <td>28</td>\n",
       "      <td>3696</td>\n",
       "      <td>0.578766</td>\n",
       "      <td>6386</td>\n",
       "    </tr>\n",
       "    <tr>\n",
       "      <th>7</th>\n",
       "      <td>30</td>\n",
       "      <td>0</td>\n",
       "      <td>0.000000</td>\n",
       "      <td>0</td>\n",
       "    </tr>\n",
       "    <tr>\n",
       "      <th>8</th>\n",
       "      <td>33</td>\n",
       "      <td>2752</td>\n",
       "      <td>0.204594</td>\n",
       "      <td>13451</td>\n",
       "    </tr>\n",
       "    <tr>\n",
       "      <th>9</th>\n",
       "      <td>34</td>\n",
       "      <td>2652</td>\n",
       "      <td>0.651757</td>\n",
       "      <td>4069</td>\n",
       "    </tr>\n",
       "    <tr>\n",
       "      <th>10</th>\n",
       "      <td>10</td>\n",
       "      <td>1</td>\n",
       "      <td>1.000000</td>\n",
       "      <td>1</td>\n",
       "    </tr>\n",
       "    <tr>\n",
       "      <th>11</th>\n",
       "      <td>14</td>\n",
       "      <td>5951</td>\n",
       "      <td>0.453202</td>\n",
       "      <td>13131</td>\n",
       "    </tr>\n",
       "    <tr>\n",
       "      <th>12</th>\n",
       "      <td>16</td>\n",
       "      <td>7</td>\n",
       "      <td>0.700000</td>\n",
       "      <td>10</td>\n",
       "    </tr>\n",
       "    <tr>\n",
       "      <th>13</th>\n",
       "      <td>21</td>\n",
       "      <td>9469</td>\n",
       "      <td>0.652090</td>\n",
       "      <td>14521</td>\n",
       "    </tr>\n",
       "    <tr>\n",
       "      <th>14</th>\n",
       "      <td>22</td>\n",
       "      <td>1884</td>\n",
       "      <td>0.370866</td>\n",
       "      <td>5080</td>\n",
       "    </tr>\n",
       "    <tr>\n",
       "      <th>15</th>\n",
       "      <td>23</td>\n",
       "      <td>285</td>\n",
       "      <td>0.168042</td>\n",
       "      <td>1696</td>\n",
       "    </tr>\n",
       "    <tr>\n",
       "      <th>16</th>\n",
       "      <td>25</td>\n",
       "      <td>0</td>\n",
       "      <td>0.000000</td>\n",
       "      <td>0</td>\n",
       "    </tr>\n",
       "    <tr>\n",
       "      <th>17</th>\n",
       "      <td>27</td>\n",
       "      <td>10198</td>\n",
       "      <td>0.510615</td>\n",
       "      <td>19972</td>\n",
       "    </tr>\n",
       "    <tr>\n",
       "      <th>18</th>\n",
       "      <td>29</td>\n",
       "      <td>1902</td>\n",
       "      <td>0.328101</td>\n",
       "      <td>5797</td>\n",
       "    </tr>\n",
       "    <tr>\n",
       "      <th>19</th>\n",
       "      <td>31</td>\n",
       "      <td>6</td>\n",
       "      <td>0.500000</td>\n",
       "      <td>12</td>\n",
       "    </tr>\n",
       "    <tr>\n",
       "      <th>20</th>\n",
       "      <td>32</td>\n",
       "      <td>11</td>\n",
       "      <td>0.002203</td>\n",
       "      <td>4993</td>\n",
       "    </tr>\n",
       "  </tbody>\n",
       "</table>\n",
       "</div>"
      ],
      "text/plain": [
       "    bird  in_grid      rate  total\n",
       "0     11        0  0.000000      0\n",
       "1     15        4  0.250000     16\n",
       "2     17    11799  0.759120  15543\n",
       "3     20    15050  0.611615  24607\n",
       "4     24    13360  0.477791  27962\n",
       "5     26        2  0.125000     16\n",
       "6     28     3696  0.578766   6386\n",
       "7     30        0  0.000000      0\n",
       "8     33     2752  0.204594  13451\n",
       "9     34     2652  0.651757   4069\n",
       "10    10        1  1.000000      1\n",
       "11    14     5951  0.453202  13131\n",
       "12    16        7  0.700000     10\n",
       "13    21     9469  0.652090  14521\n",
       "14    22     1884  0.370866   5080\n",
       "15    23      285  0.168042   1696\n",
       "16    25        0  0.000000      0\n",
       "17    27    10198  0.510615  19972\n",
       "18    29     1902  0.328101   5797\n",
       "19    31        6  0.500000     12\n",
       "20    32       11  0.002203   4993"
      ]
     },
     "execution_count": 28,
     "metadata": {},
     "output_type": "execute_result"
    }
   ],
   "source": [
    "res_pd"
   ]
  },
  {
   "cell_type": "code",
   "execution_count": null,
   "metadata": {},
   "outputs": [],
   "source": []
  },
  {
   "cell_type": "markdown",
   "metadata": {},
   "source": [
    "### Grid filtro por smooth"
   ]
  },
  {
   "cell_type": "code",
   "execution_count": null,
   "metadata": {},
   "outputs": [],
   "source": [
    "WINDOW_THRESHOLD_PARAMS = [50, 100, 200, 300, 400, 500, 600, 800, 1000, 1500]\n",
    "USE_MEDIAN_PARAMS = [True, False]\n"
   ]
  }
 ],
 "metadata": {
  "kernelspec": {
   "display_name": "Python 3",
   "language": "python",
   "name": "python3"
  },
  "language_info": {
   "codemirror_mode": {
    "name": "ipython",
    "version": 3
   },
   "file_extension": ".py",
   "mimetype": "text/x-python",
   "name": "python",
   "nbconvert_exporter": "python",
   "pygments_lexer": "ipython3",
   "version": "3.6.5"
  }
 },
 "nbformat": 4,
 "nbformat_minor": 2
}
