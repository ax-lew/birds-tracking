{
 "cells": [
  {
   "cell_type": "code",
   "execution_count": 1,
   "metadata": {},
   "outputs": [],
   "source": [
    "import pyspark\n",
    "\n",
    "sc = pyspark.sql.SparkSession.Builder().getOrCreate()"
   ]
  },
  {
   "cell_type": "markdown",
   "metadata": {},
   "source": [
    "## Levanto los archivos"
   ]
  },
  {
   "cell_type": "code",
   "execution_count": 2,
   "metadata": {},
   "outputs": [],
   "source": [
    "import json\n",
    "import numpy as np\n",
    "import pandas as pd\n",
    "from sklearn.neighbors import KNeighborsRegressor\n",
    "from sklearn.model_selection import cross_val_score\n",
    "from sklearn.neighbors import KNeighborsClassifier\n",
    "from sklearn.model_selection import KFold \n",
    "from sklearn.model_selection import GridSearchCV\n",
    "import math"
   ]
  },
  {
   "cell_type": "code",
   "execution_count": 23,
   "metadata": {},
   "outputs": [],
   "source": [
    "points_recep = sc.read.json('datos/points-recep.jsonlines').rdd"
   ]
  },
  {
   "cell_type": "code",
   "execution_count": 16,
   "metadata": {},
   "outputs": [],
   "source": [
    "non_empty_points_recp = points_recep.filter(lambda x: len(x['recep_0']+x['recep_1']+x['recep_2']+x['recep_3']) > 0)\n"
   ]
  },
  {
   "cell_type": "markdown",
   "metadata": {},
   "source": [
    "### Me quedo con una sola emision por punto"
   ]
  },
  {
   "cell_type": "code",
   "execution_count": 17,
   "metadata": {},
   "outputs": [],
   "source": [
    "unique_points = non_empty_points_recp.groupBy(lambda x: x['Punto']).map(lambda x: list(x[1])[0])"
   ]
  },
  {
   "cell_type": "markdown",
   "metadata": {},
   "source": [
    "### Me quedo solo con puntos que tengan data de mas de una antena"
   ]
  },
  {
   "cell_type": "code",
   "execution_count": 6,
   "metadata": {},
   "outputs": [],
   "source": [
    "#unique_points = unique_points.filter(lambda x: int(len(x['recep_0']) > 0) + int(len(x['recep_1']) > 0) + int(len(x['recep_2']) > 0) + int(len(x['recep_3']) > 0) > 1)\n",
    "\n"
   ]
  },
  {
   "cell_type": "markdown",
   "metadata": {},
   "source": [
    "### Regresion por eje"
   ]
  },
  {
   "cell_type": "code",
   "execution_count": 7,
   "metadata": {},
   "outputs": [],
   "source": [
    "\n",
    "\n",
    "def generate_attrs(row):\n",
    "    #f = lambda l: len(l)\n",
    "    f = lambda l: float(np.mean(l) if len(l) > 0 else 0)\n",
    "    data = {\n",
    "        'recep_0': f(row['recep_0']),\n",
    "        'recep_1': f(row['recep_1']),\n",
    "        'recep_2': f(row['recep_2']),\n",
    "        'recep_3': f(row['recep_3'])\n",
    "    }\n",
    "    target_x = row['x']\n",
    "    target_y = row['y']\n",
    "    return {'data': data, 'target_x': target_x, 'target_y': target_y}\n",
    "    \n",
    "points = unique_points.map(generate_attrs)"
   ]
  },
  {
   "cell_type": "code",
   "execution_count": 8,
   "metadata": {},
   "outputs": [],
   "source": [
    "\n",
    "points_target_x = pd.DataFrame(points.map(lambda x: x['target_x']).collect())\n",
    "points_target_y = pd.DataFrame(points.map(lambda x: x['target_y']).collect())\n",
    "points_data = pd.DataFrame(points.map(lambda x: x['data']).collect())"
   ]
  },
  {
   "cell_type": "code",
   "execution_count": 9,
   "metadata": {},
   "outputs": [
    {
     "name": "stdout",
     "output_type": "stream",
     "text": [
      "prediccion eje x\n",
      "cross val mae: [-236.4579316  -249.44888494 -215.68336331 -292.37782229 -259.43425472]\n",
      "prediccion eje y\n",
      "cross val mae: [-210.84089784 -223.67253699 -254.15687582 -247.96231532 -219.54144877]\n"
     ]
    }
   ],
   "source": [
    "\n",
    "\n",
    "def eval_knn(data, target):\n",
    "    clf = KNeighborsRegressor(n_neighbors=5)\n",
    "    scores = cross_val_score(clf, data, target, cv=5, scoring='neg_mean_absolute_error')\n",
    "    print('cross val mae: {}'.format(scores))\n",
    "    \n",
    "print('prediccion eje x')\n",
    "eval_knn(points_data, points_target_x)\n",
    "print('prediccion eje y')\n",
    "eval_knn(points_data, points_target_y)"
   ]
  },
  {
   "cell_type": "code",
   "execution_count": null,
   "metadata": {},
   "outputs": [],
   "source": []
  },
  {
   "cell_type": "code",
   "execution_count": null,
   "metadata": {},
   "outputs": [],
   "source": []
  },
  {
   "cell_type": "markdown",
   "metadata": {},
   "source": [
    "### Clasificacion de puntos"
   ]
  },
  {
   "cell_type": "code",
   "execution_count": 10,
   "metadata": {},
   "outputs": [],
   "source": [
    "def generate_attrs(row):\n",
    "    #f = lambda l: len(l)\n",
    "    f = lambda l: float(np.mean(l) if len(l) > 0 else 0)\n",
    "    data = {\n",
    "        'recep_0': f(row['recep_0']),\n",
    "        'recep_1': f(row['recep_1']),\n",
    "        'recep_2': f(row['recep_2']),\n",
    "        'recep_3': f(row['recep_3'])\n",
    "    }\n",
    "    target = row['x']\n",
    "    return {'data': data, 'target': row['Punto']}\n",
    "    \n",
    "points = unique_points.map(generate_attrs)\n",
    "\n",
    "\n",
    "import pandas as pd\n",
    "\n",
    "points_target = pd.DataFrame(points.map(lambda x: x['target']).collect())\n",
    "points_data = pd.DataFrame(points.map(lambda x: x['data']).collect())\n",
    "\n"
   ]
  },
  {
   "cell_type": "code",
   "execution_count": 11,
   "metadata": {},
   "outputs": [
    {
     "name": "stdout",
     "output_type": "stream",
     "text": [
      "{'n_neighbors': 5, 'weights': 'distance'}\n",
      "mean absolute error 454.49625733944833\n"
     ]
    }
   ],
   "source": [
    "dict_coordenadas = points_recep.map(lambda x: (x['Punto'],(x['x'], x['y']))).collectAsMap()\n",
    "global dict_coordenadas\n",
    "\n",
    "def distance(p1, p2):\n",
    "    return math.sqrt((p1[0]-p2[0])**2+(p1[1]-p2[1])**2)\n",
    "\n",
    "def calculate_mae_distance(predictions, predictions_probas, real):\n",
    "    sum_error = 0\n",
    "    count = 0\n",
    "    for i in range(len(predictions)):\n",
    "        #print(predictions_probas[i].max())\n",
    "        pred_position = dict_coordenadas[predictions[i]]\n",
    "        real_position = dict_coordenadas[real[i]]\n",
    "        sum_error += distance(pred_position, real_position)\n",
    "        count += 1\n",
    "    return sum_error/count\n",
    "    \n",
    "\n",
    "points_data_np = np.array(points_data)\n",
    "points_target_np = np.array(points_target).ravel()\n",
    "    \n",
    "\n",
    "\n",
    "def evaluate_knn_classifier(points_data_np, points_target_np, **kwargs):\n",
    "    print(kwargs)\n",
    "    clf = KNeighborsClassifier(**kwargs)    \n",
    "    kf = KFold(n_splits=5, shuffle=True)\n",
    "    mae_list = []\n",
    "    for train_index, test_index in kf.split(points_data_np):\n",
    "        X_train, X_test = points_data_np[train_index], points_data_np[test_index]\n",
    "        y_train, y_test = points_target_np[train_index], points_target_np[test_index]\n",
    "\n",
    "        clf.fit(X_train, y_train)\n",
    "\n",
    "        predictions = clf.predict(X_test)\n",
    "        predictions_probas = clf.predict_proba(X_test)\n",
    "        mae = calculate_mae_distance(predictions, predictions_probas, y_test)\n",
    "        mae_list.append(mae)\n",
    "    print('mean absolute error {}'.format(np.mean(mae_list)))\n",
    "\n",
    "\n",
    "params = {'n_neighbors': 5, 'weights': 'distance'}\n",
    "evaluate_knn_classifier(points_data_np, points_target_np, **params)\n"
   ]
  },
  {
   "cell_type": "code",
   "execution_count": null,
   "metadata": {},
   "outputs": [],
   "source": []
  },
  {
   "cell_type": "code",
   "execution_count": null,
   "metadata": {},
   "outputs": [],
   "source": []
  },
  {
   "cell_type": "markdown",
   "metadata": {},
   "source": [
    "### Regression grid search"
   ]
  },
  {
   "cell_type": "code",
   "execution_count": 21,
   "metadata": {
    "scrolled": true
   },
   "outputs": [
    {
     "name": "stderr",
     "output_type": "stream",
     "text": [
      "/Users/alew/py3/lib/python3.6/site-packages/sklearn/model_selection/_search.py:841: DeprecationWarning: The default of the `iid` parameter will change from True to False in version 0.22 and will be removed in 0.24. This will change numeric results when test-set sizes are unequal.\n",
      "  DeprecationWarning)\n"
     ]
    },
    {
     "data": {
      "text/plain": [
       "GridSearchCV(cv=5, error_score=0.0,\n",
       "       estimator=KNeighborsRegressor(algorithm='auto', leaf_size=30, metric='minkowski',\n",
       "          metric_params=None, n_jobs=None, n_neighbors=5, p=2,\n",
       "          weights='uniform'),\n",
       "       fit_params=None, iid='warn', n_jobs=3,\n",
       "       param_grid={'n_neighbors': array([ 1,  2,  3,  4,  5,  6,  7,  8,  9, 10, 11, 12, 13, 14]), 'weights': ['uniform', 'distance'], 'p': [1, 2]},\n",
       "       pre_dispatch='2*n_jobs', refit=True, return_train_score='warn',\n",
       "       scoring='neg_mean_absolute_error', verbose=0)"
      ]
     },
     "execution_count": 21,
     "metadata": {},
     "output_type": "execute_result"
    }
   ],
   "source": [
    "\n",
    "\n",
    "knn_params = {\n",
    "    \"n_neighbors\" : np.arange(1, 15),\n",
    "    \"weights\" : [\"uniform\", \"distance\"],\n",
    "    \"p\" : [1, 2]\n",
    "}\n",
    "estimator = KNeighborsRegressor()\n",
    "\n",
    "clf = GridSearchCV(estimator, knn_params, cv=5, scoring='neg_mean_absolute_error', n_jobs=3, error_score=0.0)\n",
    "clf.fit(points_data, points_target_x)\n"
   ]
  },
  {
   "cell_type": "code",
   "execution_count": 22,
   "metadata": {},
   "outputs": [
    {
     "name": "stderr",
     "output_type": "stream",
     "text": [
      "/Users/alew/py3/lib/python3.6/site-packages/sklearn/utils/deprecation.py:125: FutureWarning: You are accessing a training score ('mean_train_score'), which will not be available by default any more in 0.21. If you need training scores, please set return_train_score=True\n",
      "  warnings.warn(*warn_args, **warn_kwargs)\n"
     ]
    },
    {
     "data": {
      "text/html": [
       "<h3> KNeighborsRegressor: top 5 combinaciones  </h3>"
      ],
      "text/plain": [
       "<IPython.core.display.HTML object>"
      ]
     },
     "metadata": {},
     "output_type": "display_data"
    },
    {
     "data": {
      "text/html": [
       "<div>\n",
       "<style scoped>\n",
       "    .dataframe tbody tr th:only-of-type {\n",
       "        vertical-align: middle;\n",
       "    }\n",
       "\n",
       "    .dataframe tbody tr th {\n",
       "        vertical-align: top;\n",
       "    }\n",
       "\n",
       "    .dataframe thead th {\n",
       "        text-align: right;\n",
       "    }\n",
       "</style>\n",
       "<table border=\"1\" class=\"dataframe\">\n",
       "  <thead>\n",
       "    <tr style=\"text-align: right;\">\n",
       "      <th></th>\n",
       "      <th>n_neighbors</th>\n",
       "      <th>p</th>\n",
       "      <th>weights</th>\n",
       "      <th>mean_score_validation</th>\n",
       "      <th>mean_score_training</th>\n",
       "    </tr>\n",
       "  </thead>\n",
       "  <tbody>\n",
       "    <tr>\n",
       "      <th>51</th>\n",
       "      <td>13</td>\n",
       "      <td>2</td>\n",
       "      <td>distance</td>\n",
       "      <td>-241.868745</td>\n",
       "      <td>-7.232952</td>\n",
       "    </tr>\n",
       "    <tr>\n",
       "      <th>55</th>\n",
       "      <td>14</td>\n",
       "      <td>2</td>\n",
       "      <td>distance</td>\n",
       "      <td>-242.064248</td>\n",
       "      <td>-7.232952</td>\n",
       "    </tr>\n",
       "    <tr>\n",
       "      <th>47</th>\n",
       "      <td>12</td>\n",
       "      <td>2</td>\n",
       "      <td>distance</td>\n",
       "      <td>-242.850636</td>\n",
       "      <td>-7.232952</td>\n",
       "    </tr>\n",
       "    <tr>\n",
       "      <th>41</th>\n",
       "      <td>11</td>\n",
       "      <td>1</td>\n",
       "      <td>distance</td>\n",
       "      <td>-243.087763</td>\n",
       "      <td>-7.232952</td>\n",
       "    </tr>\n",
       "    <tr>\n",
       "      <th>53</th>\n",
       "      <td>14</td>\n",
       "      <td>1</td>\n",
       "      <td>distance</td>\n",
       "      <td>-243.505413</td>\n",
       "      <td>-7.232952</td>\n",
       "    </tr>\n",
       "  </tbody>\n",
       "</table>\n",
       "</div>"
      ],
      "text/plain": [
       "    n_neighbors  p   weights  mean_score_validation  mean_score_training\n",
       "51           13  2  distance            -241.868745            -7.232952\n",
       "55           14  2  distance            -242.064248            -7.232952\n",
       "47           12  2  distance            -242.850636            -7.232952\n",
       "41           11  1  distance            -243.087763            -7.232952\n",
       "53           14  1  distance            -243.505413            -7.232952"
      ]
     },
     "metadata": {},
     "output_type": "display_data"
    }
   ],
   "source": [
    "from IPython.display import display, HTML\n",
    "\n",
    "def show_grid_results(clf, n):\n",
    "    df = pd.DataFrame(clf.cv_results_[\"params\"])\n",
    "    df[\"mean_score_validation\"] = clf.cv_results_[\"mean_test_score\"]\n",
    "    df[\"mean_score_training\"] = clf.cv_results_[\"mean_train_score\"]\n",
    "    display(HTML(\"<h3> {}: top {} combinaciones  </h3>\".format(clf.estimator.__class__.__name__, n)))\n",
    "    display(df.sort_values(by=\"mean_score_validation\", ascending=False).head(n))\n",
    "    \n",
    "    \n",
    "show_grid_results(clf,5)"
   ]
  },
  {
   "cell_type": "markdown",
   "metadata": {},
   "source": [
    "### Classification grid search"
   ]
  },
  {
   "cell_type": "code",
   "execution_count": 14,
   "metadata": {},
   "outputs": [
    {
     "name": "stdout",
     "output_type": "stream",
     "text": [
      "{'n_neighbors': 1, 'p': 1, 'weights': 'uniform'}\n",
      "mean absolute error 469.1748955461172\n",
      "{'n_neighbors': 1, 'p': 1, 'weights': 'distance'}\n",
      "mean absolute error 464.9469435573568\n",
      "{'n_neighbors': 1, 'p': 2, 'weights': 'uniform'}\n",
      "mean absolute error 467.65001034718716\n",
      "{'n_neighbors': 1, 'p': 2, 'weights': 'distance'}\n",
      "mean absolute error 469.0954742076589\n",
      "{'n_neighbors': 2, 'p': 1, 'weights': 'uniform'}\n",
      "mean absolute error 457.6011793555714\n",
      "{'n_neighbors': 2, 'p': 1, 'weights': 'distance'}\n",
      "mean absolute error 459.0267286278163\n",
      "{'n_neighbors': 2, 'p': 2, 'weights': 'uniform'}\n",
      "mean absolute error 459.056081896696\n",
      "{'n_neighbors': 2, 'p': 2, 'weights': 'distance'}\n",
      "mean absolute error 453.7457755700266\n",
      "{'n_neighbors': 3, 'p': 1, 'weights': 'uniform'}\n",
      "mean absolute error 468.71456378187804\n",
      "{'n_neighbors': 3, 'p': 1, 'weights': 'distance'}\n",
      "mean absolute error 447.0545886313622\n",
      "{'n_neighbors': 3, 'p': 2, 'weights': 'uniform'}\n",
      "mean absolute error 469.9810419117909\n",
      "{'n_neighbors': 3, 'p': 2, 'weights': 'distance'}\n",
      "mean absolute error 457.03796513051714\n",
      "{'n_neighbors': 4, 'p': 1, 'weights': 'uniform'}\n",
      "mean absolute error 502.63449042897275\n",
      "{'n_neighbors': 4, 'p': 1, 'weights': 'distance'}\n",
      "mean absolute error 471.01535779026074\n",
      "{'n_neighbors': 4, 'p': 2, 'weights': 'uniform'}\n",
      "mean absolute error 487.92899903790766\n",
      "{'n_neighbors': 4, 'p': 2, 'weights': 'distance'}\n",
      "mean absolute error 461.9691854762301\n",
      "{'n_neighbors': 5, 'p': 1, 'weights': 'uniform'}\n",
      "mean absolute error 496.2174704084767\n",
      "{'n_neighbors': 5, 'p': 1, 'weights': 'distance'}\n",
      "mean absolute error 458.94741328854616\n",
      "{'n_neighbors': 5, 'p': 2, 'weights': 'uniform'}\n",
      "mean absolute error 501.62763151301834\n",
      "{'n_neighbors': 5, 'p': 2, 'weights': 'distance'}\n",
      "mean absolute error 457.7522472264369\n",
      "{'n_neighbors': 6, 'p': 1, 'weights': 'uniform'}\n",
      "mean absolute error 509.0158433390343\n",
      "{'n_neighbors': 6, 'p': 1, 'weights': 'distance'}\n",
      "mean absolute error 459.0891825574214\n",
      "{'n_neighbors': 6, 'p': 2, 'weights': 'uniform'}\n",
      "mean absolute error 520.5525122249661\n",
      "{'n_neighbors': 6, 'p': 2, 'weights': 'distance'}\n",
      "mean absolute error 456.3389187069004\n",
      "{'n_neighbors': 7, 'p': 1, 'weights': 'uniform'}\n",
      "mean absolute error 521.104032444072\n",
      "{'n_neighbors': 7, 'p': 1, 'weights': 'distance'}\n",
      "mean absolute error 447.3116610501191\n",
      "{'n_neighbors': 7, 'p': 2, 'weights': 'uniform'}\n",
      "mean absolute error 524.6584554938562\n",
      "{'n_neighbors': 7, 'p': 2, 'weights': 'distance'}\n",
      "mean absolute error 471.45662706171953\n",
      "{'n_neighbors': 8, 'p': 1, 'weights': 'uniform'}\n",
      "mean absolute error 533.4363778227798\n",
      "{'n_neighbors': 8, 'p': 1, 'weights': 'distance'}\n",
      "mean absolute error 459.06445467538094\n",
      "{'n_neighbors': 8, 'p': 2, 'weights': 'uniform'}\n",
      "mean absolute error 540.4993249606049\n",
      "{'n_neighbors': 8, 'p': 2, 'weights': 'distance'}\n",
      "mean absolute error 466.8562891165785\n",
      "{'n_neighbors': 9, 'p': 1, 'weights': 'uniform'}\n",
      "mean absolute error 547.7132393636\n",
      "{'n_neighbors': 9, 'p': 1, 'weights': 'distance'}\n",
      "mean absolute error 454.0289629570663\n",
      "{'n_neighbors': 9, 'p': 2, 'weights': 'uniform'}\n",
      "mean absolute error 543.3427509088505\n",
      "{'n_neighbors': 9, 'p': 2, 'weights': 'distance'}\n",
      "mean absolute error 466.06149905210805\n",
      "{'n_neighbors': 10, 'p': 1, 'weights': 'uniform'}\n",
      "mean absolute error 541.1157240056962\n",
      "{'n_neighbors': 10, 'p': 1, 'weights': 'distance'}\n",
      "mean absolute error 455.2542583610681\n",
      "{'n_neighbors': 10, 'p': 2, 'weights': 'uniform'}\n",
      "mean absolute error 558.7815178816488\n",
      "{'n_neighbors': 10, 'p': 2, 'weights': 'distance'}\n",
      "mean absolute error 469.5699527190689\n",
      "{'n_neighbors': 11, 'p': 1, 'weights': 'uniform'}\n",
      "mean absolute error 570.1900132867278\n",
      "{'n_neighbors': 11, 'p': 1, 'weights': 'distance'}\n",
      "mean absolute error 455.0262127811041\n",
      "{'n_neighbors': 11, 'p': 2, 'weights': 'uniform'}\n",
      "mean absolute error 559.9072661832545\n",
      "{'n_neighbors': 11, 'p': 2, 'weights': 'distance'}\n",
      "mean absolute error 481.8870420740094\n",
      "{'n_neighbors': 12, 'p': 1, 'weights': 'uniform'}\n",
      "mean absolute error 584.9864158008302\n",
      "{'n_neighbors': 12, 'p': 1, 'weights': 'distance'}\n",
      "mean absolute error 452.78182390486717\n",
      "{'n_neighbors': 12, 'p': 2, 'weights': 'uniform'}\n",
      "mean absolute error 560.3251590902655\n",
      "{'n_neighbors': 12, 'p': 2, 'weights': 'distance'}\n",
      "mean absolute error 456.8721616900293\n",
      "{'n_neighbors': 13, 'p': 1, 'weights': 'uniform'}\n",
      "mean absolute error 581.9470284027093\n",
      "{'n_neighbors': 13, 'p': 1, 'weights': 'distance'}\n",
      "mean absolute error 457.33649154011584\n",
      "{'n_neighbors': 13, 'p': 2, 'weights': 'uniform'}\n",
      "mean absolute error 574.2226013490924\n",
      "{'n_neighbors': 13, 'p': 2, 'weights': 'distance'}\n",
      "mean absolute error 448.5512394250935\n",
      "{'n_neighbors': 14, 'p': 1, 'weights': 'uniform'}\n",
      "mean absolute error 585.3104643281613\n",
      "{'n_neighbors': 14, 'p': 1, 'weights': 'distance'}\n",
      "mean absolute error 435.4399741141777\n",
      "{'n_neighbors': 14, 'p': 2, 'weights': 'uniform'}\n",
      "mean absolute error 573.1610467141717\n",
      "{'n_neighbors': 14, 'p': 2, 'weights': 'distance'}\n",
      "mean absolute error 475.37435933580656\n"
     ]
    }
   ],
   "source": [
    "from sklearn.model_selection import ParameterGrid\n",
    "        \n",
    "knn_params = {\n",
    "    \"n_neighbors\" : np.arange(1, 15),\n",
    "    \"weights\" : [\"uniform\", \"distance\"],\n",
    "    \"p\" : [1, 2]\n",
    "}\n",
    " \n",
    "for params in ParameterGrid(knn_params):\n",
    "    evaluate_knn_classifier(points_data_np, points_target_np, **params)\n"
   ]
  },
  {
   "cell_type": "code",
   "execution_count": null,
   "metadata": {},
   "outputs": [],
   "source": []
  },
  {
   "cell_type": "code",
   "execution_count": null,
   "metadata": {},
   "outputs": [],
   "source": []
  },
  {
   "cell_type": "code",
   "execution_count": null,
   "metadata": {},
   "outputs": [],
   "source": []
  },
  {
   "cell_type": "code",
   "execution_count": null,
   "metadata": {},
   "outputs": [],
   "source": []
  },
  {
   "cell_type": "code",
   "execution_count": null,
   "metadata": {},
   "outputs": [],
   "source": []
  },
  {
   "cell_type": "markdown",
   "metadata": {},
   "source": [
    "### Error analysis"
   ]
  },
  {
   "cell_type": "code",
   "execution_count": null,
   "metadata": {},
   "outputs": [],
   "source": []
  }
 ],
 "metadata": {
  "kernelspec": {
   "display_name": "Python 3",
   "language": "python",
   "name": "python3"
  },
  "language_info": {
   "codemirror_mode": {
    "name": "ipython",
    "version": 3
   },
   "file_extension": ".py",
   "mimetype": "text/x-python",
   "name": "python",
   "nbconvert_exporter": "python",
   "pygments_lexer": "ipython3",
   "version": "3.6.5"
  }
 },
 "nbformat": 4,
 "nbformat_minor": 2
}
