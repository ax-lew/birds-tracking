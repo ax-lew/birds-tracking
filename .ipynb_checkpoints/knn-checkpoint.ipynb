{
 "cells": [
  {
   "cell_type": "code",
   "execution_count": 1,
   "metadata": {},
   "outputs": [],
   "source": [
    "import pyspark\n",
    "\n",
    "sc = pyspark.sql.SparkSession.Builder().getOrCreate()"
   ]
  },
  {
   "cell_type": "markdown",
   "metadata": {},
   "source": [
    "## Levanto los archivos"
   ]
  },
  {
   "cell_type": "code",
   "execution_count": 2,
   "metadata": {},
   "outputs": [],
   "source": [
    "import json"
   ]
  },
  {
   "cell_type": "code",
   "execution_count": 3,
   "metadata": {},
   "outputs": [],
   "source": [
    "points_recep = sc.read.json('datos/points-recep.jsonlines').rdd"
   ]
  },
  {
   "cell_type": "code",
   "execution_count": 51,
   "metadata": {},
   "outputs": [
    {
     "data": {
      "text/plain": [
       "[Row(Fecha='02/06/2018', Fin='16:58:40', Inicio='16:56:40', Punto=218, Tag='18', recep_0=[], recep_1=[], recep_2=[], recep_3=[91, 53], timestamp_fin='2018-06-02 16:58:40', timestamp_inicio='2018-06-02 16:56:40', x=463990.574953143, y=6111177.80221416)]"
      ]
     },
     "execution_count": 51,
     "metadata": {},
     "output_type": "execute_result"
    }
   ],
   "source": [
    "points_recep.filter(lambda x: x['recep_3'] != []).take(1)"
   ]
  },
  {
   "cell_type": "code",
   "execution_count": 6,
   "metadata": {},
   "outputs": [],
   "source": [
    "non_empty_points_recp = points_recep.filter(lambda x: len(x['recep_0']+x['recep_1']+x['recep_2']+x['recep_3']) > 0)\n"
   ]
  },
  {
   "cell_type": "markdown",
   "metadata": {},
   "source": [
    "### Me quedo con una sola emision por punto"
   ]
  },
  {
   "cell_type": "code",
   "execution_count": null,
   "metadata": {},
   "outputs": [],
   "source": [
    "unique_points = non_empty_points_recp.groupBy(lambda x: x['Punto']).map(lambda x: list(x[1])[0])"
   ]
  },
  {
   "cell_type": "markdown",
   "metadata": {},
   "source": [
    "### Me quedo solo con puntos que tengan data de mas de una antena"
   ]
  },
  {
   "cell_type": "code",
   "execution_count": 42,
   "metadata": {},
   "outputs": [],
   "source": [
    "#unique_points = unique_points.filter(lambda x: int(len(x['recep_0']) > 0) + int(len(x['recep_1']) > 0) + int(len(x['recep_2']) > 0) + int(len(x['recep_3']) > 0) > 1)\n",
    "\n"
   ]
  },
  {
   "cell_type": "markdown",
   "metadata": {},
   "source": [
    "### Regresion por eje"
   ]
  },
  {
   "cell_type": "code",
   "execution_count": 43,
   "metadata": {},
   "outputs": [],
   "source": [
    "import numpy as np\n",
    "\n",
    "def generate_attrs(row):\n",
    "    #f = lambda l: len(l)\n",
    "    f = lambda l: float(np.mean(l) if len(l) > 0 else 0)\n",
    "    data = {\n",
    "        'recep_0': f(row['recep_0']),\n",
    "        'recep_1': f(row['recep_1']),\n",
    "        'recep_2': f(row['recep_2']),\n",
    "        'recep_3': f(row['recep_3'])\n",
    "    }\n",
    "    target_x = row['x']\n",
    "    target_y = row['y']\n",
    "    return {'data': data, 'target_x': target_x, 'target_y': target_y}\n",
    "    \n",
    "points = unique_points.map(generate_attrs)"
   ]
  },
  {
   "cell_type": "code",
   "execution_count": 44,
   "metadata": {},
   "outputs": [],
   "source": [
    "import pandas as pd\n",
    "\n",
    "points_target_x = pd.DataFrame(points.map(lambda x: x['target_x']).collect())\n",
    "points_target_y = pd.DataFrame(points.map(lambda x: x['target_y']).collect())\n",
    "points_data = pd.DataFrame(points.map(lambda x: x['data']).collect())"
   ]
  },
  {
   "cell_type": "code",
   "execution_count": 45,
   "metadata": {},
   "outputs": [
    {
     "name": "stdout",
     "output_type": "stream",
     "text": [
      "prediccion eje x\n",
      "cross val mae: [-165.48129858 -196.02377296 -369.80931374 -260.43770797 -289.79595259]\n",
      "prediccion eje y\n",
      "cross val mae: [-346.23796561 -232.58303659 -285.43055636 -199.53529696 -155.06426071]\n"
     ]
    }
   ],
   "source": [
    "from sklearn.neighbors import KNeighborsRegressor\n",
    "from sklearn.model_selection import cross_val_score\n",
    "\n",
    "def eval_knn(data, target):\n",
    "    clf = KNeighborsRegressor(n_neighbors=5)\n",
    "    scores = cross_val_score(clf, data, target, cv=5, scoring='neg_mean_absolute_error')\n",
    "    print('cross val mae: {}'.format(scores))\n",
    "    \n",
    "print('prediccion eje x')\n",
    "eval_knn(points_data, points_target_x)\n",
    "print('prediccion eje y')\n",
    "eval_knn(points_data, points_target_y)"
   ]
  },
  {
   "cell_type": "code",
   "execution_count": null,
   "metadata": {},
   "outputs": [],
   "source": []
  },
  {
   "cell_type": "code",
   "execution_count": null,
   "metadata": {},
   "outputs": [],
   "source": []
  },
  {
   "cell_type": "markdown",
   "metadata": {},
   "source": [
    "### Clasificacion de puntos"
   ]
  },
  {
   "cell_type": "code",
   "execution_count": 46,
   "metadata": {},
   "outputs": [],
   "source": [
    "def generate_attrs(row):\n",
    "    #f = lambda l: len(l)\n",
    "    f = lambda l: float(np.mean(l) if len(l) > 0 else 0)\n",
    "    data = {\n",
    "        'recep_0': f(row['recep_0']),\n",
    "        'recep_1': f(row['recep_1']),\n",
    "        'recep_2': f(row['recep_2']),\n",
    "        'recep_3': f(row['recep_3'])\n",
    "    }\n",
    "    target = row['x']\n",
    "    return {'data': data, 'target': row['Punto']}\n",
    "    \n",
    "points = unique_points.map(generate_attrs)\n",
    "\n",
    "\n",
    "import pandas as pd\n",
    "\n",
    "points_target = pd.DataFrame(points.map(lambda x: x['target']).collect())\n",
    "points_data = pd.DataFrame(points.map(lambda x: x['data']).collect())\n",
    "\n"
   ]
  },
  {
   "cell_type": "code",
   "execution_count": 47,
   "metadata": {},
   "outputs": [
    {
     "name": "stdout",
     "output_type": "stream",
     "text": [
      "mean absolute error 526.1846431709879\n",
      "mean absolute error 398.336976494797\n",
      "mean absolute error 499.22007681471473\n",
      "mean absolute error 506.64639439536364\n",
      "mean absolute error 511.8020749858015\n"
     ]
    }
   ],
   "source": [
    "from sklearn.neighbors import KNeighborsClassifier\n",
    "from sklearn.model_selection import KFold \n",
    "import math\n",
    "dict_coordenadas = points_recep.map(lambda x: (x['Punto'],(x['x'], x['y']))).collectAsMap()\n",
    "global dict_coordenadas\n",
    "\n",
    "def distance(p1, p2):\n",
    "    return math.sqrt((p1[0]-p2[0])**2+(p1[1]-p2[1])**2)\n",
    "\n",
    "def calculate_mae_distance(predictions, real):\n",
    "    sum_error = 0\n",
    "    for i in range(len(predictions)):\n",
    "        pred_position = dict_coordenadas[predictions[i]]\n",
    "        real_position = dict_coordenadas[real[i]]\n",
    "        sum_error += distance(pred_position, real_position)\n",
    "    return sum_error/len(predictions)\n",
    "    \n",
    "\n",
    "points_data_np = np.array(points_data)\n",
    "points_target_np = np.array(points_target).ravel()\n",
    "    \n",
    "\n",
    "\n",
    "clf = KNeighborsClassifier(n_neighbors=5)\n",
    "kf = KFold(n_splits=5, shuffle=True)\n",
    "for train_index, test_index in kf.split(points_data):\n",
    "    X_train, X_test = points_data_np[train_index], points_data_np[test_index]\n",
    "    y_train, y_test = points_target_np[train_index], points_target_np[test_index]\n",
    "    \n",
    "    clf.fit(X_train, y_train)\n",
    "\n",
    "    predictions = clf.predict(X_test)\n",
    "    mae = calculate_mae_distance(predictions, y_test)\n",
    "    print('mean absolute error {}'.format(mae))\n",
    "\n"
   ]
  },
  {
   "cell_type": "code",
   "execution_count": null,
   "metadata": {},
   "outputs": [],
   "source": []
  }
 ],
 "metadata": {
  "kernelspec": {
   "display_name": "Python 3",
   "language": "python",
   "name": "python3"
  },
  "language_info": {
   "codemirror_mode": {
    "name": "ipython",
    "version": 3
   },
   "file_extension": ".py",
   "mimetype": "text/x-python",
   "name": "python",
   "nbconvert_exporter": "python",
   "pygments_lexer": "ipython3",
   "version": "3.6.5"
  }
 },
 "nbformat": 4,
 "nbformat_minor": 2
}
