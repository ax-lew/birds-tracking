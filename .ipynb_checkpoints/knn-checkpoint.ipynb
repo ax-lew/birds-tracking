{
 "cells": [
  {
   "cell_type": "code",
   "execution_count": 1,
   "metadata": {},
   "outputs": [],
   "source": [
    "import pyspark\n",
    "\n",
    "sc = pyspark.sql.SparkSession.Builder().getOrCreate()"
   ]
  },
  {
   "cell_type": "markdown",
   "metadata": {},
   "source": [
    "## Levanto los archivos"
   ]
  },
  {
   "cell_type": "code",
   "execution_count": 2,
   "metadata": {},
   "outputs": [],
   "source": [
    "import json"
   ]
  },
  {
   "cell_type": "code",
   "execution_count": 5,
   "metadata": {},
   "outputs": [],
   "source": [
    "points_recep_df = sc.read.json('datos/points-recep.jsonlines')"
   ]
  },
  {
   "cell_type": "markdown",
   "metadata": {},
   "source": [
    "### Agrego datos de la 4ta antena a todos las emisiones."
   ]
  },
  {
   "cell_type": "code",
   "execution_count": 31,
   "metadata": {},
   "outputs": [],
   "source": [
    "join=points_recep_df.drop('recep_3').join(points_recep_df.filter('size(recep_3) > 0').select('Punto', 'recep_3'), 'Punto', 'left_outer')\n",
    "\n",
    "\n"
   ]
  },
  {
   "cell_type": "code",
   "execution_count": 35,
   "metadata": {
    "scrolled": true
   },
   "outputs": [],
   "source": [
    "def fix_null_recep(row):\n",
    "    row_dict = row.asDict()\n",
    "    if row_dict['recep_3'] is None:\n",
    "        row_dict['recep_3'] = []\n",
    "    return row_dict\n",
    "\n",
    "points_recep = join.rdd.map(fix_null_recep)"
   ]
  },
  {
   "cell_type": "code",
   "execution_count": 36,
   "metadata": {},
   "outputs": [
    {
     "data": {
      "text/plain": [
       "[{'Fecha': u'27/01/2018',\n",
       "  'Fin': u'17:57:00',\n",
       "  'Inicio': u'17:55:00',\n",
       "  'Punto': 7,\n",
       "  'Tag': u'12',\n",
       "  'recep_0': [],\n",
       "  'recep_1': [],\n",
       "  'recep_2': [],\n",
       "  'recep_3': [],\n",
       "  'timestamp_fin': u'2018-01-27 17:57:00',\n",
       "  'timestamp_inicio': u'2018-01-27 17:55:00',\n",
       "  'x': 463183.096026691,\n",
       "  'y': 6111738.93734562}]"
      ]
     },
     "execution_count": 36,
     "metadata": {},
     "output_type": "execute_result"
    }
   ],
   "source": [
    "points_recep.take(1)"
   ]
  },
  {
   "cell_type": "code",
   "execution_count": 37,
   "metadata": {},
   "outputs": [],
   "source": [
    "non_empty_points_recp = points_recep.filter(lambda x: len(x['recep_0']+x['recep_1']+x['recep_2']+x['recep_3']) > 0)\n"
   ]
  },
  {
   "cell_type": "markdown",
   "metadata": {},
   "source": [
    "### Me quedo con una sola emision por punto"
   ]
  },
  {
   "cell_type": "code",
   "execution_count": 50,
   "metadata": {},
   "outputs": [],
   "source": [
    "unique_points = non_empty_points_recp.groupBy(lambda x: x['Punto']).map(lambda x: list(x[1])[0])"
   ]
  },
  {
   "cell_type": "code",
   "execution_count": null,
   "metadata": {},
   "outputs": [],
   "source": []
  },
  {
   "cell_type": "markdown",
   "metadata": {},
   "source": [
    "### Regresion por eje x"
   ]
  },
  {
   "cell_type": "code",
   "execution_count": 100,
   "metadata": {},
   "outputs": [],
   "source": [
    "import numpy as np\n",
    "\n",
    "def generate_attrs(row):\n",
    "    #f = lambda l: len(l)\n",
    "    f = lambda l: float(np.mean(l) if len(l) > 0 else 0)\n",
    "    data = {\n",
    "        'recep_0': f(row['recep_0']),\n",
    "        'recep_1': f(row['recep_1']),\n",
    "        'recep_2': f(row['recep_2']),\n",
    "        'recep_3': f(row['recep_3'])\n",
    "    }\n",
    "    target = row['y']\n",
    "    return {'data': data, 'target': target}\n",
    "    \n",
    "points = unique_points.map(generate_attrs)"
   ]
  },
  {
   "cell_type": "code",
   "execution_count": 102,
   "metadata": {},
   "outputs": [],
   "source": [
    "import pandas as pd\n",
    "\n",
    "points_target = pd.DataFrame(points.map(lambda x: x['target']).collect())\n",
    "points_data = pd.DataFrame(points.map(lambda x: x['data']).collect())"
   ]
  },
  {
   "cell_type": "code",
   "execution_count": 104,
   "metadata": {},
   "outputs": [
    {
     "name": "stdout",
     "output_type": "stream",
     "text": [
      "cross val mae: [-461.36813832 -377.50476812 -333.01003056 -194.32327923 -214.0366668 ]\n"
     ]
    }
   ],
   "source": [
    "from sklearn.neighbors import KNeighborsRegressor\n",
    "from sklearn.model_selection import cross_val_score\n",
    "\n",
    "clf = KNeighborsRegressor(n_neighbors=5)\n",
    "scores = cross_val_score(clf, points_data, points_target, cv=5, scoring='neg_mean_absolute_error')\n",
    "print('cross val mae: {}'.format(scores))"
   ]
  },
  {
   "cell_type": "code",
   "execution_count": null,
   "metadata": {},
   "outputs": [],
   "source": []
  },
  {
   "cell_type": "code",
   "execution_count": null,
   "metadata": {},
   "outputs": [],
   "source": []
  },
  {
   "cell_type": "markdown",
   "metadata": {},
   "source": [
    "### Clasificacion de puntos"
   ]
  },
  {
   "cell_type": "code",
   "execution_count": 63,
   "metadata": {},
   "outputs": [],
   "source": [
    "def generate_attrs(row):\n",
    "    #f = lambda l: len(l)\n",
    "    f = lambda l: float(np.mean(l) if len(l) > 0 else 0)\n",
    "    data = {\n",
    "        'recep_0': f(row['recep_0']),\n",
    "        'recep_1': f(row['recep_1']),\n",
    "        'recep_2': f(row['recep_2']),\n",
    "        'recep_3': f(row['recep_3'])\n",
    "    }\n",
    "    target = row['x']\n",
    "    return {'data': data, 'target': row['Punto']}\n",
    "    \n",
    "points = unique_points.map(generate_attrs)\n",
    "\n",
    "\n",
    "import pandas as pd\n",
    "\n",
    "points_target = pd.DataFrame(points.map(lambda x: x['target']).collect())\n",
    "points_data = pd.DataFrame(points.map(lambda x: x['data']).collect())\n",
    "\n"
   ]
  },
  {
   "cell_type": "code",
   "execution_count": 99,
   "metadata": {},
   "outputs": [
    {
     "name": "stdout",
     "output_type": "stream",
     "text": [
      "mean absolute error 456.709923989\n",
      "mean absolute error 574.024182072\n",
      "mean absolute error 545.169045405\n",
      "mean absolute error 525.940451002\n",
      "mean absolute error 469.286738142\n"
     ]
    }
   ],
   "source": [
    "from sklearn.neighbors import KNeighborsClassifier\n",
    "from sklearn.model_selection import KFold \n",
    "import math\n",
    "dict_coordenadas = points_recep.map(lambda x: (x['Punto'],(x['x'], x['y']))).collectAsMap()\n",
    "global dict_coordenadas\n",
    "\n",
    "def distance(p1, p2):\n",
    "    return math.sqrt((p1[0]-p2[0])**2+(p1[1]-p2[1])**2)\n",
    "\n",
    "def calculate_mae_distance(predictions, real):\n",
    "    sum_error = 0\n",
    "    for i in range(len(predictions)):\n",
    "        pred_position = dict_coordenadas[predictions[i]]\n",
    "        real_position = dict_coordenadas[real[i]]\n",
    "        sum_error += distance(pred_position, real_position)\n",
    "    return sum_error/len(predictions)\n",
    "    \n",
    "\n",
    "points_data_np = np.array(points_data)\n",
    "points_target_np = np.array(points_target).ravel()\n",
    "    \n",
    "\n",
    "\n",
    "clf = KNeighborsClassifier(n_neighbors=5)\n",
    "kf = KFold(n_splits=5, shuffle=True)\n",
    "for train_index, test_index in kf.split(points_data):\n",
    "    X_train, X_test = points_data_np[train_index], points_data_np[test_index]\n",
    "    y_train, y_test = points_target_np[train_index], points_target_np[test_index]\n",
    "    \n",
    "    clf.fit(X_train, y_train)\n",
    "\n",
    "    predictions = clf.predict(X_test)\n",
    "    mae = calculate_mae_distance(predictions, y_test)\n",
    "    print('mean absolute error {}'.format(mae))\n",
    "\n"
   ]
  },
  {
   "cell_type": "code",
   "execution_count": null,
   "metadata": {},
   "outputs": [],
   "source": []
  }
 ],
 "metadata": {
  "kernelspec": {
   "display_name": "Python 2",
   "language": "python",
   "name": "python2"
  },
  "language_info": {
   "codemirror_mode": {
    "name": "ipython",
    "version": 2
   },
   "file_extension": ".py",
   "mimetype": "text/x-python",
   "name": "python",
   "nbconvert_exporter": "python",
   "pygments_lexer": "ipython2",
   "version": "2.7.15"
  }
 },
 "nbformat": 4,
 "nbformat_minor": 2
}
