{
 "cells": [
  {
   "cell_type": "code",
   "execution_count": 1,
   "metadata": {},
   "outputs": [],
   "source": [
    "import pyspark\n",
    "from datetime import datetime, timedelta\n"
   ]
  },
  {
   "cell_type": "code",
   "execution_count": 2,
   "metadata": {},
   "outputs": [],
   "source": [
    "sc = (\n",
    "    pyspark.sql.SparkSession\n",
    "    .builder\n",
    "    .config(\"spark.executor.heartbeatInterval\",\"36000s\")\n",
    "    .config(\"spark.network.timeout\",\"36001s\")\n",
    "    .config('spark.executor.memory', '8g')\n",
    "    \n",
    "    .getOrCreate()\n",
    ")"
   ]
  },
  {
   "cell_type": "code",
   "execution_count": null,
   "metadata": {},
   "outputs": [],
   "source": [
    "'''\n",
    "sc = (\n",
    "    pyspark.sql.SparkSession.Builder()\n",
    "    .getOrCreate()\n",
    ")\n",
    "'''"
   ]
  },
  {
   "cell_type": "markdown",
   "metadata": {},
   "source": [
    "## Levanto los archivos"
   ]
  },
  {
   "cell_type": "code",
   "execution_count": null,
   "metadata": {},
   "outputs": [],
   "source": [
    "FILE_CALIBRACION = \"datos/DatosCalibracion.csv\"\n",
    "\n",
    "FILE_PATH = '../Tracking/{}/2018/{}.txt'\n",
    "ANTENNAS_NAMES = [\"RC1\", \"RC2\", \"RC-D1\", \"RC-D2\"] \n",
    "\n",
    "def rdd_from_file(filename):\n",
    "    return sc.read.csv(filename, header=True, inferSchema=True).rdd\n",
    "\n",
    "\n",
    "cal_rdd = rdd_from_file(FILE_CALIBRACION)\n",
    "recep_rdd = [rdd_from_file(FILE_PATH.format(name, name)) for name in ANTENNAS_NAMES]"
   ]
  },
  {
   "cell_type": "code",
   "execution_count": null,
   "metadata": {},
   "outputs": [],
   "source": []
  },
  {
   "cell_type": "markdown",
   "metadata": {},
   "source": [
    "## Utils"
   ]
  },
  {
   "cell_type": "code",
   "execution_count": 12,
   "metadata": {},
   "outputs": [],
   "source": [
    "import json\n",
    "import os  \n",
    "\n",
    "def apply_all(list_rdd, f):\n",
    "    return list(map(f, list_rdd)) \n",
    "\n",
    "def remove_no_receptions(l):\n",
    "    return filter(lambda e: e > 0,l)\n",
    "\n",
    "\n",
    "def my_converter(o):\n",
    "    if isinstance(o, datetime):\n",
    "        return o.__str__()"
   ]
  },
  {
   "cell_type": "markdown",
   "metadata": {},
   "source": [
    "## Agrego timestamp"
   ]
  },
  {
   "cell_type": "code",
   "execution_count": null,
   "metadata": {},
   "outputs": [],
   "source": [
    "def add_timestamp(row, date_field, time_field, suffix = ''):\n",
    "    row_dict = row if isinstance(row, (dict)) else row.asDict()\n",
    "    row_dict['timestamp'+suffix] = datetime.strptime(row[date_field]+' '+ row[time_field], '%m/%d/%y %H:%M:%S')\n",
    "    return row_dict\n",
    "    \n",
    "recep_rdd = apply_all(recep_rdd, lambda recep: recep.map(lambda x: add_timestamp(x, 'Date', 'Time'))) \n",
    "\n"
   ]
  },
  {
   "cell_type": "markdown",
   "metadata": {},
   "source": [
    "## Filtro los datos de calibración vacios"
   ]
  },
  {
   "cell_type": "code",
   "execution_count": null,
   "metadata": {},
   "outputs": [],
   "source": [
    "cal_rdd = cal_rdd.filter(lambda x: x['Fecha'] != 'NA')"
   ]
  },
  {
   "cell_type": "markdown",
   "metadata": {},
   "source": [
    "## Saco recepciones que no son de pajaros"
   ]
  },
  {
   "cell_type": "code",
   "execution_count": null,
   "metadata": {},
   "outputs": [],
   "source": [
    "cal_tags = cal_rdd.map(lambda x: int(x['Tag'])).distinct().collect()\n",
    "cal_tags.append(999)\n",
    "birds_recep_rdd = apply_all(recep_rdd, lambda recep: recep.filter(lambda x: x['Tag ID'] not in cal_tags))"
   ]
  },
  {
   "cell_type": "markdown",
   "metadata": {},
   "source": [
    "## Junto todas las antenas"
   ]
  },
  {
   "cell_type": "code",
   "execution_count": null,
   "metadata": {},
   "outputs": [],
   "source": [
    "merged_birds_recep = birds_recep_rdd[0].union(birds_recep_rdd[1]).union(birds_recep_rdd[2]).union(birds_recep_rdd[3])\n"
   ]
  },
  {
   "cell_type": "markdown",
   "metadata": {},
   "source": [
    "## Ordeno por fecha de manera creciente"
   ]
  },
  {
   "cell_type": "code",
   "execution_count": null,
   "metadata": {},
   "outputs": [],
   "source": [
    "merged_birds_recep = merged_birds_recep.sortBy(lambda x: x['timestamp'].timestamp())"
   ]
  },
  {
   "cell_type": "code",
   "execution_count": null,
   "metadata": {},
   "outputs": [],
   "source": []
  },
  {
   "cell_type": "markdown",
   "metadata": {},
   "source": [
    "### Checkpoint"
   ]
  },
  {
   "cell_type": "code",
   "execution_count": 52,
   "metadata": {},
   "outputs": [],
   "source": [
    "TEMP_FILE = 'tmp/checkpoint-nobd.jsonlines'\n",
    "#merged_birds_recep.map(lambda x: json.dumps(x, default=my_converter)).saveAsTextFile(TEMP_FILE)"
   ]
  },
  {
   "cell_type": "code",
   "execution_count": 53,
   "metadata": {},
   "outputs": [],
   "source": [
    "restored = sc.read.json(TEMP_FILE).rdd"
   ]
  },
  {
   "cell_type": "code",
   "execution_count": 54,
   "metadata": {},
   "outputs": [],
   "source": [
    "def cast_timestamp(x):\n",
    "    x = x.asDict()\n",
    "    x['timestamp'] =  datetime.strptime(x['timestamp'], '%Y-%m-%d %H:%M:%S')\n",
    "    return x"
   ]
  },
  {
   "cell_type": "code",
   "execution_count": 55,
   "metadata": {},
   "outputs": [],
   "source": [
    "restored = restored.map(cast_timestamp)"
   ]
  },
  {
   "cell_type": "code",
   "execution_count": 56,
   "metadata": {},
   "outputs": [],
   "source": [
    "merged_birds_recep = restored"
   ]
  },
  {
   "cell_type": "code",
   "execution_count": null,
   "metadata": {},
   "outputs": [],
   "source": []
  },
  {
   "cell_type": "code",
   "execution_count": 57,
   "metadata": {},
   "outputs": [],
   "source": [
    "def time_diff(time1, time2):\n",
    "    return abs((time1-time2).total_seconds())\n"
   ]
  },
  {
   "cell_type": "code",
   "execution_count": 58,
   "metadata": {},
   "outputs": [],
   "source": [
    "def group_antennas_recep(receptions):\n",
    "    res = []\n",
    "    last_recep_timestamp = datetime.min\n",
    "    for recep in receptions:\n",
    "        timestamp = recep['timestamp']\n",
    "        if time_diff(timestamp, last_recep_timestamp) <= 2:\n",
    "            if all([e['Antenna'] != recep['Antenna'] for e in res[-1]]):\n",
    "                res[-1].append(recep)\n",
    "        else:\n",
    "            res.append([recep])\n",
    "        last_recep_timestamp = timestamp\n",
    "    return res\n",
    "\n"
   ]
  },
  {
   "cell_type": "code",
   "execution_count": 59,
   "metadata": {},
   "outputs": [],
   "source": [
    "def format_grouped_emissions(group_emissions, tag_id):\n",
    "    recep_0,recep_1,recep_2,recep_3 = 0,0,0,0\n",
    "    for e in group_emissions:\n",
    "        if e['Antenna'] == 'RC1':    \n",
    "            recep_0 = e['Power']\n",
    "        elif e['Antenna'] == 'RC2':    \n",
    "            recep_1 = e['Power']\n",
    "        elif e['Antenna'] == 'RC-D1':    \n",
    "            recep_2 = e['Power']\n",
    "        elif e['Antenna'] == 'RC-D2':    \n",
    "            recep_3 = e['Power']\n",
    "    return {\n",
    "        'tag_id': tag_id,\n",
    "        'timestamp': group_emissions[0]['timestamp'],\n",
    "        'recep_0': recep_0,\n",
    "        'recep_1': recep_1,\n",
    "        'recep_2': recep_2,\n",
    "        'recep_3': recep_3,\n",
    "    }\n",
    "    \n",
    "    \n",
    "    \n",
    "def format_antennas_recep(group_emissions, tag_id):\n",
    "    return list(map(lambda x: format_grouped_emissions(x, tag_id), group_emissions))\n",
    "    \n",
    "    "
   ]
  },
  {
   "cell_type": "code",
   "execution_count": 60,
   "metadata": {},
   "outputs": [
    {
     "data": {
      "text/plain": [
       "\"\\nfor bird in birds_tags:\\n    if os.path.exists('tmp/birds-data-{}.jsonlines'.format(bird)):\\n        continue\\n    all_receptions_by_birds = []\\n    for i in range(1,len(emissions_dates)):\\n        print(bird, emissions_dates[i-1], emissions_dates[i])\\n        bird_reception = merged_birds_recep.filter(lambda x: x['Tag ID'] == bird and x['Date'] >= emissions_dates[i-1] and x['Date'] < emissions_dates[i]).toLocalIterator()#.collect()\\n        grouped_emissions = group_antennas_recep(bird_reception)\\n        all_receptions_by_birds.extend(format_antennas_recep(grouped_emissions, bird))\\n    all_receptions_rdd = pyspark.SparkContext.getOrCreate().parallelize(all_receptions_by_birds)\\n    all_receptions_rdd.map(lambda x: json.dumps(x, default=my_converter)).saveAsTextFile('tmp/birds-data-{}.jsonlines'.format(bird))\\n\""
      ]
     },
     "execution_count": 60,
     "metadata": {},
     "output_type": "execute_result"
    }
   ],
   "source": [
    "#birds_tags = merged_birds_recep.map(lambda x: x['Tag ID']).distinct().collect()\n",
    "birds_tags = [11, 15, 17, 20, 24, 26, 28, 30, 33, 34, 10, 14, 16, 21, 22, 23, 25, 27, 29, 31, 32]\n",
    "#emissions_dates = merged_birds_recep.map(lambda x: x['Date']).distinct().collect()\n",
    "emissions_dates = ['', '01/01/18', '01/06/18', '01/11/18', '01/16/18', '01/21/18', '01/26/18', '01/31/18', '02/05/18', '02/10/18', '02/18/18', '~']\n",
    "\n",
    "'''\n",
    "all_receptions_by_birds = []\n",
    "for bird in birds_tags:\n",
    "    for date in emissions_dates:\n",
    "        print(bird, date)\n",
    "        bird_reception = merged_birds_recep.filter(lambda x: x['Tag ID'] == bird and x['Date'] == date).toLocalIterator()#.collect()\n",
    "        grouped_emissions = group_antennas_recep(bird_reception)\n",
    "        all_receptions_by_birds.extend(format_antennas_recep(grouped_emissions, bird))\n",
    "'''    \n",
    "\n",
    "'''\n",
    "for bird in birds_tags:\n",
    "    if os.path.exists('tmp/birds-data-{}.jsonlines'.format(bird)):\n",
    "        continue\n",
    "    all_receptions_by_birds = []\n",
    "    for i in range(1,len(emissions_dates)):\n",
    "        print(bird, emissions_dates[i-1], emissions_dates[i])\n",
    "        bird_reception = merged_birds_recep.filter(lambda x: x['Tag ID'] == bird and x['Date'] >= emissions_dates[i-1] and x['Date'] < emissions_dates[i]).toLocalIterator()#.collect()\n",
    "        grouped_emissions = group_antennas_recep(bird_reception)\n",
    "        all_receptions_by_birds.extend(format_antennas_recep(grouped_emissions, bird))\n",
    "    all_receptions_rdd = pyspark.SparkContext.getOrCreate().parallelize(all_receptions_by_birds)\n",
    "    all_receptions_rdd.map(lambda x: json.dumps(x, default=my_converter)).saveAsTextFile('tmp/birds-data-{}.jsonlines'.format(bird))\n",
    "'''\n"
   ]
  },
  {
   "cell_type": "code",
   "execution_count": null,
   "metadata": {},
   "outputs": [],
   "source": []
  },
  {
   "cell_type": "code",
   "execution_count": 61,
   "metadata": {},
   "outputs": [],
   "source": [
    "grouped_birds_date = merged_birds_recep.groupBy(lambda x: x['Date']+str(x['Tag ID']))"
   ]
  },
  {
   "cell_type": "code",
   "execution_count": 89,
   "metadata": {},
   "outputs": [],
   "source": [
    "def magia(x):\n",
    "    grouped_emissions = group_antennas_recep(x)\n",
    "    return format_antennas_recep(grouped_emissions, grouped_emissions[0][0]['Tag ID'])\n",
    "\n",
    "res = grouped_birds_date.values().map(magia)"
   ]
  },
  {
   "cell_type": "code",
   "execution_count": 90,
   "metadata": {},
   "outputs": [],
   "source": [
    "res = res.flatMap(lambda x: x)"
   ]
  },
  {
   "cell_type": "code",
   "execution_count": 91,
   "metadata": {},
   "outputs": [],
   "source": [
    "res.map(lambda x: json.dumps(x, default=my_converter)).saveAsTextFile('datos/all-birds-data.jsonlines')"
   ]
  },
  {
   "cell_type": "code",
   "execution_count": 92,
   "metadata": {},
   "outputs": [
    {
     "data": {
      "text/plain": [
       "2309123"
      ]
     },
     "execution_count": 92,
     "metadata": {},
     "output_type": "execute_result"
    }
   ],
   "source": [
    "res.count()"
   ]
  },
  {
   "cell_type": "code",
   "execution_count": 94,
   "metadata": {},
   "outputs": [
    {
     "data": {
      "text/plain": [
       "2309123"
      ]
     },
     "execution_count": 94,
     "metadata": {},
     "output_type": "execute_result"
    }
   ],
   "source": [
    "res.map(lambda x: str(x)).distinct().count()"
   ]
  },
  {
   "cell_type": "code",
   "execution_count": null,
   "metadata": {},
   "outputs": [],
   "source": []
  },
  {
   "cell_type": "code",
   "execution_count": null,
   "metadata": {},
   "outputs": [],
   "source": []
  }
 ],
 "metadata": {
  "kernelspec": {
   "display_name": "Python 3",
   "language": "python",
   "name": "python3"
  },
  "language_info": {
   "codemirror_mode": {
    "name": "ipython",
    "version": 3
   },
   "file_extension": ".py",
   "mimetype": "text/x-python",
   "name": "python",
   "nbconvert_exporter": "python",
   "pygments_lexer": "ipython3",
   "version": "3.6.5"
  }
 },
 "nbformat": 4,
 "nbformat_minor": 2
}
