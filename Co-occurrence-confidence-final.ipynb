{
 "cells": [
  {
   "cell_type": "code",
   "execution_count": 1,
   "metadata": {},
   "outputs": [],
   "source": [
    "%matplotlib notebook"
   ]
  },
  {
   "cell_type": "code",
   "execution_count": 2,
   "metadata": {},
   "outputs": [],
   "source": [
    "import pyspark\n",
    "sc = pyspark.sql.SparkSession.Builder().getOrCreate()"
   ]
  },
  {
   "cell_type": "code",
   "execution_count": 18,
   "metadata": {},
   "outputs": [],
   "source": [
    "import json\n",
    "import numpy as np\n",
    "import pandas as pd\n",
    "import seaborn as sn\n",
    "\n",
    "import matplotlib.pyplot as plt\n",
    "from IPython.display import display, HTML\n",
    "import math\n",
    "import time\n",
    "import random\n",
    "from numpy.random import choice\n",
    "\n",
    "import matplotlib.animation as animation\n",
    "from datetime import datetime, timedelta\n",
    "import pyspark.sql.functions as F\n",
    "\n",
    "from utils.emissions_normalizer import EmissionsNormalizer\n",
    "from utils.knn_predictor import KnnPredictor\n",
    "from utils.smoother import Smoother\n",
    "from utils.random_predictor import RandomPredictor\n",
    "\n",
    "from shapely.geometry import Point\n",
    "from shapely.geometry.polygon import Polygon"
   ]
  },
  {
   "cell_type": "code",
   "execution_count": 19,
   "metadata": {},
   "outputs": [],
   "source": [
    "ANTENNAS_POSITION = [(464259.981343845,6110331.85100085),(463512.015195402,6111004.324434620),(464443.295130103,6111377.26171875),(464629.562194595,6111105.34734669)]\n",
    "ANTENNAS_NAMES = [\"RC1\", \"RC2\", \"D1\", \"D2\"] \n",
    "X_0 = 462385.503783397\n",
    "Y_0 = 6109042.35153865\n",
    "\n",
    "for i in range(4):\n",
    "    ANTENNAS_POSITION[i] = (ANTENNAS_POSITION[i][0]-X_0, ANTENNAS_POSITION[i][1]-Y_0)\n",
    "\n",
    "GRID = Polygon(ANTENNAS_POSITION)"
   ]
  },
  {
   "cell_type": "code",
   "execution_count": 4,
   "metadata": {},
   "outputs": [],
   "source": [
    "FEMALES = [11, 15, 17, 20, 24, 26, 28, 30, 33, 34]\n",
    "MALES = [10, 14, 16, 21, 22, 23, 25, 27, 29, 31, 32]"
   ]
  },
  {
   "cell_type": "markdown",
   "metadata": {},
   "source": [
    "## Entreno el modelo que vamos a usar para predecir"
   ]
  },
  {
   "cell_type": "code",
   "execution_count": 5,
   "metadata": {},
   "outputs": [],
   "source": [
    "points_recep = sc.read.json('datos/train-test-by-emission.jsonlines/').rdd"
   ]
  },
  {
   "cell_type": "code",
   "execution_count": 6,
   "metadata": {},
   "outputs": [],
   "source": [
    "normalizer = EmissionsNormalizer()\n",
    "data = normalizer.normalize(points_recep)\n",
    "regre_data, regre_target = normalizer.get_regression_dataframes(data)"
   ]
  },
  {
   "cell_type": "code",
   "execution_count": 7,
   "metadata": {},
   "outputs": [],
   "source": [
    "predictor = KnnPredictor()\n",
    "predictor.fit(regre_data, regre_target)"
   ]
  },
  {
   "cell_type": "code",
   "execution_count": 8,
   "metadata": {},
   "outputs": [],
   "source": [
    "random_predictor = RandomPredictor()\n",
    "random_predictor.fit(regre_data, regre_target)"
   ]
  },
  {
   "cell_type": "code",
   "execution_count": null,
   "metadata": {},
   "outputs": [],
   "source": []
  },
  {
   "cell_type": "markdown",
   "metadata": {},
   "source": [
    "## Levanto el archivo con las emisiones de los pajaros"
   ]
  },
  {
   "cell_type": "markdown",
   "metadata": {},
   "source": [
    "### Levanto el chekpoint en pandas"
   ]
  },
  {
   "cell_type": "code",
   "execution_count": 9,
   "metadata": {},
   "outputs": [],
   "source": [
    "birds_data_complete = pd.read_parquet('tmp/checkpoint-cog.parquet')\n",
    "\n",
    "### Saco los pajaros 15 y 16, que casi no tienen emisiones\n",
    "birds_data_complete = birds_data_complete[(birds_data_complete.tag_id != 15) & (birds_data_complete.tag_id != 16)] \n",
    "birds_data_complete.reset_index()\n",
    "FEMALES.remove(15)\n",
    "MALES.remove(16)\n",
    "\n",
    "birds_data = birds_data_complete.drop(columns=['tag_id','timestamp'])"
   ]
  },
  {
   "cell_type": "markdown",
   "metadata": {},
   "source": [
    "### Obtengo las predicciones"
   ]
  },
  {
   "cell_type": "code",
   "execution_count": 10,
   "metadata": {},
   "outputs": [],
   "source": [
    "predictions = predictor.predict(birds_data)\n",
    "predictions = pd.concat([pd.DataFrame(predictions), birds_data_complete.reset_index(drop=True)], axis=1).values"
   ]
  },
  {
   "cell_type": "markdown",
   "metadata": {},
   "source": [
    "### Calculo si la prediccion cayó dentro de la grilla"
   ]
  },
  {
   "cell_type": "code",
   "execution_count": 11,
   "metadata": {},
   "outputs": [],
   "source": [
    "def set_prediction_grid_classification(predictions):\n",
    "    grid_predictions = []\n",
    "    for i in range(len(predictions)):\n",
    "        prediction = predictions[i]\n",
    "        point = Point(prediction[0], prediction[1])\n",
    "        if GRID.contains(point):\n",
    "            grid_pred = np.insert(prediction, 8,'in_grid', axis=0)\n",
    "        else:\n",
    "            grid_pred = np.insert(prediction, 8,'out_grid', axis=0)\n",
    "        grid_predictions.append(grid_pred)\n",
    "    return pd.DataFrame(grid_predictions, columns=['x', 'y', 'recep_0', 'recep_1', 'recep_2', 'recep_3', 'tag', 'time', 'region'])\n"
   ]
  },
  {
   "cell_type": "markdown",
   "metadata": {},
   "source": [
    "### Obtengo el tiempo en que cada posible pareja esta junta"
   ]
  },
  {
   "cell_type": "code",
   "execution_count": 12,
   "metadata": {},
   "outputs": [],
   "source": [
    "def get_bird_timestamp_in_grid(bird_data, delta_time_in_sec):\n",
    "    \"\"\"\n",
    "    delta_time_in_sec es la cantidad de segundos que decimos que el pajaro se encuentra en un mismo punto dada una prediccion\n",
    "    Por default, el valor es 5, ya que las emisiones son cada 5 segundos.\n",
    "    \"\"\"\n",
    "    timestamp_in_grid = []\n",
    "    for row in bird_data['time']:\n",
    "        real_time = datetime.strptime(row, '%Y-%m-%d %H:%M:%S')\n",
    "        for i in range(-delta_time_in_sec, delta_time_in_sec+1):\n",
    "            res=real_time+timedelta(seconds=i)\n",
    "            timestamp_in_grid.append(datetime.strftime(res, '%Y-%m-%d %H:%M:%S'))\n",
    "\n",
    "    timestamp_in_grid = list(set(timestamp_in_grid))\n",
    "    return pd.DataFrame(timestamp_in_grid, columns=['time'])\n",
    "\n",
    "\n",
    "def get_grid_matches_per_bird(grid_predictions, delta_time):\n",
    "    male_birds_in_grid = grid_predictions[(grid_predictions.tag.isin(MALES)) & (grid_predictions['region'] == 'in_grid')]\n",
    "\n",
    "    matches_per_bird = {}\n",
    "    for female_bird in FEMALES:\n",
    "        female_bird_in_grid = grid_predictions[(grid_predictions['tag'] == female_bird) & (grid_predictions['region'] == 'in_grid')]\n",
    "        timestamp_in_grid_pd = get_bird_timestamp_in_grid(female_bird_in_grid, delta_time)\n",
    "\n",
    "        male_in_grid_with_female = male_birds_in_grid.join(timestamp_in_grid_pd.set_index('time'), on='time', how='inner')\n",
    "\n",
    "        female_matches = {}\n",
    "        for index, row in male_in_grid_with_female.iterrows():\n",
    "            tag = row['tag']\n",
    "            current_matches = female_matches.get(tag, 0)\n",
    "            female_matches[tag] = current_matches+1\n",
    "\n",
    "        matches_per_bird[female_bird] = female_matches\n",
    "    return matches_per_bird\n",
    "\n"
   ]
  },
  {
   "cell_type": "code",
   "execution_count": 13,
   "metadata": {},
   "outputs": [],
   "source": [
    "def get_best_partners(coocurrence_matrix):\n",
    "    winning_males_coocurrence = np.max(coocurrence_matrix, axis=1)\n",
    "    best_female_index = np.argmax(winning_males_coocurrence)\n",
    "    best_male_index = np.argmax(coocurrence_matrix[best_female_index])\n",
    "    return best_female_index, best_male_index"
   ]
  },
  {
   "cell_type": "code",
   "execution_count": 14,
   "metadata": {},
   "outputs": [],
   "source": [
    "def get_random_coocurrence_matrix(random_coocurrences):\n",
    "    coocurrence_matrix_random = np.zeros((len(FEMALES),len(MALES)))\n",
    "    for r in random_coocurrences:\n",
    "        x = MALES.index(int(r[0]))\n",
    "        y = FEMALES.index(int(r[1]))\n",
    "        coocurrence_matrix_random[y][x] += 1\n",
    "    return coocurrence_matrix_random\n"
   ]
  },
  {
   "cell_type": "code",
   "execution_count": 15,
   "metadata": {},
   "outputs": [],
   "source": [
    "def get_birds_distribution(predictions):\n",
    "    male_predictions_pd = predictions[predictions.tag.isin(MALES)]\n",
    "    female_predictions_pd = predictions[predictions.tag.isin(FEMALES)]\n",
    "    \n",
    "    males_distribution = (male_predictions_pd.groupby('tag').size()/len(male_predictions_pd)).to_dict()\n",
    "    females_distribution = (female_predictions_pd.groupby('tag').size()/len(female_predictions_pd)).to_dict()\n",
    "    return males_distribution, females_distribution\n",
    "    "
   ]
  },
  {
   "cell_type": "code",
   "execution_count": 16,
   "metadata": {},
   "outputs": [],
   "source": [
    "def get_random_coocurrence_list(males_distribution, females_distribution, size):\n",
    "    random_males =  choice(list(males_distribution.keys()), SAMPLE_SIZE, replace=True, p=list(males_distribution.values()))\n",
    "    random_females =  choice(list(females_distribution.keys()), SAMPLE_SIZE, replace=True, p=list(females_distribution.values()))\n",
    "    \n",
    "    random_coocurrences = list(zip(random_males, random_females))\n",
    "    return random_coocurrences\n",
    "    "
   ]
  },
  {
   "cell_type": "markdown",
   "metadata": {},
   "source": [
    "### Calculo la matriz de co-ocurrencia real"
   ]
  },
  {
   "cell_type": "code",
   "execution_count": 20,
   "metadata": {},
   "outputs": [],
   "source": [
    "predictions = set_prediction_grid_classification(predictions)\n",
    "matches_per_bird = get_grid_matches_per_bird(predictions, 5)\n"
   ]
  },
  {
   "cell_type": "code",
   "execution_count": 21,
   "metadata": {},
   "outputs": [],
   "source": [
    "## backup de las variables que vamos a modificar\n",
    "\n",
    "#FEMALES_BCK = FEMALES.copy()\n",
    "#MALES_BCK = MALES.copy()\n",
    "\n",
    "FEMALES = FEMALES_BCK.copy()\n",
    "MALES = MALES_BCK.copy()"
   ]
  },
  {
   "cell_type": "code",
   "execution_count": 22,
   "metadata": {},
   "outputs": [],
   "source": [
    "real_coocurrence_matrix = [[]] * len(FEMALES)\n",
    "for i in range(len(FEMALES)):\n",
    "    real_coocurrence_matrix[i] = []\n",
    "    for m in MALES:\n",
    "        real_coocurrence_matrix[i].append(matches_per_bird.get(FEMALES[i]).get(m, 0))"
   ]
  },
  {
   "cell_type": "code",
   "execution_count": 23,
   "metadata": {},
   "outputs": [
    {
     "name": "stdout",
     "output_type": "stream",
     "text": [
      "best female and male 20 21\n",
      "total_coocurrency 38679\n",
      "max coocur values random vs real:  1377.0 4181\n",
      "pvalue 0.0\n",
      "best female and male 33 32\n",
      "total_coocurrency 23806\n",
      "max coocur values random vs real:  1923.0 2220\n",
      "pvalue 0.0\n",
      "best female and male 30 31\n",
      "total_coocurrency 18159\n",
      "max coocur values random vs real:  838.0 2207\n",
      "pvalue 0.0\n",
      "best female and male 24 23\n",
      "total_coocurrency 11101\n",
      "max coocur values random vs real:  377.0 1439\n",
      "pvalue 0.0\n",
      "best female and male 34 29\n",
      "total_coocurrency 6924\n",
      "max coocur values random vs real:  621.0 1212\n",
      "pvalue 0.0\n",
      "best female and male 28 14\n",
      "total_coocurrency 4502\n",
      "max coocur values random vs real:  284.0 667\n",
      "pvalue 0.0\n",
      "best female and male 26 25\n",
      "total_coocurrency 2494\n",
      "max coocur values random vs real:  89.0 628\n",
      "pvalue 0.0\n",
      "best female and male 11 10\n",
      "total_coocurrency 1341\n",
      "max coocur values random vs real:  34.0 559\n",
      "pvalue 0.0\n",
      "best female and male 17 22\n",
      "total_coocurrency 638\n",
      "max coocur values random vs real:  262.0 432\n",
      "pvalue 0.0\n"
     ]
    }
   ],
   "source": [
    "females_count = len(FEMALES)\n",
    "for i in range(females_count):\n",
    "    best_female_index, best_male_index = get_best_partners(real_coocurrence_matrix)\n",
    "    total_coocurrency = np.sum(real_coocurrence_matrix)\n",
    "    print('best female and male', FEMALES[best_female_index], MALES[best_male_index])\n",
    "    print('total_coocurrency', total_coocurrency)\n",
    "    males_distribution, females_distribution = get_birds_distribution(predictions)\n",
    "\n",
    "    TOTAL_ITER = 3000\n",
    "    count_random_greater = 0\n",
    "    SAMPLE_SIZE = total_coocurrency\n",
    "\n",
    "    max_random = 0\n",
    "    for i in range(TOTAL_ITER):\n",
    "        random_coocurrences = get_random_coocurrence_list(males_distribution, females_distribution, SAMPLE_SIZE)\n",
    "        coocurrence_matrix_random = get_random_coocurrence_matrix(random_coocurrences)\n",
    "        if coocurrence_matrix_random[best_female_index][best_male_index] >= real_coocurrence_matrix[best_female_index][best_male_index]:\n",
    "            ## > o >= ??\n",
    "            count_random_greater += 1\n",
    "        max_random = max(max_random, coocurrence_matrix_random[best_female_index][best_male_index])\n",
    "    print('max coocur values random vs real: ', max_random, real_coocurrence_matrix[best_female_index][best_male_index])\n",
    "\n",
    "    pvalue = count_random_greater/TOTAL_ITER\n",
    "    print('pvalue', pvalue)\n",
    "    if pvalue > 0.001:\n",
    "        break\n",
    "        \n",
    "    FEMALES.remove(FEMALES[best_female_index])\n",
    "    MALES.remove(MALES[best_male_index])\n",
    "\n",
    "    real_coocurrence_matrix_pd = pd.DataFrame(real_coocurrence_matrix)\n",
    "    real_coocurrence_matrix = (\n",
    "        real_coocurrence_matrix_pd\n",
    "        .drop(best_female_index)\n",
    "        .drop(best_male_index, axis=1)\n",
    "        .values\n",
    "        .tolist()\n",
    "    )    "
   ]
  },
  {
   "cell_type": "code",
   "execution_count": null,
   "metadata": {},
   "outputs": [],
   "source": []
  }
 ],
 "metadata": {
  "kernelspec": {
   "display_name": "Python 3",
   "language": "python",
   "name": "python3"
  },
  "language_info": {
   "codemirror_mode": {
    "name": "ipython",
    "version": 3
   },
   "file_extension": ".py",
   "mimetype": "text/x-python",
   "name": "python",
   "nbconvert_exporter": "python",
   "pygments_lexer": "ipython3",
   "version": "3.6.5"
  }
 },
 "nbformat": 4,
 "nbformat_minor": 2
}
