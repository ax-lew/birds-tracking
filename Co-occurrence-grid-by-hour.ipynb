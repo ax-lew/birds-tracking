{
 "cells": [
  {
   "cell_type": "code",
   "execution_count": 1,
   "metadata": {},
   "outputs": [],
   "source": [
    "%matplotlib notebook"
   ]
  },
  {
   "cell_type": "code",
   "execution_count": 2,
   "metadata": {},
   "outputs": [],
   "source": [
    "import pyspark\n",
    "sc = pyspark.sql.SparkSession.Builder().getOrCreate()"
   ]
  },
  {
   "cell_type": "code",
   "execution_count": 3,
   "metadata": {},
   "outputs": [],
   "source": [
    "import json\n",
    "import numpy as np\n",
    "import pandas as pd\n",
    "import seaborn as sn\n",
    "\n",
    "import matplotlib.pyplot as plt\n",
    "from IPython.display import display, HTML\n",
    "import math\n",
    "import time\n",
    "import matplotlib.animation as animation\n",
    "from datetime import datetime, timedelta\n",
    "import pyspark.sql.functions as F\n",
    "\n",
    "from utils.emissions_normalizer import EmissionsNormalizer\n",
    "from utils.knn_predictor import KnnPredictor\n",
    "from utils.smoother import Smoother\n",
    "from utils.random_predictor import RandomPredictor\n",
    "\n",
    "from shapely.geometry import Point\n",
    "from shapely.geometry.polygon import Polygon"
   ]
  },
  {
   "cell_type": "code",
   "execution_count": 4,
   "metadata": {},
   "outputs": [],
   "source": [
    "ANTENNAS_POSITION = [(464259.981343845,6110331.85100085),(463512.015195402,6111004.324434620),(464443.295130103,6111377.26171875),(464629.562194595,6111105.34734669)]\n",
    "ANTENNAS_NAMES = [\"RC1\", \"RC2\", \"D1\", \"D2\"] \n",
    "X_0 = 462385.503783397\n",
    "Y_0 = 6109042.35153865\n",
    "\n",
    "for i in range(4):\n",
    "    ANTENNAS_POSITION[i] = (ANTENNAS_POSITION[i][0]-X_0, ANTENNAS_POSITION[i][1]-Y_0)\n",
    "\n",
    "GRID = Polygon(ANTENNAS_POSITION)"
   ]
  },
  {
   "cell_type": "code",
   "execution_count": 5,
   "metadata": {},
   "outputs": [],
   "source": [
    "\n",
    "FEMALES = [11, 17, 20, 24, 26, 28, 30, 33, 34]\n",
    "MALES = [10, 14, 21, 22, 23, 25, 27, 29, 31, 32]"
   ]
  },
  {
   "cell_type": "markdown",
   "metadata": {},
   "source": [
    "## Entreno el modelo que vamos a usar para predecir"
   ]
  },
  {
   "cell_type": "code",
   "execution_count": 6,
   "metadata": {},
   "outputs": [],
   "source": [
    "points_recep = sc.read.json('datos/train-test-by-emission.jsonlines/').rdd"
   ]
  },
  {
   "cell_type": "code",
   "execution_count": 7,
   "metadata": {},
   "outputs": [],
   "source": [
    "normalizer = EmissionsNormalizer()\n",
    "data = normalizer.normalize(points_recep)\n",
    "regre_data, regre_target = normalizer.get_regression_dataframes(data)"
   ]
  },
  {
   "cell_type": "code",
   "execution_count": 8,
   "metadata": {},
   "outputs": [
    {
     "name": "stdout",
     "output_type": "stream",
     "text": [
      "             0            1\n",
      "0  2854.782012  2192.894689\n",
      "1  2854.782012  2192.894689\n",
      "2  2854.782012  2192.894689\n",
      "3  2854.782012  2192.894689\n",
      "4  2854.782012  2192.894689\n",
      "   antenna_0  antenna_1  antenna_2  antenna_3\n",
      "0          0          0          0         29\n",
      "1          0          0          0         70\n",
      "2          0          0          0         28\n",
      "3          0          0          0         58\n",
      "4          0          0          0         81\n"
     ]
    }
   ],
   "source": [
    "print(regre_target.head())\n",
    "print(regre_data.head())"
   ]
  },
  {
   "cell_type": "code",
   "execution_count": 9,
   "metadata": {},
   "outputs": [],
   "source": [
    "predictor = KnnPredictor()\n",
    "predictor.fit(regre_data, regre_target)"
   ]
  },
  {
   "cell_type": "code",
   "execution_count": null,
   "metadata": {},
   "outputs": [],
   "source": []
  },
  {
   "cell_type": "markdown",
   "metadata": {},
   "source": [
    "## Levanto el archivo con las emisiones de los pajaros"
   ]
  },
  {
   "cell_type": "code",
   "execution_count": 10,
   "metadata": {},
   "outputs": [],
   "source": [
    "birds_recep = sc.read.json('datos/all-birds-data.jsonlines/').rdd\n",
    "birds_recep = birds_recep.sortBy(lambda x: x['timestamp'])"
   ]
  },
  {
   "cell_type": "markdown",
   "metadata": {},
   "source": [
    "### Me quedo solo con pajaros etiquetados"
   ]
  },
  {
   "cell_type": "code",
   "execution_count": 11,
   "metadata": {},
   "outputs": [],
   "source": [
    "birds_recep = birds_recep.filter(lambda x: x['tag_id'] in MALES+FEMALES)"
   ]
  },
  {
   "cell_type": "markdown",
   "metadata": {},
   "source": [
    "### Obtengo cual es el dia inicial en el que todos los pajaros tienen chip"
   ]
  },
  {
   "cell_type": "code",
   "execution_count": 12,
   "metadata": {},
   "outputs": [],
   "source": [
    "#start_date = '2018-01-03'\n",
    "start_date = '2018-01-10' ## Fecha que me pasó Romina"
   ]
  },
  {
   "cell_type": "markdown",
   "metadata": {},
   "source": [
    "### Obtengo cual es el dia final en el que todos los pajaros tienen chip"
   ]
  },
  {
   "cell_type": "code",
   "execution_count": 13,
   "metadata": {},
   "outputs": [],
   "source": [
    "end_date = '2018-01-26'\n",
    "#end_date = '2018-02-08'"
   ]
  },
  {
   "cell_type": "markdown",
   "metadata": {},
   "source": [
    "### Filtro a partir de las fechas obtenida"
   ]
  },
  {
   "cell_type": "code",
   "execution_count": 14,
   "metadata": {},
   "outputs": [],
   "source": [
    "birds_recep = birds_recep.filter(lambda x: x['timestamp'] >= start_date and  x['timestamp'] < end_date)"
   ]
  },
  {
   "cell_type": "code",
   "execution_count": 15,
   "metadata": {},
   "outputs": [
    {
     "data": {
      "text/plain": [
       "1069222"
      ]
     },
     "execution_count": 15,
     "metadata": {},
     "output_type": "execute_result"
    }
   ],
   "source": [
    "birds_recep.count()"
   ]
  },
  {
   "cell_type": "markdown",
   "metadata": {},
   "source": [
    "### Filtro en solo los horarios que nos interesa analizar y hago un checkpoint en disco"
   ]
  },
  {
   "cell_type": "code",
   "execution_count": 16,
   "metadata": {},
   "outputs": [],
   "source": [
    "START_TIME = '07:00:00'\n",
    "END_TIME = '19:00:00'\n",
    "birds_data_complete_df = birds_recep.filter(lambda x: START_TIME <= x['timestamp'].split(' ')[1] < END_TIME).toDF()\n",
    "birds_data_complete_df.write.parquet('tmp/checkpoint-cog-7-7.parquet')\n",
    "\n"
   ]
  },
  {
   "cell_type": "markdown",
   "metadata": {},
   "source": [
    "### Levanto el chekpoint en pandas"
   ]
  },
  {
   "cell_type": "code",
   "execution_count": 17,
   "metadata": {},
   "outputs": [],
   "source": [
    "birds_data_complete = pd.read_parquet('tmp/checkpoint-cog-7-7.parquet')\n",
    "birds_data = birds_data_complete.drop(columns=['tag_id','timestamp'])"
   ]
  },
  {
   "cell_type": "markdown",
   "metadata": {},
   "source": [
    "### Obtengo las predicciones"
   ]
  },
  {
   "cell_type": "code",
   "execution_count": 18,
   "metadata": {},
   "outputs": [],
   "source": [
    "predictions = predictor.predict(birds_data)\n",
    "predictions = pd.concat([pd.DataFrame(predictions), pd.DataFrame(birds_data_complete)], axis=1).values"
   ]
  },
  {
   "cell_type": "markdown",
   "metadata": {},
   "source": [
    "### Imprimo matriz de confusion"
   ]
  },
  {
   "cell_type": "code",
   "execution_count": 22,
   "metadata": {},
   "outputs": [],
   "source": [
    "def show_confusion_matrices(matches_per_female):\n",
    "    matrix_res = [[]] * len(FEMALES)\n",
    "    for i in range(len(FEMALES)):\n",
    "        matrix_res[i] = []\n",
    "        for m in MALES:\n",
    "            matrix_res[i].append(matches_per_female.get(FEMALES[i]).get(m, 0))\n",
    "         \n",
    "    plt.figure(figsize=(10,15))\n",
    "    \n",
    "    plt.subplot(3, 1, 1)\n",
    "    plt.title('Birds matches')\n",
    "    matrix_res_pd = pd.DataFrame(matrix_res)\n",
    "    matrix_res_pd.columns = MALES\n",
    "    matrix_res_pd.rename(index={i:FEMALES[i] for i in range(len(FEMALES))}, inplace=True)\n",
    "    yield matrix_res_pd\n",
    "    ax = sn.heatmap(matrix_res_pd, annot=True, fmt='g', xticklabels=True, yticklabels=True, vmin=0)\n",
    "    ax.set(xlabel='Males', ylabel='Females')\n",
    "\n",
    "\n",
    "\n",
    "    ### Esto muestra, para cada hembra, que porcentaje del tiempo que los otros machos estuvieron en la grilla \n",
    "    ### con cualquier hembra estuvieron juntos\n",
    "    plt.subplot(3, 1, 2)\n",
    "    plt.title('Male time distribution')\n",
    "    matrix_res_pd = pd.DataFrame(matrix_res)\n",
    "    matrix_res_pd.columns = MALES\n",
    "    matrix_res_pd.rename(index={i:FEMALES[i] for i in range(len(FEMALES))}, inplace=True)\n",
    "    matrix_res_pd = (matrix_res_pd/matrix_res_pd.sum()*100).round(2)\n",
    "    matrix_res_pd = matrix_res_pd.fillna(0)\n",
    "    ax = sn.heatmap(matrix_res_pd, annot=True, fmt='g', xticklabels=True, yticklabels=True, vmin=0, vmax=100)\n",
    "    ax.set(xlabel='Males', ylabel='Females')\n",
    "\n",
    "\n",
    "    ### Igual, pero con las hembras\n",
    "    plt.subplot(3, 1, 3)\n",
    "    plt.title('Female time distribution')\n",
    "    matrix_res_pd = pd.DataFrame(matrix_res)\n",
    "    matrix_res_pd.columns = MALES\n",
    "    matrix_res_pd.rename(index={i:FEMALES[i] for i in range(len(FEMALES))}, inplace=True)\n",
    "    matrix_res_pd = (matrix_res_pd.div(matrix_res_pd.sum(axis=1), axis=0)*100).round(2)\n",
    "    matrix_res_pd = matrix_res_pd.fillna(0)\n",
    "    ax = sn.heatmap(matrix_res_pd, annot=True, fmt='g', xticklabels=True, yticklabels=True, vmin=0, vmax=100)\n",
    "    ax.set(xlabel='Males', ylabel='Females')\n",
    "\n"
   ]
  },
  {
   "cell_type": "code",
   "execution_count": null,
   "metadata": {},
   "outputs": [],
   "source": []
  },
  {
   "cell_type": "code",
   "execution_count": null,
   "metadata": {},
   "outputs": [],
   "source": []
  },
  {
   "cell_type": "code",
   "execution_count": null,
   "metadata": {},
   "outputs": [],
   "source": []
  },
  {
   "cell_type": "markdown",
   "metadata": {},
   "source": [
    "## Analizo coocurrencia en regiones uniformes"
   ]
  },
  {
   "cell_type": "markdown",
   "metadata": {},
   "source": [
    "### Calculo en que region cayo la prediccion"
   ]
  },
  {
   "cell_type": "code",
   "execution_count": 26,
   "metadata": {},
   "outputs": [],
   "source": [
    "X_REGION_SIZE = 300\n",
    "Y_REGION_SIZE = 300\n",
    "\n",
    "\n",
    "def set_prediction_in_regions_classification(predictions):\n",
    "    grid_predictions = []\n",
    "    for i in range(len(predictions)):\n",
    "        prediction = predictions[i]\n",
    "        point = Point(prediction[0], prediction[1])\n",
    "\n",
    "        region = '{}-{}'.format(int(prediction[0]/X_REGION_SIZE), int(prediction[1]/Y_REGION_SIZE))\n",
    "\n",
    "        grid_pred = np.insert(prediction, 8,region, axis=0)\n",
    "        grid_predictions.append(grid_pred)\n",
    "    return pd.DataFrame(grid_predictions, columns=['x', 'y', 'recep_0', 'recep_1', 'recep_2', 'recep_3', 'tag', 'time', 'region'])\n"
   ]
  },
  {
   "cell_type": "markdown",
   "metadata": {},
   "source": [
    "### Obtengo el tiempo que cada posible pareja estuvo junta"
   ]
  },
  {
   "cell_type": "code",
   "execution_count": 27,
   "metadata": {},
   "outputs": [],
   "source": [
    "def get_bird_timestamp_in_regions(bird_data, delta_time_in_sec):\n",
    "    \"\"\"\n",
    "    delta_time_in_sec es la cantidad de segundos que decimos que el pajaro se encuentra en un mismo punto dada una prediccion\n",
    "    Por default, el valor es 5, ya que las emisiones son cada 5 segundos.\n",
    "    \"\"\"\n",
    "    timestamp_in_grid = []\n",
    "    for row in zip(bird_data.time, bird_data.region):\n",
    "        real_time = datetime.strptime(row[0], '%Y-%m-%d %H:%M:%S')\n",
    "        for i in range(-delta_time_in_sec, delta_time_in_sec+1):\n",
    "            res=real_time+timedelta(seconds=i)\n",
    "            timestamp_in_grid.append((row[1], datetime.strftime(res, '%Y-%m-%d %H:%M:%S')))\n",
    "\n",
    "    timestamp_in_grid = list(set(timestamp_in_grid))\n",
    "    return pd.DataFrame(timestamp_in_grid, columns=['region','time'])\n",
    "\n",
    "\n",
    "def get_matches_per_bird_in_regions(grid_predictions, delta_time):\n",
    "    male_birds_in_grid = grid_predictions[(grid_predictions.tag.isin(MALES)) & (grid_predictions.region.notnull())]\n",
    "\n",
    "    matches_per_bird_near_antenna = {}\n",
    "    for female_bird in FEMALES:\n",
    "        female_bird_in_grid = grid_predictions[(grid_predictions['tag'] == female_bird) & (grid_predictions.region.notnull())]\n",
    "        timestamp_in_grid_pd = get_bird_timestamp_in_regions(female_bird_in_grid, delta_time)\n",
    "\n",
    "        male_in_grid_with_female = male_birds_in_grid.join(timestamp_in_grid_pd.set_index(['region','time']), on=['region','time'], how='inner')\n",
    "\n",
    "        female_matches = {}\n",
    "        for index, row in male_in_grid_with_female.iterrows():\n",
    "            tag = row['tag']\n",
    "            current_matches = female_matches.get(tag, 0)\n",
    "            female_matches[tag] = current_matches+1\n",
    "\n",
    "        matches_per_bird_near_antenna[female_bird] = female_matches\n",
    "    return matches_per_bird_near_antenna\n",
    "\n"
   ]
  },
  {
   "cell_type": "code",
   "execution_count": 28,
   "metadata": {},
   "outputs": [],
   "source": [
    "def evaluate_in_regions_coocurrence(predictions, delta_time=5):\n",
    "    predictions = set_prediction_in_regions_classification(predictions)\n",
    "    matches_per_bird = get_matches_per_bird_in_regions(predictions, delta_time)\n",
    "    show_confusion_matrices(matches_per_bird)"
   ]
  },
  {
   "cell_type": "code",
   "execution_count": 30,
   "metadata": {},
   "outputs": [],
   "source": [
    "predictions = set_prediction_in_regions_classification(predictions)\n",
    "matches_per_bird = get_matches_per_bird_in_regions(predictions, 5)\n",
    "\n",
    "\n",
    "matrix_res = [[]] * len(FEMALES)\n",
    "for i in range(len(FEMALES)):\n",
    "    matrix_res[i] = []\n",
    "    for m in MALES:\n",
    "        matrix_res[i].append(matches_per_bird.get(FEMALES[i]).get(m, 0))\n",
    "\n"
   ]
  },
  {
   "cell_type": "code",
   "execution_count": 31,
   "metadata": {},
   "outputs": [],
   "source": [
    "matrix_res_pd = pd.DataFrame(matrix_res)\n",
    "matrix_res_pd.columns = MALES\n",
    "matrix_res_pd.rename(index={i:FEMALES[i] for i in range(len(FEMALES))}, inplace=True)\n",
    "#matrix_res_pd.to_csv('prettier/matrix_coocurrence.csv')"
   ]
  },
  {
   "cell_type": "code",
   "execution_count": 32,
   "metadata": {},
   "outputs": [
    {
     "data": {
      "text/html": [
       "<div>\n",
       "<style scoped>\n",
       "    .dataframe tbody tr th:only-of-type {\n",
       "        vertical-align: middle;\n",
       "    }\n",
       "\n",
       "    .dataframe tbody tr th {\n",
       "        vertical-align: top;\n",
       "    }\n",
       "\n",
       "    .dataframe thead th {\n",
       "        text-align: right;\n",
       "    }\n",
       "</style>\n",
       "<table border=\"1\" class=\"dataframe\">\n",
       "  <thead>\n",
       "    <tr style=\"text-align: right;\">\n",
       "      <th></th>\n",
       "      <th>10</th>\n",
       "      <th>14</th>\n",
       "      <th>21</th>\n",
       "      <th>22</th>\n",
       "      <th>23</th>\n",
       "      <th>25</th>\n",
       "      <th>27</th>\n",
       "      <th>29</th>\n",
       "      <th>31</th>\n",
       "      <th>32</th>\n",
       "    </tr>\n",
       "  </thead>\n",
       "  <tbody>\n",
       "    <tr>\n",
       "      <th>11</th>\n",
       "      <td>804</td>\n",
       "      <td>18</td>\n",
       "      <td>153</td>\n",
       "      <td>0</td>\n",
       "      <td>26</td>\n",
       "      <td>4</td>\n",
       "      <td>374</td>\n",
       "      <td>242</td>\n",
       "      <td>69</td>\n",
       "      <td>115</td>\n",
       "    </tr>\n",
       "    <tr>\n",
       "      <th>17</th>\n",
       "      <td>99</td>\n",
       "      <td>698</td>\n",
       "      <td>783</td>\n",
       "      <td>501</td>\n",
       "      <td>88</td>\n",
       "      <td>214</td>\n",
       "      <td>564</td>\n",
       "      <td>590</td>\n",
       "      <td>1555</td>\n",
       "      <td>774</td>\n",
       "    </tr>\n",
       "    <tr>\n",
       "      <th>20</th>\n",
       "      <td>295</td>\n",
       "      <td>759</td>\n",
       "      <td>6525</td>\n",
       "      <td>355</td>\n",
       "      <td>302</td>\n",
       "      <td>100</td>\n",
       "      <td>855</td>\n",
       "      <td>848</td>\n",
       "      <td>1223</td>\n",
       "      <td>1901</td>\n",
       "    </tr>\n",
       "    <tr>\n",
       "      <th>24</th>\n",
       "      <td>228</td>\n",
       "      <td>384</td>\n",
       "      <td>840</td>\n",
       "      <td>265</td>\n",
       "      <td>1420</td>\n",
       "      <td>20</td>\n",
       "      <td>936</td>\n",
       "      <td>687</td>\n",
       "      <td>1396</td>\n",
       "      <td>1519</td>\n",
       "    </tr>\n",
       "    <tr>\n",
       "      <th>26</th>\n",
       "      <td>14</td>\n",
       "      <td>219</td>\n",
       "      <td>171</td>\n",
       "      <td>227</td>\n",
       "      <td>32</td>\n",
       "      <td>823</td>\n",
       "      <td>29</td>\n",
       "      <td>114</td>\n",
       "      <td>68</td>\n",
       "      <td>58</td>\n",
       "    </tr>\n",
       "    <tr>\n",
       "      <th>28</th>\n",
       "      <td>99</td>\n",
       "      <td>459</td>\n",
       "      <td>316</td>\n",
       "      <td>160</td>\n",
       "      <td>41</td>\n",
       "      <td>21</td>\n",
       "      <td>85</td>\n",
       "      <td>121</td>\n",
       "      <td>294</td>\n",
       "      <td>102</td>\n",
       "    </tr>\n",
       "    <tr>\n",
       "      <th>30</th>\n",
       "      <td>92</td>\n",
       "      <td>697</td>\n",
       "      <td>397</td>\n",
       "      <td>366</td>\n",
       "      <td>131</td>\n",
       "      <td>166</td>\n",
       "      <td>262</td>\n",
       "      <td>241</td>\n",
       "      <td>3367</td>\n",
       "      <td>501</td>\n",
       "    </tr>\n",
       "    <tr>\n",
       "      <th>33</th>\n",
       "      <td>123</td>\n",
       "      <td>202</td>\n",
       "      <td>1105</td>\n",
       "      <td>129</td>\n",
       "      <td>206</td>\n",
       "      <td>28</td>\n",
       "      <td>872</td>\n",
       "      <td>1213</td>\n",
       "      <td>924</td>\n",
       "      <td>10168</td>\n",
       "    </tr>\n",
       "    <tr>\n",
       "      <th>34</th>\n",
       "      <td>184</td>\n",
       "      <td>291</td>\n",
       "      <td>530</td>\n",
       "      <td>128</td>\n",
       "      <td>106</td>\n",
       "      <td>56</td>\n",
       "      <td>1053</td>\n",
       "      <td>6152</td>\n",
       "      <td>172</td>\n",
       "      <td>951</td>\n",
       "    </tr>\n",
       "  </tbody>\n",
       "</table>\n",
       "</div>"
      ],
      "text/plain": [
       "     10   14    21   22    23   25    27    29    31     32\n",
       "11  804   18   153    0    26    4   374   242    69    115\n",
       "17   99  698   783  501    88  214   564   590  1555    774\n",
       "20  295  759  6525  355   302  100   855   848  1223   1901\n",
       "24  228  384   840  265  1420   20   936   687  1396   1519\n",
       "26   14  219   171  227    32  823    29   114    68     58\n",
       "28   99  459   316  160    41   21    85   121   294    102\n",
       "30   92  697   397  366   131  166   262   241  3367    501\n",
       "33  123  202  1105  129   206   28   872  1213   924  10168\n",
       "34  184  291   530  128   106   56  1053  6152   172    951"
      ]
     },
     "execution_count": 32,
     "metadata": {},
     "output_type": "execute_result"
    }
   ],
   "source": [
    "matrix_res_pd"
   ]
  },
  {
   "cell_type": "code",
   "execution_count": null,
   "metadata": {},
   "outputs": [],
   "source": []
  },
  {
   "cell_type": "code",
   "execution_count": null,
   "metadata": {},
   "outputs": [],
   "source": []
  },
  {
   "cell_type": "code",
   "execution_count": null,
   "metadata": {},
   "outputs": [],
   "source": []
  },
  {
   "cell_type": "code",
   "execution_count": null,
   "metadata": {},
   "outputs": [],
   "source": []
  },
  {
   "cell_type": "code",
   "execution_count": null,
   "metadata": {},
   "outputs": [],
   "source": []
  }
 ],
 "metadata": {
  "kernelspec": {
   "display_name": "Python 3",
   "language": "python",
   "name": "python3"
  },
  "language_info": {
   "codemirror_mode": {
    "name": "ipython",
    "version": 3
   },
   "file_extension": ".py",
   "mimetype": "text/x-python",
   "name": "python",
   "nbconvert_exporter": "python",
   "pygments_lexer": "ipython3",
   "version": "3.8.3"
  }
 },
 "nbformat": 4,
 "nbformat_minor": 2
}
