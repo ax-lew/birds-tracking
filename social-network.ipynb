{
 "cells": [
  {
   "cell_type": "code",
   "execution_count": 1,
   "metadata": {},
   "outputs": [],
   "source": [
    "%matplotlib notebook"
   ]
  },
  {
   "cell_type": "code",
   "execution_count": 2,
   "metadata": {},
   "outputs": [],
   "source": [
    "import os\n",
    "\n",
    "os.environ[\"PYSPARK_PYTHON\"]=\"/usr/local/bin/python3\"\n",
    "os.environ[\"PYSPARK_DRIVER_PYTHON\"]=\"/usr/local/bin/python3\""
   ]
  },
  {
   "cell_type": "code",
   "execution_count": 3,
   "metadata": {},
   "outputs": [],
   "source": [
    "import pyspark\n",
    "sc = pyspark.sql.SparkSession.Builder().getOrCreate()"
   ]
  },
  {
   "cell_type": "code",
   "execution_count": 4,
   "metadata": {},
   "outputs": [],
   "source": [
    "import json\n",
    "import numpy as np\n",
    "import pandas as pd\n",
    "import seaborn as sn\n",
    "\n",
    "import matplotlib.pyplot as plt\n",
    "from IPython.display import display, HTML\n",
    "import math\n",
    "import time\n",
    "import matplotlib.animation as animation\n",
    "from datetime import datetime, timedelta\n",
    "import pyspark.sql.functions as F\n",
    "\n",
    "from utils.emissions_normalizer import EmissionsNormalizer\n",
    "from utils.knn_predictor import KnnPredictor\n",
    "from utils.smoother import Smoother\n",
    "from utils.random_predictor import RandomPredictor\n",
    "\n",
    "from shapely.geometry import Point\n",
    "from shapely.geometry.polygon import Polygon"
   ]
  },
  {
   "cell_type": "code",
   "execution_count": 5,
   "metadata": {},
   "outputs": [],
   "source": [
    "ANTENNAS_POSITION = [(464259.981343845,6110331.85100085),(463512.015195402,6111004.324434620),(464443.295130103,6111377.26171875),(464629.562194595,6111105.34734669)]\n",
    "ANTENNAS_NAMES = [\"RC1\", \"RC2\", \"D1\", \"D2\"] \n",
    "X_0 = 462385.503783397\n",
    "Y_0 = 6109042.35153865\n",
    "\n",
    "for i in range(4):\n",
    "    ANTENNAS_POSITION[i] = (ANTENNAS_POSITION[i][0]-X_0, ANTENNAS_POSITION[i][1]-Y_0)\n",
    "\n",
    "GRID = Polygon(ANTENNAS_POSITION)"
   ]
  },
  {
   "cell_type": "code",
   "execution_count": 6,
   "metadata": {},
   "outputs": [],
   "source": [
    "\n",
    "FEMALES = [11, 17, 20, 24, 26, 28, 30, 33, 34]\n",
    "MALES = [10, 14, 21, 22, 23, 25, 27, 29, 31, 32]\n",
    "\n",
    "\n",
    "#FEMALES = [10, 14, 21, 22, 23, 25, 27, 29, 31, 32] + [11, 17, 20, 24, 26, 28, 30, 33, 34]\n",
    "#MALES = [10, 14, 21, 22, 23, 25, 27, 29, 31, 32] + [11, 17, 20, 24, 26, 28, 30, 33, 34]"
   ]
  },
  {
   "cell_type": "markdown",
   "metadata": {},
   "source": [
    "## Entreno el modelo que vamos a usar para predecir"
   ]
  },
  {
   "cell_type": "code",
   "execution_count": 7,
   "metadata": {},
   "outputs": [],
   "source": [
    "points_recep = sc.read.json('datos/train-test-by-emission.jsonlines/').rdd"
   ]
  },
  {
   "cell_type": "code",
   "execution_count": 8,
   "metadata": {},
   "outputs": [],
   "source": [
    "normalizer = EmissionsNormalizer()\n",
    "data = normalizer.normalize(points_recep)\n",
    "regre_data, regre_target = normalizer.get_regression_dataframes(data)"
   ]
  },
  {
   "cell_type": "code",
   "execution_count": 9,
   "metadata": {},
   "outputs": [
    {
     "name": "stdout",
     "output_type": "stream",
     "text": [
      "             0            1\n",
      "0  2854.782012  2192.894689\n",
      "1  2854.782012  2192.894689\n",
      "2  2854.782012  2192.894689\n",
      "3  2854.782012  2192.894689\n",
      "4  2854.782012  2192.894689\n",
      "   antenna_0  antenna_1  antenna_2  antenna_3\n",
      "0          0          0          0         29\n",
      "1          0          0          0         70\n",
      "2          0          0          0         28\n",
      "3          0          0          0         58\n",
      "4          0          0          0         81\n"
     ]
    }
   ],
   "source": [
    "print(regre_target.head())\n",
    "print(regre_data.head())"
   ]
  },
  {
   "cell_type": "code",
   "execution_count": 10,
   "metadata": {},
   "outputs": [],
   "source": [
    "predictor = KnnPredictor()\n",
    "predictor.fit(regre_data, regre_target)"
   ]
  },
  {
   "cell_type": "markdown",
   "metadata": {},
   "source": [
    "### Levanto el chekpoint en pandas"
   ]
  },
  {
   "cell_type": "code",
   "execution_count": 11,
   "metadata": {},
   "outputs": [],
   "source": [
    "birds_data_complete = pd.read_parquet('tmp/checkpoint-cog-7-7.parquet')\n",
    "birds_data = birds_data_complete.drop(columns=['tag_id','timestamp'])"
   ]
  },
  {
   "cell_type": "markdown",
   "metadata": {},
   "source": [
    "### Obtengo las predicciones"
   ]
  },
  {
   "cell_type": "code",
   "execution_count": 12,
   "metadata": {},
   "outputs": [],
   "source": [
    "predictions = predictor.predict(birds_data)\n",
    "predictions = pd.concat([pd.DataFrame(predictions), pd.DataFrame(birds_data_complete)], axis=1).values"
   ]
  },
  {
   "cell_type": "code",
   "execution_count": null,
   "metadata": {},
   "outputs": [],
   "source": []
  },
  {
   "cell_type": "code",
   "execution_count": null,
   "metadata": {},
   "outputs": [],
   "source": []
  },
  {
   "cell_type": "code",
   "execution_count": null,
   "metadata": {},
   "outputs": [],
   "source": []
  },
  {
   "cell_type": "code",
   "execution_count": 13,
   "metadata": {},
   "outputs": [],
   "source": [
    "predictions = pd.DataFrame(predictions, columns=['x', 'y', 'recep_0', 'recep_1', 'recep_2', 'recep_3', 'tag', 'time'])"
   ]
  },
  {
   "cell_type": "code",
   "execution_count": 52,
   "metadata": {},
   "outputs": [],
   "source": [
    "predictions['day'] = predictions.time.str.split(' ').str[0].str.split('-').str[2].astype(int)\n",
    "predictions['hour'] = predictions.time.str.split(' ').str[1].str.split(':').str[0].astype(int)\n",
    "predictions['minute'] = predictions.time.str.split(' ').str[1].str.split(':').str[1].astype(int).astype(int)\n",
    "predictions['second'] = predictions.time.str.split(' ').str[1].str.split(':').str[2].astype(int)\n",
    "predictions['min_sec'] = (predictions['minute'] * 60 + predictions['second']).div(15).astype(int)"
   ]
  },
  {
   "cell_type": "code",
   "execution_count": null,
   "metadata": {},
   "outputs": [],
   "source": []
  },
  {
   "cell_type": "code",
   "execution_count": 53,
   "metadata": {},
   "outputs": [],
   "source": [
    "#aux = predictions.head(n=2000).copy()\n",
    "#aux_u = aux.groupby(['tag','day','hour','min_sec']).apply(lambda x: x.iloc[0]).reset_index(drop=True)"
   ]
  },
  {
   "cell_type": "code",
   "execution_count": 54,
   "metadata": {},
   "outputs": [],
   "source": [
    "i = 0\n",
    "date_index_map = {}\n",
    "\n",
    "for day in range(10,26):\n",
    "    for hour in range(7,19):\n",
    "        for min_sec in range(0,int(60*60/15)):\n",
    "            date_index_map[(day, hour, min_sec)] = i\n",
    "            i +=1\n",
    "\n",
    "index_date_map  = {v: k for k, v in date_index_map.items()}"
   ]
  },
  {
   "cell_type": "code",
   "execution_count": null,
   "metadata": {},
   "outputs": [],
   "source": []
  },
  {
   "cell_type": "code",
   "execution_count": 55,
   "metadata": {},
   "outputs": [],
   "source": [
    "predictions['date_index'] = predictions.apply(lambda x: date_index_map[(x['day'],x['hour'],x['min_sec'])], axis=1)"
   ]
  },
  {
   "cell_type": "code",
   "execution_count": 56,
   "metadata": {},
   "outputs": [
    {
     "data": {
      "text/html": [
       "<div>\n",
       "<style scoped>\n",
       "    .dataframe tbody tr th:only-of-type {\n",
       "        vertical-align: middle;\n",
       "    }\n",
       "\n",
       "    .dataframe tbody tr th {\n",
       "        vertical-align: top;\n",
       "    }\n",
       "\n",
       "    .dataframe thead th {\n",
       "        text-align: right;\n",
       "    }\n",
       "</style>\n",
       "<table border=\"1\" class=\"dataframe\">\n",
       "  <thead>\n",
       "    <tr style=\"text-align: right;\">\n",
       "      <th></th>\n",
       "      <th>x</th>\n",
       "      <th>y</th>\n",
       "      <th>recep_0</th>\n",
       "      <th>recep_1</th>\n",
       "      <th>recep_2</th>\n",
       "      <th>recep_3</th>\n",
       "      <th>tag</th>\n",
       "      <th>time</th>\n",
       "      <th>day</th>\n",
       "      <th>hour</th>\n",
       "      <th>minute</th>\n",
       "      <th>second</th>\n",
       "      <th>min_sec</th>\n",
       "      <th>date_index</th>\n",
       "    </tr>\n",
       "  </thead>\n",
       "  <tbody>\n",
       "    <tr>\n",
       "      <th>0</th>\n",
       "      <td>1452.51</td>\n",
       "      <td>1809.46</td>\n",
       "      <td>0</td>\n",
       "      <td>0</td>\n",
       "      <td>33</td>\n",
       "      <td>0</td>\n",
       "      <td>28</td>\n",
       "      <td>2018-01-10 07:00:01</td>\n",
       "      <td>10</td>\n",
       "      <td>7</td>\n",
       "      <td>0</td>\n",
       "      <td>1</td>\n",
       "      <td>0</td>\n",
       "      <td>0</td>\n",
       "    </tr>\n",
       "    <tr>\n",
       "      <th>1</th>\n",
       "      <td>1523.94</td>\n",
       "      <td>1922.76</td>\n",
       "      <td>30</td>\n",
       "      <td>0</td>\n",
       "      <td>0</td>\n",
       "      <td>0</td>\n",
       "      <td>24</td>\n",
       "      <td>2018-01-10 07:00:03</td>\n",
       "      <td>10</td>\n",
       "      <td>7</td>\n",
       "      <td>0</td>\n",
       "      <td>3</td>\n",
       "      <td>0</td>\n",
       "      <td>0</td>\n",
       "    </tr>\n",
       "    <tr>\n",
       "      <th>2</th>\n",
       "      <td>1760.4</td>\n",
       "      <td>1879.44</td>\n",
       "      <td>0</td>\n",
       "      <td>0</td>\n",
       "      <td>64</td>\n",
       "      <td>0</td>\n",
       "      <td>28</td>\n",
       "      <td>2018-01-10 07:00:06</td>\n",
       "      <td>10</td>\n",
       "      <td>7</td>\n",
       "      <td>0</td>\n",
       "      <td>6</td>\n",
       "      <td>0</td>\n",
       "      <td>0</td>\n",
       "    </tr>\n",
       "    <tr>\n",
       "      <th>3</th>\n",
       "      <td>1842.04</td>\n",
       "      <td>2096.42</td>\n",
       "      <td>0</td>\n",
       "      <td>0</td>\n",
       "      <td>41</td>\n",
       "      <td>0</td>\n",
       "      <td>28</td>\n",
       "      <td>2018-01-10 07:00:11</td>\n",
       "      <td>10</td>\n",
       "      <td>7</td>\n",
       "      <td>0</td>\n",
       "      <td>11</td>\n",
       "      <td>0</td>\n",
       "      <td>0</td>\n",
       "    </tr>\n",
       "    <tr>\n",
       "      <th>4</th>\n",
       "      <td>1712.29</td>\n",
       "      <td>1920.26</td>\n",
       "      <td>33</td>\n",
       "      <td>0</td>\n",
       "      <td>0</td>\n",
       "      <td>0</td>\n",
       "      <td>24</td>\n",
       "      <td>2018-01-10 07:00:13</td>\n",
       "      <td>10</td>\n",
       "      <td>7</td>\n",
       "      <td>0</td>\n",
       "      <td>13</td>\n",
       "      <td>0</td>\n",
       "      <td>0</td>\n",
       "    </tr>\n",
       "  </tbody>\n",
       "</table>\n",
       "</div>"
      ],
      "text/plain": [
       "         x        y recep_0 recep_1 recep_2 recep_3 tag                 time  \\\n",
       "0  1452.51  1809.46       0       0      33       0  28  2018-01-10 07:00:01   \n",
       "1  1523.94  1922.76      30       0       0       0  24  2018-01-10 07:00:03   \n",
       "2   1760.4  1879.44       0       0      64       0  28  2018-01-10 07:00:06   \n",
       "3  1842.04  2096.42       0       0      41       0  28  2018-01-10 07:00:11   \n",
       "4  1712.29  1920.26      33       0       0       0  24  2018-01-10 07:00:13   \n",
       "\n",
       "   day  hour  minute  second  min_sec  date_index  \n",
       "0   10     7       0       1        0           0  \n",
       "1   10     7       0       3        0           0  \n",
       "2   10     7       0       6        0           0  \n",
       "3   10     7       0      11        0           0  \n",
       "4   10     7       0      13        0           0  "
      ]
     },
     "execution_count": 56,
     "metadata": {},
     "output_type": "execute_result"
    }
   ],
   "source": [
    "predictions.head()"
   ]
  },
  {
   "cell_type": "code",
   "execution_count": 57,
   "metadata": {},
   "outputs": [],
   "source": [
    "def distance_between(x1, x2, y1, y2):\n",
    "    return math.hypot(x2-x1, y2-y1)\n"
   ]
  },
  {
   "cell_type": "code",
   "execution_count": 58,
   "metadata": {},
   "outputs": [],
   "source": [
    "def found_groups(rows):\n",
    "    groups = {}\n",
    "    for b in FEMALES+MALES:\n",
    "        groups[b] = []\n",
    "    \n",
    "    rows_l = rows.values.tolist()\n",
    "    for i in range(len(rows_l)):\n",
    "        for j in range(i+1,len(rows_l)):\n",
    "            distance = distance_between(rows_l[i][0], rows_l[j][0], rows_l[i][1], rows_l[j][1])\n",
    "            if distance < 300:\n",
    "                b1 = rows_l[i][6]\n",
    "                b2 = rows_l[j][6]\n",
    "\n",
    "\n",
    "                groups[b1].append(b2)\n",
    "                groups[b2].append(b1)\n",
    "    #print(groups)\n",
    "\n",
    "                \n",
    "    for bird, g in groups.items():\n",
    "        if len(g) == 0:\n",
    "            continue\n",
    "        for adyacent_bird in g:\n",
    "            if bird == adyacent_bird:\n",
    "                continue\n",
    "            groups[adyacent_bird] = list(set(groups[adyacent_bird] + groups[bird]))\n",
    "            \n",
    "    visited = {}\n",
    "    for b in FEMALES+MALES:\n",
    "        visited[b] = False\n",
    "    \n",
    "    res = []\n",
    "    for start_bird in FEMALES+MALES:\n",
    "        associated_birds = []\n",
    "        queue = [start_bird]\n",
    "        while len(queue) > 0:\n",
    "            bird = queue.pop()\n",
    "            if visited[bird]:\n",
    "                continue\n",
    "            visited[bird] = True\n",
    "            associated_birds.append(bird)\n",
    "            queue = queue + groups[bird]\n",
    "        \n",
    "\n",
    "        if len(associated_birds) > 1:\n",
    "            res.append(associated_birds)\n",
    "\n",
    "    return res"
   ]
  },
  {
   "cell_type": "code",
   "execution_count": null,
   "metadata": {},
   "outputs": [],
   "source": []
  },
  {
   "cell_type": "code",
   "execution_count": 59,
   "metadata": {},
   "outputs": [],
   "source": [
    "birds_network = predictions.groupby(['date_index']).apply(found_groups).reset_index()"
   ]
  },
  {
   "cell_type": "code",
   "execution_count": 60,
   "metadata": {},
   "outputs": [
    {
     "data": {
      "text/html": [
       "<div>\n",
       "<style scoped>\n",
       "    .dataframe tbody tr th:only-of-type {\n",
       "        vertical-align: middle;\n",
       "    }\n",
       "\n",
       "    .dataframe tbody tr th {\n",
       "        vertical-align: top;\n",
       "    }\n",
       "\n",
       "    .dataframe thead th {\n",
       "        text-align: right;\n",
       "    }\n",
       "</style>\n",
       "<table border=\"1\" class=\"dataframe\">\n",
       "  <thead>\n",
       "    <tr style=\"text-align: right;\">\n",
       "      <th></th>\n",
       "      <th>date_index</th>\n",
       "      <th>0</th>\n",
       "    </tr>\n",
       "  </thead>\n",
       "  <tbody>\n",
       "    <tr>\n",
       "      <th>0</th>\n",
       "      <td>0</td>\n",
       "      <td>[[24, 28]]</td>\n",
       "    </tr>\n",
       "    <tr>\n",
       "      <th>1</th>\n",
       "      <td>1</td>\n",
       "      <td>[]</td>\n",
       "    </tr>\n",
       "    <tr>\n",
       "      <th>2</th>\n",
       "      <td>2</td>\n",
       "      <td>[]</td>\n",
       "    </tr>\n",
       "    <tr>\n",
       "      <th>3</th>\n",
       "      <td>3</td>\n",
       "      <td>[]</td>\n",
       "    </tr>\n",
       "    <tr>\n",
       "      <th>4</th>\n",
       "      <td>4</td>\n",
       "      <td>[]</td>\n",
       "    </tr>\n",
       "    <tr>\n",
       "      <th>...</th>\n",
       "      <td>...</td>\n",
       "      <td>...</td>\n",
       "    </tr>\n",
       "    <tr>\n",
       "      <th>42227</th>\n",
       "      <td>46075</td>\n",
       "      <td>[]</td>\n",
       "    </tr>\n",
       "    <tr>\n",
       "      <th>42228</th>\n",
       "      <td>46076</td>\n",
       "      <td>[]</td>\n",
       "    </tr>\n",
       "    <tr>\n",
       "      <th>42229</th>\n",
       "      <td>46077</td>\n",
       "      <td>[[26, 27]]</td>\n",
       "    </tr>\n",
       "    <tr>\n",
       "      <th>42230</th>\n",
       "      <td>46078</td>\n",
       "      <td>[[26, 30, 27]]</td>\n",
       "    </tr>\n",
       "    <tr>\n",
       "      <th>42231</th>\n",
       "      <td>46079</td>\n",
       "      <td>[]</td>\n",
       "    </tr>\n",
       "  </tbody>\n",
       "</table>\n",
       "<p>42232 rows × 2 columns</p>\n",
       "</div>"
      ],
      "text/plain": [
       "       date_index               0\n",
       "0               0      [[24, 28]]\n",
       "1               1              []\n",
       "2               2              []\n",
       "3               3              []\n",
       "4               4              []\n",
       "...           ...             ...\n",
       "42227       46075              []\n",
       "42228       46076              []\n",
       "42229       46077      [[26, 27]]\n",
       "42230       46078  [[26, 30, 27]]\n",
       "42231       46079              []\n",
       "\n",
       "[42232 rows x 2 columns]"
      ]
     },
     "execution_count": 60,
     "metadata": {},
     "output_type": "execute_result"
    }
   ],
   "source": [
    "birds_network"
   ]
  },
  {
   "cell_type": "code",
   "execution_count": null,
   "metadata": {},
   "outputs": [],
   "source": []
  },
  {
   "cell_type": "code",
   "execution_count": 61,
   "metadata": {},
   "outputs": [],
   "source": [
    "birds_network_list = []\n",
    "\n",
    "for row in birds_network.iterrows():\n",
    "    for g in row[1][0]:\n",
    "        day = index_date_map[row[1]['date_index']][0]\n",
    "        hour = index_date_map[row[1]['date_index']][1]\n",
    "        min_sec = index_date_map[row[1]['date_index']][2]\n",
    "        minute = 0\n",
    "        sec = (min_sec*15)%60\n",
    "        #if min_sec >= 60:\n",
    "            #minute = 1\n",
    "        minute = min_sec*15/60\n",
    "        if int(minute) != minute:\n",
    "            minute = int(minute)+1\n",
    "        minute = int(minute)\n",
    "        \n",
    "        if minute < 10:\n",
    "            minute = f'0{minute}'\n",
    "        if sec < 10:\n",
    "            sec = f'0{sec}'\n",
    "        if hour < 10:\n",
    "            hour = f'0{hour}'\n",
    "        \n",
    "        birds_network_list.append((f'2018-01-{day} {hour}:{minute}:{sec}', row[1]['date_index'], g))"
   ]
  },
  {
   "cell_type": "code",
   "execution_count": 62,
   "metadata": {},
   "outputs": [],
   "source": [
    "res = pd.DataFrame(birds_network_list, columns=['date', 'date_index', 'group'])"
   ]
  },
  {
   "cell_type": "code",
   "execution_count": 63,
   "metadata": {},
   "outputs": [],
   "source": [
    "res.to_csv('social_network_matrix_15.csv', index=0)"
   ]
  },
  {
   "cell_type": "code",
   "execution_count": 64,
   "metadata": {},
   "outputs": [
    {
     "data": {
      "text/html": [
       "<div>\n",
       "<style scoped>\n",
       "    .dataframe tbody tr th:only-of-type {\n",
       "        vertical-align: middle;\n",
       "    }\n",
       "\n",
       "    .dataframe tbody tr th {\n",
       "        vertical-align: top;\n",
       "    }\n",
       "\n",
       "    .dataframe thead th {\n",
       "        text-align: right;\n",
       "    }\n",
       "</style>\n",
       "<table border=\"1\" class=\"dataframe\">\n",
       "  <thead>\n",
       "    <tr style=\"text-align: right;\">\n",
       "      <th></th>\n",
       "      <th>date</th>\n",
       "      <th>date_index</th>\n",
       "      <th>group</th>\n",
       "    </tr>\n",
       "  </thead>\n",
       "  <tbody>\n",
       "    <tr>\n",
       "      <th>0</th>\n",
       "      <td>2018-01-10 07:00:00</td>\n",
       "      <td>0</td>\n",
       "      <td>[24, 28]</td>\n",
       "    </tr>\n",
       "    <tr>\n",
       "      <th>1</th>\n",
       "      <td>2018-01-10 07:02:15</td>\n",
       "      <td>5</td>\n",
       "      <td>[24, 28]</td>\n",
       "    </tr>\n",
       "    <tr>\n",
       "      <th>2</th>\n",
       "      <td>2018-01-10 07:05:15</td>\n",
       "      <td>17</td>\n",
       "      <td>[24, 28]</td>\n",
       "    </tr>\n",
       "    <tr>\n",
       "      <th>3</th>\n",
       "      <td>2018-01-10 07:05:00</td>\n",
       "      <td>20</td>\n",
       "      <td>[28, 21]</td>\n",
       "    </tr>\n",
       "    <tr>\n",
       "      <th>4</th>\n",
       "      <td>2018-01-10 07:06:15</td>\n",
       "      <td>21</td>\n",
       "      <td>[24, 28]</td>\n",
       "    </tr>\n",
       "    <tr>\n",
       "      <th>...</th>\n",
       "      <td>...</td>\n",
       "      <td>...</td>\n",
       "      <td>...</td>\n",
       "    </tr>\n",
       "    <tr>\n",
       "      <th>39110</th>\n",
       "      <td>2018-01-25 18:58:30</td>\n",
       "      <td>46070</td>\n",
       "      <td>[34, 29]</td>\n",
       "    </tr>\n",
       "    <tr>\n",
       "      <th>39111</th>\n",
       "      <td>2018-01-25 18:58:45</td>\n",
       "      <td>46071</td>\n",
       "      <td>[26, 27]</td>\n",
       "    </tr>\n",
       "    <tr>\n",
       "      <th>39112</th>\n",
       "      <td>2018-01-25 18:59:15</td>\n",
       "      <td>46073</td>\n",
       "      <td>[26, 22]</td>\n",
       "    </tr>\n",
       "    <tr>\n",
       "      <th>39113</th>\n",
       "      <td>2018-01-25 18:60:15</td>\n",
       "      <td>46077</td>\n",
       "      <td>[26, 27]</td>\n",
       "    </tr>\n",
       "    <tr>\n",
       "      <th>39114</th>\n",
       "      <td>2018-01-25 18:60:30</td>\n",
       "      <td>46078</td>\n",
       "      <td>[26, 30, 27]</td>\n",
       "    </tr>\n",
       "  </tbody>\n",
       "</table>\n",
       "<p>39115 rows × 3 columns</p>\n",
       "</div>"
      ],
      "text/plain": [
       "                      date  date_index         group\n",
       "0      2018-01-10 07:00:00           0      [24, 28]\n",
       "1      2018-01-10 07:02:15           5      [24, 28]\n",
       "2      2018-01-10 07:05:15          17      [24, 28]\n",
       "3      2018-01-10 07:05:00          20      [28, 21]\n",
       "4      2018-01-10 07:06:15          21      [24, 28]\n",
       "...                    ...         ...           ...\n",
       "39110  2018-01-25 18:58:30       46070      [34, 29]\n",
       "39111  2018-01-25 18:58:45       46071      [26, 27]\n",
       "39112  2018-01-25 18:59:15       46073      [26, 22]\n",
       "39113  2018-01-25 18:60:15       46077      [26, 27]\n",
       "39114  2018-01-25 18:60:30       46078  [26, 30, 27]\n",
       "\n",
       "[39115 rows x 3 columns]"
      ]
     },
     "execution_count": 64,
     "metadata": {},
     "output_type": "execute_result"
    }
   ],
   "source": [
    "res"
   ]
  },
  {
   "cell_type": "code",
   "execution_count": 169,
   "metadata": {},
   "outputs": [
    {
     "data": {
      "text/html": [
       "<div>\n",
       "<style scoped>\n",
       "    .dataframe tbody tr th:only-of-type {\n",
       "        vertical-align: middle;\n",
       "    }\n",
       "\n",
       "    .dataframe tbody tr th {\n",
       "        vertical-align: top;\n",
       "    }\n",
       "\n",
       "    .dataframe thead th {\n",
       "        text-align: right;\n",
       "    }\n",
       "</style>\n",
       "<table border=\"1\" class=\"dataframe\">\n",
       "  <thead>\n",
       "    <tr style=\"text-align: right;\">\n",
       "      <th></th>\n",
       "      <th>date</th>\n",
       "      <th>date_index</th>\n",
       "      <th>group</th>\n",
       "    </tr>\n",
       "  </thead>\n",
       "  <tbody>\n",
       "    <tr>\n",
       "      <th>0</th>\n",
       "      <td>2018-01-10 07:00:00</td>\n",
       "      <td>0</td>\n",
       "      <td>[24, 28]</td>\n",
       "    </tr>\n",
       "    <tr>\n",
       "      <th>1</th>\n",
       "      <td>2018-01-10 07:03:00</td>\n",
       "      <td>2</td>\n",
       "      <td>[24, 28]</td>\n",
       "    </tr>\n",
       "    <tr>\n",
       "      <th>2</th>\n",
       "      <td>2018-01-10 07:05:30</td>\n",
       "      <td>3</td>\n",
       "      <td>[20, 28, 24, 21, 14, 33, 32]</td>\n",
       "    </tr>\n",
       "    <tr>\n",
       "      <th>3</th>\n",
       "      <td>2018-01-10 07:06:00</td>\n",
       "      <td>4</td>\n",
       "      <td>[20, 28, 24, 21, 14, 33, 32]</td>\n",
       "    </tr>\n",
       "    <tr>\n",
       "      <th>4</th>\n",
       "      <td>2018-01-10 07:08:30</td>\n",
       "      <td>5</td>\n",
       "      <td>[24, 28, 14, 33, 32]</td>\n",
       "    </tr>\n",
       "    <tr>\n",
       "      <th>...</th>\n",
       "      <td>...</td>\n",
       "      <td>...</td>\n",
       "      <td>...</td>\n",
       "    </tr>\n",
       "    <tr>\n",
       "      <th>7944</th>\n",
       "      <td>2018-01-25 18:56:30</td>\n",
       "      <td>7677</td>\n",
       "      <td>[20, 30, 29, 27, 26, 24, 21, 14, 34]</td>\n",
       "    </tr>\n",
       "    <tr>\n",
       "      <th>7945</th>\n",
       "      <td>2018-01-25 18:57:00</td>\n",
       "      <td>7678</td>\n",
       "      <td>[20, 29, 21, 34]</td>\n",
       "    </tr>\n",
       "    <tr>\n",
       "      <th>7946</th>\n",
       "      <td>2018-01-25 18:57:00</td>\n",
       "      <td>7678</td>\n",
       "      <td>[26, 30, 27, 25, 22, 14]</td>\n",
       "    </tr>\n",
       "    <tr>\n",
       "      <th>7947</th>\n",
       "      <td>2018-01-25 18:59:30</td>\n",
       "      <td>7679</td>\n",
       "      <td>[24, 32]</td>\n",
       "    </tr>\n",
       "    <tr>\n",
       "      <th>7948</th>\n",
       "      <td>2018-01-25 18:59:30</td>\n",
       "      <td>7679</td>\n",
       "      <td>[26, 30, 27]</td>\n",
       "    </tr>\n",
       "  </tbody>\n",
       "</table>\n",
       "<p>7949 rows × 3 columns</p>\n",
       "</div>"
      ],
      "text/plain": [
       "                     date  date_index                                 group\n",
       "0     2018-01-10 07:00:00           0                              [24, 28]\n",
       "1     2018-01-10 07:03:00           2                              [24, 28]\n",
       "2     2018-01-10 07:05:30           3          [20, 28, 24, 21, 14, 33, 32]\n",
       "3     2018-01-10 07:06:00           4          [20, 28, 24, 21, 14, 33, 32]\n",
       "4     2018-01-10 07:08:30           5                  [24, 28, 14, 33, 32]\n",
       "...                   ...         ...                                   ...\n",
       "7944  2018-01-25 18:56:30        7677  [20, 30, 29, 27, 26, 24, 21, 14, 34]\n",
       "7945  2018-01-25 18:57:00        7678                      [20, 29, 21, 34]\n",
       "7946  2018-01-25 18:57:00        7678              [26, 30, 27, 25, 22, 14]\n",
       "7947  2018-01-25 18:59:30        7679                              [24, 32]\n",
       "7948  2018-01-25 18:59:30        7679                          [26, 30, 27]\n",
       "\n",
       "[7949 rows x 3 columns]"
      ]
     },
     "execution_count": 169,
     "metadata": {},
     "output_type": "execute_result"
    }
   ],
   "source": [
    "res"
   ]
  },
  {
   "cell_type": "code",
   "execution_count": 65,
   "metadata": {},
   "outputs": [
    {
     "data": {
      "text/plain": [
       "<pandas.core.strings.StringMethods at 0x7ff149e6f5e0>"
      ]
     },
     "execution_count": 65,
     "metadata": {},
     "output_type": "execute_result"
    }
   ],
   "source": [
    "res.date.str.split(' ').str[1].str.split(':').str[0]."
   ]
  },
  {
   "cell_type": "code",
   "execution_count": 170,
   "metadata": {},
   "outputs": [
    {
     "data": {
      "text/plain": [
       "253"
      ]
     },
     "execution_count": 170,
     "metadata": {},
     "output_type": "execute_result"
    }
   ],
   "source": [
    "len(res[\n",
    "    (res.group.apply(lambda x: 34 in x and 32 in x)) &\n",
    "    (res.date.str.split(' ').str[1].str.split(':').str[0].isin(['07','08','09']))\n",
    "])"
   ]
  },
  {
   "cell_type": "code",
   "execution_count": 171,
   "metadata": {},
   "outputs": [
    {
     "data": {
      "text/plain": [
       "124"
      ]
     },
     "execution_count": 171,
     "metadata": {},
     "output_type": "execute_result"
    }
   ],
   "source": [
    "len(res[\n",
    "    (res.group.apply(lambda x: 34 in x and 32 in x)) &\n",
    "    (res.date.str.split(' ').str[1].str.split(':').str[0].isin(['10','11','12']))\n",
    "])"
   ]
  },
  {
   "cell_type": "code",
   "execution_count": 172,
   "metadata": {},
   "outputs": [
    {
     "data": {
      "text/plain": [
       "127"
      ]
     },
     "execution_count": 172,
     "metadata": {},
     "output_type": "execute_result"
    }
   ],
   "source": [
    "len(res[\n",
    "    (res.group.apply(lambda x: 34 in x and 32 in x)) &\n",
    "    (res.date.str.split(' ').str[1].str.split(':').str[0].isin(['13','14','15']))\n",
    "])"
   ]
  },
  {
   "cell_type": "code",
   "execution_count": 174,
   "metadata": {},
   "outputs": [
    {
     "data": {
      "text/plain": [
       "190"
      ]
     },
     "execution_count": 174,
     "metadata": {},
     "output_type": "execute_result"
    }
   ],
   "source": [
    "len(res[\n",
    "    (res.group.apply(lambda x: 34 in x and 32 in x)) & \n",
    "    (res.date.str.split(' ').str[1].str.split(':').str[0].isin(['16','17','18']))\n",
    "])"
   ]
  },
  {
   "cell_type": "code",
   "execution_count": null,
   "metadata": {},
   "outputs": [],
   "source": []
  }
 ],
 "metadata": {
  "kernelspec": {
   "display_name": "Python 3",
   "language": "python",
   "name": "python3"
  },
  "language_info": {
   "codemirror_mode": {
    "name": "ipython",
    "version": 3
   },
   "file_extension": ".py",
   "mimetype": "text/x-python",
   "name": "python",
   "nbconvert_exporter": "python",
   "pygments_lexer": "ipython3",
   "version": "3.8.3"
  }
 },
 "nbformat": 4,
 "nbformat_minor": 2
}
