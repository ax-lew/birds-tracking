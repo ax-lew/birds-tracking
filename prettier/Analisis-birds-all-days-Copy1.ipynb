{
 "cells": [
  {
   "cell_type": "code",
   "execution_count": 1,
   "metadata": {},
   "outputs": [],
   "source": [
    "import pyspark\n",
    "\n",
    "sc = pyspark.sql.SparkSession.Builder().getOrCreate()"
   ]
  },
  {
   "cell_type": "markdown",
   "metadata": {},
   "source": [
    "## Levanto los archivos"
   ]
  },
  {
   "cell_type": "code",
   "execution_count": 2,
   "metadata": {},
   "outputs": [],
   "source": [
    "import json\n",
    "import numpy as np\n",
    "import pandas as pd\n",
    "import matplotlib.pyplot as plt"
   ]
  },
  {
   "cell_type": "code",
   "execution_count": 3,
   "metadata": {},
   "outputs": [],
   "source": [
    "birds_recep_df = sc.read.json('../datos/all-birds-data.jsonlines/')\n",
    "birds_recep = birds_recep_df.rdd"
   ]
  },
  {
   "cell_type": "markdown",
   "metadata": {},
   "source": [
    "### Desde hace cuanto hay datos en la 3er antena"
   ]
  },
  {
   "cell_type": "code",
   "execution_count": 4,
   "metadata": {},
   "outputs": [],
   "source": [
    "FEMALES = [11, 17, 20, 24, 26, 28, 30, 33, 34]\n",
    "MALES = [10, 14, 21, 22, 23, 25, 27, 29, 31, 32]"
   ]
  },
  {
   "cell_type": "code",
   "execution_count": null,
   "metadata": {},
   "outputs": [],
   "source": []
  },
  {
   "cell_type": "code",
   "execution_count": null,
   "metadata": {},
   "outputs": [],
   "source": []
  },
  {
   "cell_type": "code",
   "execution_count": 8,
   "metadata": {},
   "outputs": [],
   "source": [
    "nombre_antenas = [\"RC1\", \"RC2\", \"D1\", \"D2\"] "
   ]
  },
  {
   "cell_type": "code",
   "execution_count": 5,
   "metadata": {},
   "outputs": [],
   "source": [
    "birds_recep = birds_recep.filter(lambda x: x['tag_id'] in FEMALES+MALES)"
   ]
  },
  {
   "cell_type": "code",
   "execution_count": 9,
   "metadata": {},
   "outputs": [],
   "source": [
    "DATA_SUBSET = True\n",
    "START_TIME = '08:00:00'\n",
    "END_TIME = '19:00:00'\n",
    "start_date = '2018-01-10'\n",
    "end_date = '2018-01-26'\n",
    "\n",
    "if DATA_SUBSET:\n",
    "    birds_recep = birds_recep.filter(lambda x: x['timestamp'] >= start_date and  x['timestamp'] < end_date).filter(lambda x: START_TIME <= x['timestamp'].split(' ')[1] < END_TIME)"
   ]
  },
  {
   "cell_type": "markdown",
   "metadata": {},
   "source": [
    "### Cantidad de recepciones por antena"
   ]
  },
  {
   "cell_type": "markdown",
   "metadata": {},
   "source": [
    "#### (2) ¿Todas las antenas tienen el mismo impacto? ¿O hay antenas con más emisiones/más puntos alcanzables?"
   ]
  },
  {
   "cell_type": "code",
   "execution_count": 11,
   "metadata": {},
   "outputs": [],
   "source": [
    "cants_recep_por_antena = []\n",
    "for i in range(4):\n",
    "    cant = birds_recep.filter(lambda x: x['recep_{}'.format(i)] > 0).count()\n",
    "    cants_recep_por_antena.append({'antenna': i, 'cant_recep': cant})\n",
    "\n",
    "data = pd.DataFrame(cants_recep_por_antena)"
   ]
  },
  {
   "cell_type": "code",
   "execution_count": 16,
   "metadata": {},
   "outputs": [
    {
     "data": {
      "image/png": "[encoded data removed]",
      "text/plain": [
       "<Figure size 720x360 with 1 Axes>"
      ]
     },
     "metadata": {
      "needs_background": "light"
     },
     "output_type": "display_data"
    }
   ],
   "source": [
    "fig, ax = plt.subplots(figsize=(10,5))\n",
    "\n",
    "data.plot.bar(x='antenna', y='cant_recep', legend=False, color=['red','green','blue','orange'], ax=ax)\n",
    "ax.set_ylabel('Cantidad de recepciones')\n",
    "ax.set_xlabel('Antena')\n",
    "ax.set_xticklabels(nombre_antenas)\n",
    "\n",
    "fig.savefig('CantidadRecepcionesPajarosPorAntenaHorarioDiurno.png')\n"
   ]
  },
  {
   "cell_type": "code",
   "execution_count": null,
   "metadata": {},
   "outputs": [],
   "source": []
  },
  {
   "cell_type": "markdown",
   "metadata": {},
   "source": [
    "### Cantidad de emisions que usan _x_ cantidad de antenas"
   ]
  },
  {
   "cell_type": "markdown",
   "metadata": {},
   "source": [
    "#### (9) ¿Cuantos emisiones usan 1 antena? ¿Y 2 antenas?"
   ]
  },
  {
   "cell_type": "code",
   "execution_count": 17,
   "metadata": {},
   "outputs": [],
   "source": [
    "cant_recep = birds_recep.groupBy(lambda x: sum([x['recep_{}'.format(i)] > 0 for i in range(4)])).map(lambda x: {'antennas': x[0],'cant_recep': len(x[1])})\n",
    "data = pd.DataFrame(cant_recep.collect())"
   ]
  },
  {
   "cell_type": "code",
   "execution_count": 20,
   "metadata": {},
   "outputs": [
    {
     "data": {
      "image/png": "[encoded data removed]",
      "text/plain": [
       "<Figure size 720x360 with 1 Axes>"
      ]
     },
     "metadata": {
      "needs_background": "light"
     },
     "output_type": "display_data"
    }
   ],
   "source": [
    "fig, ax = plt.subplots(figsize=(10,5))\n",
    "\n",
    "data.plot.bar(x='antennas', y='cant_recep', legend=False, color=['red','green','blue','orange'], ax=ax)\n",
    "ax.set_ylabel('Cantidad de emisiones')\n",
    "ax.set_xlabel('Cantidad de antenas')\n",
    "\n",
    "fig.savefig('CantidadAntenasPorEmisionDePajarosHorarioDiurno.png')"
   ]
  },
  {
   "cell_type": "code",
   "execution_count": null,
   "metadata": {},
   "outputs": [],
   "source": []
  }
 ],
 "metadata": {
  "kernelspec": {
   "display_name": "Python 3",
   "language": "python",
   "name": "python3"
  },
  "language_info": {
   "codemirror_mode": {
    "name": "ipython",
    "version": 3
   },
   "file_extension": ".py",
   "mimetype": "text/x-python",
   "name": "python",
   "nbconvert_exporter": "python",
   "pygments_lexer": "ipython3",
   "version": "3.6.5"
  }
 },
 "nbformat": 4,
 "nbformat_minor": 2
}
