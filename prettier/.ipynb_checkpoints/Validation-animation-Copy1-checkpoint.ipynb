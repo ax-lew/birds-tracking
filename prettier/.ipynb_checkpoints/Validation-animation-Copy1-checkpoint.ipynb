{
 "cells": [
  {
   "cell_type": "code",
   "execution_count": 1,
   "metadata": {},
   "outputs": [],
   "source": [
    "import pyspark\n",
    "\n",
    "sc = pyspark.sql.SparkSession.Builder().getOrCreate()"
   ]
  },
  {
   "cell_type": "markdown",
   "metadata": {},
   "source": [
    "## Levanto los archivos"
   ]
  },
  {
   "cell_type": "code",
   "execution_count": 3,
   "metadata": {
    "scrolled": true
   },
   "outputs": [
    {
     "ename": "ModuleNotFoundError",
     "evalue": "No module named 'utm'",
     "output_type": "error",
     "traceback": [
      "\u001b[0;31m---------------------------------------------------------------------------\u001b[0m",
      "\u001b[0;31mModuleNotFoundError\u001b[0m                       Traceback (most recent call last)",
      "\u001b[0;32m<ipython-input-3-5b8d3ebe19e0>\u001b[0m in \u001b[0;36m<module>\u001b[0;34m\u001b[0m\n\u001b[1;32m     14\u001b[0m \u001b[0;32mimport\u001b[0m \u001b[0mmath\u001b[0m\u001b[0;34m\u001b[0m\u001b[0;34m\u001b[0m\u001b[0m\n\u001b[1;32m     15\u001b[0m \u001b[0;32mimport\u001b[0m \u001b[0mtime\u001b[0m\u001b[0;34m\u001b[0m\u001b[0;34m\u001b[0m\u001b[0m\n\u001b[0;32m---> 16\u001b[0;31m \u001b[0;32mimport\u001b[0m \u001b[0mutm\u001b[0m\u001b[0;34m\u001b[0m\u001b[0;34m\u001b[0m\u001b[0m\n\u001b[0m\u001b[1;32m     17\u001b[0m \u001b[0;32mfrom\u001b[0m \u001b[0mdatetime\u001b[0m \u001b[0;32mimport\u001b[0m \u001b[0mdatetime\u001b[0m\u001b[0;34m,\u001b[0m \u001b[0mtimedelta\u001b[0m\u001b[0;34m\u001b[0m\u001b[0;34m\u001b[0m\u001b[0m\n\u001b[1;32m     18\u001b[0m \u001b[0;32mimport\u001b[0m \u001b[0mmatplotlib\u001b[0m\u001b[0;34m.\u001b[0m\u001b[0manimation\u001b[0m \u001b[0;32mas\u001b[0m \u001b[0manimation\u001b[0m\u001b[0;34m\u001b[0m\u001b[0;34m\u001b[0m\u001b[0m\n",
      "\u001b[0;31mModuleNotFoundError\u001b[0m: No module named 'utm'"
     ]
    }
   ],
   "source": [
    "import json\n",
    "import numpy as np\n",
    "import pandas as pd\n",
    "import matplotlib.pyplot as plt\n",
    "from sklearn.neighbors import KNeighborsRegressor\n",
    "from sklearn.multioutput import MultiOutputRegressor\n",
    "from sklearn.model_selection import cross_val_score, train_test_split\n",
    "from sklearn.neighbors import KNeighborsClassifier\n",
    "from sklearn.model_selection import KFold \n",
    "from sklearn.model_selection import GridSearchCV\n",
    "from sklearn.model_selection import ParameterGrid\n",
    "from sklearn.neighbors import base\n",
    "from IPython.display import display, HTML\n",
    "import math\n",
    "import time\n",
    "import utm\n",
    "from datetime import datetime, timedelta\n",
    "import matplotlib.animation as animation\n",
    "\n",
    "from utils.emissions_normalizer import EmissionsNormalizer\n",
    "from utils.knn_predictor import KnnPredictor\n",
    "from utils.smoother import Smoother\n",
    "from utils.random_predictor import RandomPredictor\n"
   ]
  },
  {
   "cell_type": "code",
   "execution_count": 3,
   "metadata": {},
   "outputs": [
    {
     "name": "stdout",
     "output_type": "stream",
     "text": [
      "Collecting utm\n",
      "  Downloading utm-0.7.0.tar.gz (8.7 kB)\n",
      "Building wheels for collected packages: utm\n",
      "  Building wheel for utm (setup.py) ... \u001b[?25ldone\n",
      "\u001b[?25h  Created wheel for utm: filename=utm-0.7.0-py3-none-any.whl size=6094 sha256=2c70618a3d73a60bac452e8f816735d344e82646c9e0f2e0559795dcc47de72f\n",
      "  Stored in directory: /Users/axellew/Library/Caches/pip/wheels/65/e2/d8/878a8cc986641056fbfebefc4d8eb64238a7b6d3426e86b447\n",
      "Successfully built utm\n",
      "Installing collected packages: utm\n",
      "Successfully installed utm-0.7.0\n",
      "\u001b[33mWARNING: You are using pip version 20.1.1; however, version 22.2 is available.\n",
      "You should consider upgrading via the '/Users/axellew/Desktop/Axel/Tesis/birds-tracking/py3/bin/python -m pip install --upgrade pip' command.\u001b[0m\n"
     ]
    }
   ],
   "source": []
  },
  {
   "cell_type": "markdown",
   "metadata": {},
   "source": [
    "## Map utils"
   ]
  },
  {
   "cell_type": "code",
   "execution_count": 3,
   "metadata": {},
   "outputs": [],
   "source": [
    "global posicion_antenas\n",
    "posicion_antenas = [(463512.015195402,6111004.324434620),(464259.981343845,6110331.85100085),(464443.295130103,6111377.26171875),(464629.562194595,6111105.34734669)]\n",
    "nombre_antenas = [\"RC1\", \"RC2\", \"D1\", \"D2\"] \n",
    "\n",
    "\n",
    "global x_0\n",
    "global y_0\n",
    "\n",
    "x_0 = 462385.503783397\n",
    "x_f = 465958.114906211\n",
    "y_0 = 6109042.35153865\n",
    "y_f = 6112715.80637111\n",
    "\n"
   ]
  },
  {
   "cell_type": "code",
   "execution_count": null,
   "metadata": {},
   "outputs": [],
   "source": []
  },
  {
   "cell_type": "markdown",
   "metadata": {},
   "source": [
    "## Entreno el modelo que vamos a usar para predecir"
   ]
  },
  {
   "cell_type": "code",
   "execution_count": 4,
   "metadata": {},
   "outputs": [],
   "source": [
    "points_recep = sc.read.json('../datos/train-test-by-emission.jsonlines/').rdd"
   ]
  },
  {
   "cell_type": "code",
   "execution_count": 6,
   "metadata": {},
   "outputs": [],
   "source": [
    "normalizer = EmissionsNormalizer()\n",
    "data = normalizer.normalize(points_recep)\n",
    "regre_data, regre_target = normalizer.get_regression_dataframes(data)"
   ]
  },
  {
   "cell_type": "code",
   "execution_count": 7,
   "metadata": {},
   "outputs": [],
   "source": [
    "predictor = KnnPredictor()\n",
    "predictor.fit(regre_data, regre_target)"
   ]
  },
  {
   "cell_type": "code",
   "execution_count": null,
   "metadata": {},
   "outputs": [],
   "source": []
  },
  {
   "cell_type": "markdown",
   "metadata": {},
   "source": [
    "## Levanto datos de validacion"
   ]
  },
  {
   "cell_type": "code",
   "execution_count": 8,
   "metadata": {},
   "outputs": [],
   "source": [
    "validation_track = sc.read.csv('../datos/validation_birds_tracks.csv', header=True)"
   ]
  },
  {
   "cell_type": "code",
   "execution_count": 9,
   "metadata": {},
   "outputs": [],
   "source": [
    "def add_utm_coordinates(row):\n",
    "    row_dict = row.asDict()\n",
    "    x, y,_,_ = utm.from_latlon(float(row['Latitud']), float(row['Longitud']))\n",
    "    row_dict['x'] = x\n",
    "    row_dict['y'] = y\n",
    "    return row_dict\n",
    "\n",
    "def add_timestamp(row):\n",
    "    row['timestamp'] = '{} {}'.format(\n",
    "        datetime.strptime(row['Fecha'], '%m/%d/%Y').strftime('%Y-%m-%d'),\n",
    "        row['Hora']\n",
    "    )\n",
    "    return row"
   ]
  },
  {
   "cell_type": "code",
   "execution_count": 10,
   "metadata": {},
   "outputs": [],
   "source": [
    "validation_track = validation_track.rdd.map(add_utm_coordinates).map(add_timestamp)"
   ]
  },
  {
   "cell_type": "code",
   "execution_count": 11,
   "metadata": {},
   "outputs": [],
   "source": [
    "validations_list = validation_track.collect()"
   ]
  },
  {
   "cell_type": "code",
   "execution_count": 12,
   "metadata": {},
   "outputs": [],
   "source": [
    "validation_days = set([e['timestamp'].split()[0] for e in validations_list])\n",
    "validation_birds = set([int(e['ID']) for e in validations_list])"
   ]
  },
  {
   "cell_type": "code",
   "execution_count": null,
   "metadata": {},
   "outputs": [],
   "source": []
  },
  {
   "cell_type": "code",
   "execution_count": null,
   "metadata": {},
   "outputs": [],
   "source": []
  },
  {
   "cell_type": "code",
   "execution_count": null,
   "metadata": {},
   "outputs": [],
   "source": []
  },
  {
   "cell_type": "markdown",
   "metadata": {},
   "source": [
    "## Levanto el archivo con las emisiones de los pajaros"
   ]
  },
  {
   "cell_type": "code",
   "execution_count": 13,
   "metadata": {},
   "outputs": [],
   "source": [
    "birds_recep = sc.read.json('../datos/all-birds-data.jsonlines/').rdd\n",
    "birds_recep = birds_recep.filter(lambda x: x['timestamp'].split()[0] in validation_days and x['tag_id'] in validation_birds)\n",
    "birds_recep = birds_recep.sortBy(lambda x: x['timestamp'])"
   ]
  },
  {
   "cell_type": "code",
   "execution_count": null,
   "metadata": {},
   "outputs": [],
   "source": []
  },
  {
   "cell_type": "markdown",
   "metadata": {},
   "source": [
    "### Mapa con el movimiento predicho para un pajaro cerca del momento de validacion"
   ]
  },
  {
   "cell_type": "code",
   "execution_count": 23,
   "metadata": {},
   "outputs": [
    {
     "data": {
      "text/plain": [
       "{'ID': '33',\n",
       " 'Fecha': '1/21/2018',\n",
       " 'Hora': '5:03:07',\n",
       " 'Latitud': '-35.1407',\n",
       " 'Longitud': '-57.38662',\n",
       " 'Tipo': 'D',\n",
       " 'x': 464780.69076134166,\n",
       " 'y': 6111285.263654969,\n",
       " 'timestamp': '2018-01-21 5:03:07'}"
      ]
     },
     "execution_count": 23,
     "metadata": {},
     "output_type": "execute_result"
    }
   ],
   "source": [
    "validation_track.take(48)[47]"
   ]
  },
  {
   "cell_type": "code",
   "execution_count": 104,
   "metadata": {},
   "outputs": [],
   "source": [
    "def get_predictions_of_validation_point(validation_point):\n",
    "    BIRD_TAG_ID = int(validation_point['ID'])\n",
    "    START_TIME = (\n",
    "        (datetime.strptime(validation_point['timestamp'], '%Y-%m-%d %H:%M:%S')-timedelta(seconds=60*2))\n",
    "        .strftime('%Y-%m-%d %H:%M:%S')\n",
    "    )\n",
    "    END_TIME = (\n",
    "        (datetime.strptime(validation_point['timestamp'], '%Y-%m-%d %H:%M:%S')+timedelta(seconds=60*2))\n",
    "        .strftime('%Y-%m-%d %H:%M:%S')\n",
    "    )\n",
    "\n",
    "    single_bird = (\n",
    "        birds_recep\n",
    "        .filter(lambda x: x['tag_id'] == BIRD_TAG_ID)\n",
    "        .filter(lambda x: x['timestamp'] >= START_TIME)\n",
    "        .filter(lambda x: x['timestamp'] < END_TIME)\n",
    "    )\n",
    "\n",
    "    birds_data = pd.DataFrame(single_bird.collect()).drop(columns=[4,5])\n",
    "    \n",
    "    predictions = predictor.predict(birds_data)\n",
    "    return pd.concat([pd.DataFrame(predictions), pd.DataFrame(single_bird.collect())], axis=1).values"
   ]
  },
  {
   "cell_type": "code",
   "execution_count": 31,
   "metadata": {},
   "outputs": [],
   "source": []
  },
  {
   "cell_type": "code",
   "execution_count": 74,
   "metadata": {},
   "outputs": [
    {
     "name": "stdout",
     "output_type": "stream",
     "text": [
      "0\n",
      "1\n",
      "2\n",
      "3\n",
      "4\n",
      "6\n",
      "7\n",
      "8\n",
      "31\n",
      "32\n",
      "34\n",
      "35\n",
      "36\n",
      "37\n",
      "38\n",
      "46\n",
      "47\n"
     ]
    }
   ],
   "source": [
    "for i in range(48):\n",
    "    try:\n",
    "        get_predictions_of_validation_point(validation_track.take(48)[i])\n",
    "        print(i)\n",
    "    except:\n",
    "        pass"
   ]
  },
  {
   "cell_type": "code",
   "execution_count": null,
   "metadata": {},
   "outputs": [],
   "source": []
  },
  {
   "cell_type": "code",
   "execution_count": 116,
   "metadata": {},
   "outputs": [],
   "source": [
    "vps = [\n",
    "    normalizer._normalize_positions(validation_track.take(48)[2]),\n",
    "    normalizer._normalize_positions(validation_track.take(48)[0]),\n",
    "] \n",
    "val_preds = [\n",
    "    get_predictions_of_validation_point(vps[0]),\n",
    "    get_predictions_of_validation_point(vps[1])\n",
    "]"
   ]
  },
  {
   "cell_type": "code",
   "execution_count": 117,
   "metadata": {},
   "outputs": [
    {
     "data": {
      "image/png": "[encoded data removed]",
      "text/plain": [
       "<Figure size 1080x360 with 2 Axes>"
      ]
     },
     "metadata": {
      "needs_background": "light"
     },
     "output_type": "display_data"
    }
   ],
   "source": [
    "fig, axs = plt.subplots(1,2,figsize=(15,5))\n",
    "\n",
    "\n",
    "for i in [0,1]:\n",
    "    predictions = val_preds[i]\n",
    "    ax = axs[i]\n",
    "    ax.set_ylim(0,y_f-y_0)\n",
    "    ax.set_xlim(0,x_f-x_0)\n",
    "    all_points_pos = pd.DataFrame(points_recep.map(lambda p: {'x': p['x'], 'y': p['y']}).map(normalizer._normalize_positions).collect())\n",
    "    ax.scatter(all_points_pos['x'], all_points_pos['y'], c='#96EAE1', s=15, label = None)\n",
    "    for antenna in range(4):\n",
    "            pos_antena = posicion_antenas[antenna]\n",
    "            ax.plot(pos_antena[0]-x_0, pos_antena[1]-y_0, \"dy\")\n",
    "            name = nombre_antenas[antenna]\n",
    "            ax.annotate(name, xy=(pos_antena[0]-x_0, pos_antena[1]-y_0), textcoords='data') \n",
    "\n",
    "\n",
    "    ax.plot([point[0] for point in predictions], [point[1] for point in predictions], 'go', color='red', label='Predicción')\n",
    "\n",
    "    ax.plot([vps[i]['x']], [vps[i]['y']], 'go', color='blue', label='Posición real') # plot real position\n",
    "\n",
    "    ax.set_xlabel('x')\n",
    "    ax.set_ylabel('y')\n",
    "    ax.legend()\n",
    "    #ax.legend(loc='upper center', bbox_to_anchor=(0.5, -0.05), shadow=True, ncol=2)\n",
    "fig.savefig('EjemploPrediccionPuntosValidacion.png')\n",
    "\n"
   ]
  },
  {
   "cell_type": "code",
   "execution_count": null,
   "metadata": {},
   "outputs": [],
   "source": []
  }
 ],
 "metadata": {
  "kernelspec": {
   "display_name": "Python 3",
   "language": "python",
   "name": "python3"
  }
 },
 "nbformat": 4,
 "nbformat_minor": 2
}
