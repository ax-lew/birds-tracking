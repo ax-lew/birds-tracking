{
 "cells": [
  {
   "cell_type": "code",
   "execution_count": 1,
   "metadata": {},
   "outputs": [],
   "source": [
    "import pyspark\n",
    "sc = pyspark.sql.SparkSession.Builder().getOrCreate()"
   ]
  },
  {
   "cell_type": "code",
   "execution_count": 2,
   "metadata": {},
   "outputs": [],
   "source": [
    "import sys\n",
    "sys.path.append(\"..\")"
   ]
  },
  {
   "cell_type": "code",
   "execution_count": 3,
   "metadata": {},
   "outputs": [],
   "source": [
    "import json\n",
    "import numpy as np\n",
    "import pandas as pd\n",
    "import seaborn as sn\n",
    "\n",
    "import matplotlib.pyplot as plt\n",
    "from IPython.display import display, HTML\n",
    "import math\n",
    "import time\n",
    "import matplotlib.animation as animation\n",
    "from datetime import datetime, timedelta\n",
    "import pyspark.sql.functions as F\n",
    "\n",
    "from utils.emissions_normalizer import EmissionsNormalizer\n",
    "from utils.knn_predictor import KnnPredictor\n",
    "from utils.smoother import Smoother\n",
    "from utils.random_predictor import RandomPredictor\n",
    "\n",
    "from shapely.geometry import Point\n",
    "from shapely.geometry.polygon import Polygon"
   ]
  },
  {
   "cell_type": "code",
   "execution_count": 4,
   "metadata": {},
   "outputs": [],
   "source": [
    "FEMALES = [11, 15,17, 20, 24, 26, 28, 30, 33, 34]\n",
    "MALES = [10, 14, 16,21, 22, 23, 25, 27, 29, 31, 32]"
   ]
  },
  {
   "cell_type": "markdown",
   "metadata": {},
   "source": [
    "## Levanto el archivo con las emisiones de los pajaros"
   ]
  },
  {
   "cell_type": "code",
   "execution_count": 5,
   "metadata": {},
   "outputs": [],
   "source": [
    "birds_recep = sc.read.json('../datos/all-birds-data.jsonlines/').rdd\n",
    "birds_recep = birds_recep.sortBy(lambda x: x['timestamp'])"
   ]
  },
  {
   "cell_type": "markdown",
   "metadata": {},
   "source": [
    "### Me quedo solo con pajaros etiquetados"
   ]
  },
  {
   "cell_type": "code",
   "execution_count": 6,
   "metadata": {},
   "outputs": [],
   "source": [
    "birds_recep = birds_recep.filter(lambda x: x['tag_id'] in MALES+FEMALES)"
   ]
  },
  {
   "cell_type": "code",
   "execution_count": 7,
   "metadata": {},
   "outputs": [],
   "source": [
    "start_date = '2018-01-10'\n",
    "end_date = '2018-01-26'\n",
    "birds_recep = birds_recep.filter(lambda x: x['timestamp'] >= start_date and  x['timestamp'] < end_date)"
   ]
  },
  {
   "cell_type": "code",
   "execution_count": 8,
   "metadata": {},
   "outputs": [],
   "source": [
    "birds_data_complete_df = birds_recep.toDF()\n",
    "birds_data_complete_df.write.parquet('tmp/checkpoint-ceb-t.parquet')"
   ]
  },
  {
   "cell_type": "markdown",
   "metadata": {},
   "source": [
    "### Levanto el chekpoint en pandas"
   ]
  },
  {
   "cell_type": "code",
   "execution_count": 9,
   "metadata": {},
   "outputs": [],
   "source": [
    "birds_data = pd.read_parquet('tmp/checkpoint-ceb-t.parquet')"
   ]
  },
  {
   "cell_type": "markdown",
   "metadata": {},
   "source": [
    "### Agrego la fecha"
   ]
  },
  {
   "cell_type": "code",
   "execution_count": 10,
   "metadata": {},
   "outputs": [],
   "source": [
    "#birds_data['date'] = birds_data['timestamp'].str.split(':').str[0]\n",
    "birds_data['date'] = birds_data['timestamp'].str.split(' ').str[0]"
   ]
  },
  {
   "cell_type": "code",
   "execution_count": 18,
   "metadata": {},
   "outputs": [
    {
     "data": {
      "text/plain": [
       "<matplotlib.axes._subplots.AxesSubplot at 0x147c88fa0>"
      ]
     },
     "execution_count": 18,
     "metadata": {},
     "output_type": "execute_result"
    },
    {
     "data": {
      "image/png": "[encoded data removed]",
      "text/plain": [
       "<Figure size 720x360 with 1 Axes>"
      ]
     },
     "metadata": {
      "needs_background": "light"
     },
     "output_type": "display_data"
    }
   ],
   "source": [
    "birds_data.groupby(['tag_id']).size().to_frame('Emisiones').reset_index().plot(kind=\"bar\", x='tag_id', y='Emisiones', figsize=(10,5))"
   ]
  },
  {
   "cell_type": "code",
   "execution_count": 35,
   "metadata": {},
   "outputs": [],
   "source": [
    "birds_data.groupby(['tag_id']).size().to_frame('Emisiones').to_clipboard()"
   ]
  },
  {
   "cell_type": "code",
   "execution_count": 33,
   "metadata": {},
   "outputs": [
    {
     "data": {
      "text/plain": [
       "'{\"10\":{\"Emisiones\":4331},\"11\":{\"Emisiones\":3684},\"14\":{\"Emisiones\":69891},\"15\":{\"Emisiones\":249},\"16\":{\"Emisiones\":43},\"17\":{\"Emisiones\":95762},\"20\":{\"Emisiones\":150526},\"21\":{\"Emisiones\":86961},\"22\":{\"Emisiones\":30256},\"23\":{\"Emisiones\":16760},\"24\":{\"Emisiones\":151894},\"25\":{\"Emisiones\":4214},\"26\":{\"Emisiones\":8824},\"27\":{\"Emisiones\":104431},\"28\":{\"Emisiones\":36983},\"29\":{\"Emisiones\":45290},\"30\":{\"Emisiones\":23133},\"31\":{\"Emisiones\":23046},\"32\":{\"Emisiones\":69483},\"33\":{\"Emisiones\":104310},\"34\":{\"Emisiones\":39443}}'"
      ]
     },
     "execution_count": 33,
     "metadata": {},
     "output_type": "execute_result"
    }
   ],
   "source": [
    "asd.to_json()"
   ]
  },
  {
   "cell_type": "code",
   "execution_count": null,
   "metadata": {},
   "outputs": [],
   "source": [
    "\t10\t11\t14\t15\t16\t17\t20\t21\t22\t23\t24\t25\t26\t27\t28\t29\t30\t31\t32\t33\t34\n",
    "Emisiones\t4331\t3684\t69891\t249\t43\t95762\t150526\t86961\t30256\t16760\t151894\t4214\t8824\t104431\t36983\t45290\t23133\t23046\t69483\t104310\t39443\n"
   ]
  }
 ],
 "metadata": {
  "kernelspec": {
   "display_name": "Python 3",
   "language": "python",
   "name": "python3"
  },
  "language_info": {
   "codemirror_mode": {
    "name": "ipython",
    "version": 3
   },
   "file_extension": ".py",
   "mimetype": "text/x-python",
   "name": "python",
   "nbconvert_exporter": "python",
   "pygments_lexer": "ipython3",
   "version": "3.8.3"
  }
 },
 "nbformat": 4,
 "nbformat_minor": 2
}
