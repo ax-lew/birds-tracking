{
 "cells": [
  {
   "cell_type": "code",
   "execution_count": 1,
   "metadata": {},
   "outputs": [],
   "source": [
    "import pyspark\n",
    "sc = pyspark.sql.SparkSession.Builder().getOrCreate()"
   ]
  },
  {
   "cell_type": "code",
   "execution_count": 2,
   "metadata": {},
   "outputs": [],
   "source": [
    "import sys\n",
    "sys.path.append(\"..\")"
   ]
  },
  {
   "cell_type": "code",
   "execution_count": 3,
   "metadata": {},
   "outputs": [],
   "source": [
    "import json\n",
    "import numpy as np\n",
    "import pandas as pd\n",
    "import seaborn as sn\n",
    "\n",
    "import matplotlib.pyplot as plt\n",
    "from IPython.display import display, HTML\n",
    "import math\n",
    "import time\n",
    "import matplotlib.animation as animation\n",
    "from datetime import datetime, timedelta\n",
    "import pyspark.sql.functions as F\n",
    "\n",
    "from utils.emissions_normalizer import EmissionsNormalizer\n",
    "from utils.knn_predictor import KnnPredictor\n",
    "from utils.smoother import Smoother\n",
    "from utils.random_predictor import RandomPredictor\n",
    "\n",
    "from shapely.geometry import Point\n",
    "from shapely.geometry.polygon import Polygon"
   ]
  },
  {
   "cell_type": "code",
   "execution_count": 4,
   "metadata": {},
   "outputs": [],
   "source": [
    "ANTENNAS_POSITION = [(464259.981343845,6110331.85100085),(463512.015195402,6111004.324434620),(464443.295130103,6111377.26171875),(464629.562194595,6111105.34734669)]\n",
    "ANTENNAS_NAMES = [\"RC1\", \"RC2\", \"D1\", \"D2\"] \n",
    "X_0 = 462385.503783397\n",
    "Y_0 = 6109042.35153865\n",
    "\n",
    "for i in range(4):\n",
    "    ANTENNAS_POSITION[i] = (ANTENNAS_POSITION[i][0]-X_0, ANTENNAS_POSITION[i][1]-Y_0)\n",
    "\n",
    "GRID = Polygon(ANTENNAS_POSITION)"
   ]
  },
  {
   "cell_type": "code",
   "execution_count": 5,
   "metadata": {},
   "outputs": [],
   "source": [
    "FEMALES = [11, 17, 20, 24, 26, 28, 30, 33, 34]\n",
    "MALES = [10, 14, 21, 22, 23, 25, 27, 29, 31, 32]"
   ]
  },
  {
   "cell_type": "markdown",
   "metadata": {},
   "source": [
    "## Levanto el archivo con las emisiones de los pajaros"
   ]
  },
  {
   "cell_type": "code",
   "execution_count": 6,
   "metadata": {},
   "outputs": [],
   "source": [
    "birds_recep = sc.read.json('../datos/all-birds-data.jsonlines/').rdd\n",
    "birds_recep = birds_recep.sortBy(lambda x: x['timestamp'])"
   ]
  },
  {
   "cell_type": "markdown",
   "metadata": {},
   "source": [
    "### Me quedo solo con pajaros etiquetados"
   ]
  },
  {
   "cell_type": "code",
   "execution_count": 54,
   "metadata": {},
   "outputs": [],
   "source": [
    "birds_recep = birds_recep.filter(lambda x: x['tag_id'] in MALES+FEMALES)"
   ]
  },
  {
   "cell_type": "code",
   "execution_count": 7,
   "metadata": {},
   "outputs": [],
   "source": [
    "start_date = '2018-01-10'\n",
    "end_date = '2018-01-26'\n",
    "birds_recep = birds_recep.filter(lambda x: x['timestamp'] >= start_date and  x['timestamp'] < end_date)"
   ]
  },
  {
   "cell_type": "code",
   "execution_count": 56,
   "metadata": {},
   "outputs": [],
   "source": [
    "START_TIME = '08:00:00'\n",
    "END_TIME = '19:00:00'\n",
    "\n",
    "\n",
    "birds_data_complete_df = birds_recep.filter(lambda x: START_TIME <= x['timestamp'].split(' ')[1] < END_TIME).toDF()\n",
    "birds_data_complete_df.write.parquet('tmp/checkpoint-bs.parquet')"
   ]
  },
  {
   "cell_type": "markdown",
   "metadata": {},
   "source": [
    "### Levanto el chekpoint en pandas"
   ]
  },
  {
   "cell_type": "code",
   "execution_count": 57,
   "metadata": {},
   "outputs": [],
   "source": [
    "birds_data = pd.read_parquet('tmp/checkpoint-bs.parquet')"
   ]
  },
  {
   "cell_type": "markdown",
   "metadata": {},
   "source": [
    "### Agrego la fecha"
   ]
  },
  {
   "cell_type": "code",
   "execution_count": 58,
   "metadata": {},
   "outputs": [],
   "source": [
    "#birds_data['date'] = birds_data['timestamp'].str.split(':').str[0]\n",
    "birds_data['date'] = birds_data['timestamp'].str.split(' ').str[0]"
   ]
  },
  {
   "cell_type": "code",
   "execution_count": 59,
   "metadata": {},
   "outputs": [],
   "source": [
    "cantidad_maxima_emisiones_por_hora = 60*60/5\n",
    "cantidad_maxima_emisiones_por_dia = 60*60*24/5"
   ]
  },
  {
   "cell_type": "code",
   "execution_count": 60,
   "metadata": {},
   "outputs": [],
   "source": [
    "\n",
    "def get_pivot_table(df, column1, column2):\n",
    "    \"\"\"\n",
    "    Get a pivot table grouped by 2 columns\n",
    "    \n",
    "    Args:\n",
    "        df: dataframe\n",
    "        column1: str of name column\n",
    "        column2: str of name column\n",
    "    Returns:\n",
    "        a pivot table for the plot\n",
    "    \"\"\"\n",
    "        \n",
    "    groups = df.groupby([pd.Grouper(key=column1), \n",
    "                         column2]).size().reset_index(name='counts')\n",
    "    piv = pd.pivot_table(\n",
    "        groups, \n",
    "        values=\"counts\", \n",
    "        index=[column1], \n",
    "        columns=[column2], \n",
    "        fill_value=0\n",
    "    )\n",
    "    return piv\n",
    "\n",
    "\n",
    "def plot_colormap(piv, cmap, title, xlabel, ylabel, clim=None):\n",
    "    \"\"\"\n",
    "    Generate a color map plot\n",
    "    \n",
    "    Args:\n",
    "        piv: pivot table\n",
    "        cmap: str of color name\n",
    "        title: str of grafic title\n",
    "        xlabel: str of x label\n",
    "        ylabel: str of y label\n",
    "    \"\"\"\n",
    "    \n",
    "    #fig, ax = plt.subplots(figsize=(10,15))\n",
    "    fig, ax = plt.subplots(figsize=(10,5))\n",
    "    im = ax.imshow(piv, cmap=cmap)\n",
    "    fig.colorbar(im, ax=ax)\n",
    "    # set min, max values\n",
    "    if clim is not None:\n",
    "        im.set_clim(clim)\n",
    "    ax.set_xticks(range(len(piv.columns)))\n",
    "    ax.set_yticks(range(len(piv.index)))\n",
    "    ax.set_xticklabels(piv.columns, rotation=90)\n",
    "    y_labels = normalized.index\n",
    "    '''\n",
    "    y_labels = np.where(\n",
    "        normalized.index.str.split(' ').str[1] == '08',\n",
    "        normalized.index,\n",
    "        ''\n",
    "    )\n",
    "    '''\n",
    "    ax.set_yticklabels(y_labels)\n",
    "    ax.set_title(**title)\n",
    "    ax.set_xlabel(**xlabel)\n",
    "    ax.set_ylabel(**ylabel)\n",
    "    plt.savefig('DistribucionEmisionesPajaros.png')\n",
    "    plt.tight_layout()\n",
    "    plt.show()\n",
    "    "
   ]
  },
  {
   "cell_type": "code",
   "execution_count": 61,
   "metadata": {
    "scrolled": false
   },
   "outputs": [
    {
     "data": {
      "image/png": "[encoded data removed]",
      "text/plain": [
       "<Figure size 720x360 with 2 Axes>"
      ]
     },
     "metadata": {
      "needs_background": "light"
     },
     "output_type": "display_data"
    }
   ],
   "source": [
    "dataset_piv = get_pivot_table(birds_data, \"date\", \"tag_id\")\n",
    "\n",
    "plot_args = {\n",
    "    'cmap': 'Greens',\n",
    "    'title': {'label': ' ', 'fontsize': 24},\n",
    "    'xlabel': {'xlabel': 'Pájaro', 'fontsize': 16},\n",
    "    'ylabel': {'ylabel': 'Fecha', 'fontsize': 16}\n",
    "}\n",
    "\n",
    "#normalized = dataset_piv/cantidad_maxima_emisiones_por_hora\n",
    "normalized = dataset_piv/cantidad_maxima_emisiones_por_dia\n",
    "plot_colormap(\n",
    "    normalized,\n",
    "    **plot_args\n",
    ")"
   ]
  },
  {
   "cell_type": "code",
   "execution_count": 62,
   "metadata": {
    "scrolled": false
   },
   "outputs": [
    {
     "data": {
      "image/png": "[encoded data removed]",
      "text/plain": [
       "<Figure size 432x288 with 1 Axes>"
      ]
     },
     "metadata": {
      "needs_background": "light"
     },
     "output_type": "display_data"
    }
   ],
   "source": [
    "ax = dataset_piv.plot.box()\n",
    "ax.set_ylabel('Cantidad emisiones')\n",
    "ax.set_xlabel('Pájaro')\n",
    "plt.savefig('BoxPlotPajaros.png')"
   ]
  },
  {
   "cell_type": "code",
   "execution_count": null,
   "metadata": {},
   "outputs": [],
   "source": []
  },
  {
   "cell_type": "code",
   "execution_count": null,
   "metadata": {},
   "outputs": [],
   "source": []
  },
  {
   "cell_type": "code",
   "execution_count": null,
   "metadata": {},
   "outputs": [],
   "source": []
  }
 ],
 "metadata": {
  "kernelspec": {
   "display_name": "Python 3",
   "language": "python",
   "name": "python3"
  },
  "language_info": {
   "codemirror_mode": {
    "name": "ipython",
    "version": 3
   },
   "file_extension": ".py",
   "mimetype": "text/x-python",
   "name": "python",
   "nbconvert_exporter": "python",
   "pygments_lexer": "ipython3",
   "version": "3.8.3"
  }
 },
 "nbformat": 4,
 "nbformat_minor": 2
}
