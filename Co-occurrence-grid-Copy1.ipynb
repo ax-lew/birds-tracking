{
 "cells": [
  {
   "cell_type": "code",
   "execution_count": 1,
   "metadata": {},
   "outputs": [],
   "source": [
    "%matplotlib notebook"
   ]
  },
  {
   "cell_type": "code",
   "execution_count": 1,
   "metadata": {},
   "outputs": [],
   "source": [
    "import pyspark\n",
    "sc = pyspark.sql.SparkSession.Builder().getOrCreate()"
   ]
  },
  {
   "cell_type": "code",
   "execution_count": 2,
   "metadata": {},
   "outputs": [],
   "source": [
    "import json\n",
    "import numpy as np\n",
    "import pandas as pd\n",
    "import seaborn as sn\n",
    "\n",
    "import matplotlib.pyplot as plt\n",
    "from IPython.display import display, HTML\n",
    "import math\n",
    "import time\n",
    "import matplotlib.animation as animation\n",
    "from datetime import datetime, timedelta\n",
    "import pyspark.sql.functions as F\n",
    "\n",
    "from utils.emissions_normalizer import EmissionsNormalizer\n",
    "from utils.knn_predictor import KnnPredictor\n",
    "from utils.smoother import Smoother\n",
    "from utils.random_predictor import RandomPredictor\n",
    "\n",
    "from shapely.geometry import Point\n",
    "from shapely.geometry.polygon import Polygon"
   ]
  },
  {
   "cell_type": "code",
   "execution_count": 3,
   "metadata": {},
   "outputs": [],
   "source": [
    "ANTENNAS_POSITION = [(464259.981343845,6110331.85100085),(463512.015195402,6111004.324434620),(464443.295130103,6111377.26171875),(464629.562194595,6111105.34734669)]\n",
    "ANTENNAS_NAMES = [\"RC1\", \"RC2\", \"D1\", \"D2\"] \n",
    "X_0 = 462385.503783397\n",
    "Y_0 = 6109042.35153865\n",
    "\n",
    "for i in range(4):\n",
    "    ANTENNAS_POSITION[i] = (ANTENNAS_POSITION[i][0]-X_0, ANTENNAS_POSITION[i][1]-Y_0)\n",
    "\n",
    "GRID = Polygon(ANTENNAS_POSITION)"
   ]
  },
  {
   "cell_type": "code",
   "execution_count": 4,
   "metadata": {},
   "outputs": [],
   "source": [
    "#GRID = Polygon([(1750,1600), (1750,2000), (2200, 2000), (2200, 1600)])\n",
    "#GRID = Polygon([(1450,1800),(1450,2000),(2200,2000),(2200,1800)])\n",
    "\n",
    "\n",
    "\n",
    "FEMALES = [11, 17, 20, 24, 26, 28, 30, 33, 34]\n",
    "MALES = [10, 14, 21, 22, 23, 25, 27, 29, 31, 32]"
   ]
  },
  {
   "cell_type": "markdown",
   "metadata": {},
   "source": [
    "## Entreno el modelo que vamos a usar para predecir"
   ]
  },
  {
   "cell_type": "code",
   "execution_count": 5,
   "metadata": {},
   "outputs": [],
   "source": [
    "points_recep = sc.read.json('datos/train-test-by-emission.jsonlines/').rdd"
   ]
  },
  {
   "cell_type": "code",
   "execution_count": 6,
   "metadata": {},
   "outputs": [],
   "source": [
    "normalizer = EmissionsNormalizer()\n",
    "data = normalizer.normalize(points_recep)\n",
    "regre_data, regre_target = normalizer.get_regression_dataframes(data)"
   ]
  },
  {
   "cell_type": "code",
   "execution_count": 7,
   "metadata": {},
   "outputs": [],
   "source": [
    "predictor = KnnPredictor()\n",
    "predictor.fit(regre_data, regre_target)"
   ]
  },
  {
   "cell_type": "code",
   "execution_count": null,
   "metadata": {},
   "outputs": [],
   "source": []
  },
  {
   "cell_type": "markdown",
   "metadata": {},
   "source": [
    "### Levanto el chekpoint en pandas"
   ]
  },
  {
   "cell_type": "code",
   "execution_count": 8,
   "metadata": {},
   "outputs": [],
   "source": [
    "birds_data_complete = pd.read_parquet('tmp/checkpoint-cog.parquet')\n",
    "birds_data = birds_data_complete.drop(columns=['tag_id','timestamp'])"
   ]
  },
  {
   "cell_type": "markdown",
   "metadata": {},
   "source": [
    "### Obtengo las predicciones"
   ]
  },
  {
   "cell_type": "code",
   "execution_count": 22,
   "metadata": {},
   "outputs": [],
   "source": [
    "predictions = predictor.predict(birds_data)\n",
    "predictions = pd.concat([pd.DataFrame(predictions), pd.DataFrame(birds_data_complete)], axis=1).values"
   ]
  },
  {
   "cell_type": "code",
   "execution_count": 16,
   "metadata": {},
   "outputs": [],
   "source": []
  },
  {
   "cell_type": "code",
   "execution_count": null,
   "metadata": {},
   "outputs": [],
   "source": []
  },
  {
   "cell_type": "code",
   "execution_count": null,
   "metadata": {},
   "outputs": [],
   "source": []
  },
  {
   "cell_type": "code",
   "execution_count": null,
   "metadata": {},
   "outputs": [],
   "source": []
  },
  {
   "cell_type": "markdown",
   "metadata": {},
   "source": [
    "## Analizo coocurrencia en regiones uniformes"
   ]
  },
  {
   "cell_type": "markdown",
   "metadata": {},
   "source": [
    "### Calculo en que region cayo la prediccion"
   ]
  },
  {
   "cell_type": "code",
   "execution_count": 23,
   "metadata": {},
   "outputs": [],
   "source": [
    "X_REGION_SIZE = 300\n",
    "Y_REGION_SIZE = 300\n",
    "\n",
    "\n",
    "def set_prediction_in_regions_classification(predictions):\n",
    "    grid_predictions = []\n",
    "    for i in range(len(predictions)):\n",
    "        prediction = predictions[i]\n",
    "        point = Point(prediction[0], prediction[1])\n",
    "\n",
    "        region = '{}-{}'.format(int(prediction[0]/X_REGION_SIZE), int(prediction[1]/Y_REGION_SIZE))\n",
    "\n",
    "        grid_pred = np.insert(prediction, 8,region, axis=0)\n",
    "        grid_predictions.append(grid_pred)\n",
    "    return pd.DataFrame(grid_predictions, columns=['x', 'y', 'recep_0', 'recep_1', 'recep_2', 'recep_3', 'tag', 'time', 'region'])\n"
   ]
  },
  {
   "cell_type": "markdown",
   "metadata": {},
   "source": [
    "### Obtengo el tiempo que cada posible pareja estuvo junta"
   ]
  },
  {
   "cell_type": "code",
   "execution_count": 24,
   "metadata": {},
   "outputs": [],
   "source": [
    "def get_bird_timestamp_in_regions(bird_data, delta_time_in_sec):\n",
    "    \"\"\"\n",
    "    delta_time_in_sec es la cantidad de segundos que decimos que el pajaro se encuentra en un mismo punto dada una prediccion\n",
    "    Por default, el valor es 5, ya que las emisiones son cada 5 segundos.\n",
    "    \"\"\"\n",
    "    timestamp_in_grid = []\n",
    "    for row in zip(bird_data.time, bird_data.region):\n",
    "        real_time = datetime.strptime(row[0], '%Y-%m-%d %H:%M:%S')\n",
    "        for i in range(-delta_time_in_sec, delta_time_in_sec+1):\n",
    "            res=real_time+timedelta(seconds=i)\n",
    "            timestamp_in_grid.append((row[1], datetime.strftime(res, '%Y-%m-%d %H:%M:%S')))\n",
    "\n",
    "    timestamp_in_grid = list(set(timestamp_in_grid))\n",
    "    return pd.DataFrame(timestamp_in_grid, columns=['region','time'])\n",
    "\n",
    "\n",
    "def get_matches_per_bird_in_regions(grid_predictions, delta_time):\n",
    "    male_birds_in_grid = grid_predictions[(grid_predictions.tag.isin(MALES)) & (grid_predictions.region.notnull())]\n",
    "\n",
    "    matches_per_bird_near_antenna = {}\n",
    "    for female_bird in FEMALES:\n",
    "        female_bird_in_grid = grid_predictions[(grid_predictions['tag'] == female_bird) & (grid_predictions.region.notnull())]\n",
    "        timestamp_in_grid_pd = get_bird_timestamp_in_regions(female_bird_in_grid, delta_time)\n",
    "\n",
    "        male_in_grid_with_female = male_birds_in_grid.join(timestamp_in_grid_pd.set_index(['region','time']), on=['region','time'], how='inner')\n",
    "\n",
    "        female_matches = {}\n",
    "        for index, row in male_in_grid_with_female.iterrows():\n",
    "            tag = row['tag']\n",
    "            current_matches = female_matches.get(tag, 0)\n",
    "            female_matches[tag] = current_matches+1\n",
    "\n",
    "        matches_per_bird_near_antenna[female_bird] = female_matches\n",
    "    return matches_per_bird_near_antenna\n",
    "\n"
   ]
  },
  {
   "cell_type": "code",
   "execution_count": 27,
   "metadata": {},
   "outputs": [],
   "source": [
    "predictions = set_prediction_in_regions_classification(predictions)\n",
    "matches_per_bird = get_matches_per_bird_in_regions(predictions, 5)\n",
    "\n",
    "\n",
    "matrix_res = [[]] * len(FEMALES)\n",
    "for i in range(len(FEMALES)):\n",
    "    matrix_res[i] = []\n",
    "    for m in MALES:\n",
    "        matrix_res[i].append(matches_per_bird.get(FEMALES[i]).get(m, 0))\n",
    "\n"
   ]
  },
  {
   "cell_type": "code",
   "execution_count": 29,
   "metadata": {},
   "outputs": [],
   "source": [
    "matrix_res_pd = pd.DataFrame(matrix_res)\n",
    "matrix_res_pd.columns = MALES\n",
    "matrix_res_pd.rename(index={i:FEMALES[i] for i in range(len(FEMALES))}, inplace=True)\n",
    "matrix_res_pd.to_csv('prettier/matrix_coocurrence.csv')"
   ]
  },
  {
   "cell_type": "code",
   "execution_count": 33,
   "metadata": {},
   "outputs": [
    {
     "data": {
      "text/html": [
       "<div>\n",
       "<style scoped>\n",
       "    .dataframe tbody tr th:only-of-type {\n",
       "        vertical-align: middle;\n",
       "    }\n",
       "\n",
       "    .dataframe tbody tr th {\n",
       "        vertical-align: top;\n",
       "    }\n",
       "\n",
       "    .dataframe thead th {\n",
       "        text-align: right;\n",
       "    }\n",
       "</style>\n",
       "<table border=\"1\" class=\"dataframe\">\n",
       "  <thead>\n",
       "    <tr style=\"text-align: right;\">\n",
       "      <th></th>\n",
       "      <th>10</th>\n",
       "      <th>14</th>\n",
       "      <th>21</th>\n",
       "      <th>22</th>\n",
       "      <th>23</th>\n",
       "      <th>25</th>\n",
       "      <th>27</th>\n",
       "      <th>29</th>\n",
       "      <th>31</th>\n",
       "      <th>32</th>\n",
       "    </tr>\n",
       "  </thead>\n",
       "  <tbody>\n",
       "    <tr>\n",
       "      <th>11</th>\n",
       "      <td>804</td>\n",
       "      <td>18</td>\n",
       "      <td>153</td>\n",
       "      <td>0</td>\n",
       "      <td>26</td>\n",
       "      <td>4</td>\n",
       "      <td>374</td>\n",
       "      <td>242</td>\n",
       "      <td>69</td>\n",
       "      <td>115</td>\n",
       "    </tr>\n",
       "    <tr>\n",
       "      <th>17</th>\n",
       "      <td>99</td>\n",
       "      <td>608</td>\n",
       "      <td>719</td>\n",
       "      <td>388</td>\n",
       "      <td>87</td>\n",
       "      <td>213</td>\n",
       "      <td>504</td>\n",
       "      <td>562</td>\n",
       "      <td>1553</td>\n",
       "      <td>750</td>\n",
       "    </tr>\n",
       "    <tr>\n",
       "      <th>20</th>\n",
       "      <td>295</td>\n",
       "      <td>646</td>\n",
       "      <td>6058</td>\n",
       "      <td>277</td>\n",
       "      <td>179</td>\n",
       "      <td>97</td>\n",
       "      <td>764</td>\n",
       "      <td>783</td>\n",
       "      <td>1208</td>\n",
       "      <td>1704</td>\n",
       "    </tr>\n",
       "    <tr>\n",
       "      <th>24</th>\n",
       "      <td>228</td>\n",
       "      <td>311</td>\n",
       "      <td>758</td>\n",
       "      <td>243</td>\n",
       "      <td>1174</td>\n",
       "      <td>19</td>\n",
       "      <td>862</td>\n",
       "      <td>614</td>\n",
       "      <td>1387</td>\n",
       "      <td>1374</td>\n",
       "    </tr>\n",
       "    <tr>\n",
       "      <th>26</th>\n",
       "      <td>14</td>\n",
       "      <td>215</td>\n",
       "      <td>170</td>\n",
       "      <td>222</td>\n",
       "      <td>32</td>\n",
       "      <td>807</td>\n",
       "      <td>28</td>\n",
       "      <td>114</td>\n",
       "      <td>64</td>\n",
       "      <td>54</td>\n",
       "    </tr>\n",
       "    <tr>\n",
       "      <th>28</th>\n",
       "      <td>99</td>\n",
       "      <td>414</td>\n",
       "      <td>280</td>\n",
       "      <td>150</td>\n",
       "      <td>35</td>\n",
       "      <td>21</td>\n",
       "      <td>72</td>\n",
       "      <td>76</td>\n",
       "      <td>293</td>\n",
       "      <td>80</td>\n",
       "    </tr>\n",
       "    <tr>\n",
       "      <th>30</th>\n",
       "      <td>92</td>\n",
       "      <td>611</td>\n",
       "      <td>361</td>\n",
       "      <td>330</td>\n",
       "      <td>115</td>\n",
       "      <td>166</td>\n",
       "      <td>212</td>\n",
       "      <td>209</td>\n",
       "      <td>3317</td>\n",
       "      <td>476</td>\n",
       "    </tr>\n",
       "    <tr>\n",
       "      <th>33</th>\n",
       "      <td>123</td>\n",
       "      <td>159</td>\n",
       "      <td>1011</td>\n",
       "      <td>114</td>\n",
       "      <td>171</td>\n",
       "      <td>27</td>\n",
       "      <td>675</td>\n",
       "      <td>1120</td>\n",
       "      <td>921</td>\n",
       "      <td>9395</td>\n",
       "    </tr>\n",
       "    <tr>\n",
       "      <th>34</th>\n",
       "      <td>183</td>\n",
       "      <td>218</td>\n",
       "      <td>486</td>\n",
       "      <td>120</td>\n",
       "      <td>106</td>\n",
       "      <td>56</td>\n",
       "      <td>930</td>\n",
       "      <td>5695</td>\n",
       "      <td>168</td>\n",
       "      <td>861</td>\n",
       "    </tr>\n",
       "  </tbody>\n",
       "</table>\n",
       "</div>"
      ],
      "text/plain": [
       "     10   14    21   22    23   25   27    29    31    32\n",
       "11  804   18   153    0    26    4  374   242    69   115\n",
       "17   99  608   719  388    87  213  504   562  1553   750\n",
       "20  295  646  6058  277   179   97  764   783  1208  1704\n",
       "24  228  311   758  243  1174   19  862   614  1387  1374\n",
       "26   14  215   170  222    32  807   28   114    64    54\n",
       "28   99  414   280  150    35   21   72    76   293    80\n",
       "30   92  611   361  330   115  166  212   209  3317   476\n",
       "33  123  159  1011  114   171   27  675  1120   921  9395\n",
       "34  183  218   486  120   106   56  930  5695   168   861"
      ]
     },
     "execution_count": 33,
     "metadata": {},
     "output_type": "execute_result"
    }
   ],
   "source": [
    "matrix_res_pd"
   ]
  },
  {
   "cell_type": "code",
   "execution_count": null,
   "metadata": {},
   "outputs": [],
   "source": []
  },
  {
   "cell_type": "code",
   "execution_count": null,
   "metadata": {},
   "outputs": [],
   "source": []
  },
  {
   "cell_type": "code",
   "execution_count": null,
   "metadata": {},
   "outputs": [],
   "source": []
  },
  {
   "cell_type": "code",
   "execution_count": null,
   "metadata": {},
   "outputs": [],
   "source": []
  },
  {
   "cell_type": "code",
   "execution_count": null,
   "metadata": {},
   "outputs": [],
   "source": []
  },
  {
   "cell_type": "code",
   "execution_count": 5,
   "metadata": {},
   "outputs": [],
   "source": [
    "# to delete"
   ]
  },
  {
   "cell_type": "code",
   "execution_count": 6,
   "metadata": {},
   "outputs": [],
   "source": [
    "areas = [[(1400.0, 730.0),\n",
    "  (1152.7043433578376, 1125.7557782063323),\n",
    "  (1604.9966613079316, 1408.3793857973747),\n",
    "  (1852.292317950094, 1012.6236075910426)],\n",
    " [(1152.7043433578376, 1125.7557782063323),\n",
    "  (905.4086867156753, 1521.5115564126645),\n",
    "  (1357.7010046657692, 1804.135164003707),\n",
    "  (1604.9966613079314, 1408.3793857973749)],\n",
    " [(905.4086867156752, 1521.5115564126645),\n",
    "  (658.113030073513, 1917.2673346189968),\n",
    "  (1110.4053480236068, 2199.890942210039),\n",
    "  (1357.7010046657692, 1804.1351640037071)],\n",
    " [(1852.292317950094, 1012.6236075910426),\n",
    "  (1604.9966613079316, 1408.3793857973747),\n",
    "  (2057.2889792580254, 1691.0029933884175),\n",
    "  (2304.584635900188, 1295.2472151820853)],\n",
    " [(1604.9966613079316, 1408.3793857973749),\n",
    "  (1357.7010046657692, 1804.135164003707),\n",
    "  (1809.9933226158632, 2086.7587715947498),\n",
    "  (2057.2889792580254, 1691.0029933884175)],\n",
    " [(1357.7010046657692, 1804.1351640037071),\n",
    "  (1110.4053480236068, 2199.890942210039),\n",
    "  (1562.6976659737009, 2482.514549801082),\n",
    "  (1809.9933226158632, 2086.7587715947498)],\n",
    " [(2304.584635900188, 1295.2472151820853),\n",
    "  (2057.288979258026, 1691.0029933884175),\n",
    "  (2509.5812972081194, 1973.62660097946),\n",
    "  (2756.876953850282, 1577.8708227731279)],\n",
    " [(2057.2889792580254, 1691.0029933884175),\n",
    "  (1809.993322615863, 2086.7587715947498),\n",
    "  (2262.285640565957, 2369.382379185792),\n",
    "  (2509.5812972081194, 1973.6266009794601)],\n",
    " [(1809.9933226158632, 2086.7587715947498),\n",
    "  (1562.6976659737009, 2482.514549801082),\n",
    "  (2014.9899839237949, 2765.1381573921244),\n",
    "  (2262.2856405659572, 2369.382379185792)]]"
   ]
  },
  {
   "cell_type": "code",
   "execution_count": 7,
   "metadata": {},
   "outputs": [],
   "source": [
    "map_areas = []\n",
    "for area in areas:\n",
    "    map_areas.append(Polygon(area))\n"
   ]
  },
  {
   "cell_type": "code",
   "execution_count": 14,
   "metadata": {},
   "outputs": [
    {
     "data": {
      "text/plain": [
       "248888.88888888893"
      ]
     },
     "execution_count": 14,
     "metadata": {},
     "output_type": "execute_result"
    }
   ],
   "source": [
    "map_areas[0].area"
   ]
  },
  {
   "cell_type": "code",
   "execution_count": 17,
   "metadata": {},
   "outputs": [
    {
     "data": {
      "text/plain": [
       "2000.0000000000005"
      ]
     },
     "execution_count": 17,
     "metadata": {},
     "output_type": "execute_result"
    }
   ],
   "source": [
    "map_areas[0].length"
   ]
  },
  {
   "cell_type": "code",
   "execution_count": null,
   "metadata": {},
   "outputs": [],
   "source": []
  },
  {
   "cell_type": "code",
   "execution_count": null,
   "metadata": {},
   "outputs": [],
   "source": []
  },
  {
   "cell_type": "code",
   "execution_count": null,
   "metadata": {},
   "outputs": [],
   "source": []
  },
  {
   "cell_type": "code",
   "execution_count": null,
   "metadata": {},
   "outputs": [],
   "source": []
  },
  {
   "cell_type": "code",
   "execution_count": null,
   "metadata": {},
   "outputs": [],
   "source": []
  },
  {
   "cell_type": "code",
   "execution_count": null,
   "metadata": {},
   "outputs": [],
   "source": []
  }
 ],
 "metadata": {
  "kernelspec": {
   "display_name": "Python 3",
   "language": "python",
   "name": "python3"
  },
  "language_info": {
   "codemirror_mode": {
    "name": "ipython",
    "version": 3
   },
   "file_extension": ".py",
   "mimetype": "text/x-python",
   "name": "python",
   "nbconvert_exporter": "python",
   "pygments_lexer": "ipython3",
   "version": "3.8.3"
  }
 },
 "nbformat": 4,
 "nbformat_minor": 2
}
