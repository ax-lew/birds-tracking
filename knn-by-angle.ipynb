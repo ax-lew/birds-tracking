{
 "cells": [
  {
   "cell_type": "code",
   "execution_count": 1,
   "metadata": {},
   "outputs": [],
   "source": [
    "import pyspark\n",
    "\n",
    "sc = pyspark.sql.SparkSession.Builder().getOrCreate()"
   ]
  },
  {
   "cell_type": "markdown",
   "metadata": {},
   "source": [
    "## Levanto los archivos"
   ]
  },
  {
   "cell_type": "code",
   "execution_count": 2,
   "metadata": {},
   "outputs": [],
   "source": [
    "import json\n",
    "import numpy as np\n",
    "import pandas as pd\n",
    "from sklearn.neighbors import KNeighborsRegressor\n",
    "from sklearn.model_selection import cross_val_score\n",
    "from sklearn.neighbors import KNeighborsClassifier\n",
    "from sklearn.model_selection import KFold \n",
    "from sklearn.model_selection import GridSearchCV\n",
    "import math"
   ]
  },
  {
   "cell_type": "code",
   "execution_count": 20,
   "metadata": {},
   "outputs": [],
   "source": [
    "points_recep = sc.read.json('datos/points-recep-by-angle.jsonlines').rdd"
   ]
  },
  {
   "cell_type": "code",
   "execution_count": 23,
   "metadata": {},
   "outputs": [],
   "source": [
    "non_empty_points_recp = points_recep.filter(lambda x: len(x['recep_0']+x['recep_1']+x['recep_2']+x['recep_3']) > 0)\n"
   ]
  },
  {
   "cell_type": "markdown",
   "metadata": {},
   "source": [
    "### Me quedo con una sola emision por punto"
   ]
  },
  {
   "cell_type": "code",
   "execution_count": 24,
   "metadata": {},
   "outputs": [],
   "source": [
    "unique_points = non_empty_points_recp.groupBy(lambda x: x['Punto']).map(lambda x: list(x[1])[0])"
   ]
  },
  {
   "cell_type": "markdown",
   "metadata": {},
   "source": [
    "### Genero los atributos y etiquetas que me interesan"
   ]
  },
  {
   "cell_type": "code",
   "execution_count": 25,
   "metadata": {},
   "outputs": [],
   "source": [
    "def generate_attrs(row):\n",
    "    #f = lambda l: len(l)\n",
    "    f = lambda l: float(np.mean(l) if len(l) > 0 else 0)\n",
    "    data = {}\n",
    "    for antenna in range(4):\n",
    "        for angle in range(4):\n",
    "            data['recep_{}_{}'.format(antenna, angle)] = f(row['recep_{}'.format(antenna)][angle])\n",
    "\n",
    "    return {'data': data, 'x': row['x'], 'y': row['y'], 'point': row['Punto']}\n",
    "    \n",
    "points = unique_points.map(generate_attrs)"
   ]
  },
  {
   "cell_type": "markdown",
   "metadata": {},
   "source": [
    "### Regresion por eje"
   ]
  },
  {
   "cell_type": "code",
   "execution_count": 27,
   "metadata": {},
   "outputs": [
    {
     "name": "stdout",
     "output_type": "stream",
     "text": [
      "prediccion eje x\n",
      "cross val mae: [-343.0432433  -411.10479831 -373.41056791 -370.17302842 -385.60676834]\n",
      "prediccion eje y\n",
      "cross val mae: [-369.00659368 -420.37132144 -400.29844907 -383.10322065 -408.42480613]\n"
     ]
    }
   ],
   "source": [
    "points_target_x = pd.DataFrame(points.map(lambda x: x['x']).collect())\n",
    "points_target_y = pd.DataFrame(points.map(lambda x: x['y']).collect())\n",
    "points_data = pd.DataFrame(points.map(lambda x: x['data']).collect())\n",
    "\n",
    "\n",
    "def eval_knn_regressor(data, target):\n",
    "    clf = KNeighborsRegressor(n_neighbors=5)\n",
    "    scores = cross_val_score(clf, data, target, cv=5, scoring='neg_mean_absolute_error')\n",
    "    print('cross val mae: {}'.format(scores))\n",
    "    \n",
    "print('prediccion eje x')\n",
    "eval_knn_regressor(points_data, points_target_x)\n",
    "print('prediccion eje y')\n",
    "eval_knn_regressor(points_data, points_target_y)"
   ]
  },
  {
   "cell_type": "code",
   "execution_count": null,
   "metadata": {},
   "outputs": [],
   "source": []
  },
  {
   "cell_type": "code",
   "execution_count": null,
   "metadata": {},
   "outputs": [],
   "source": []
  },
  {
   "cell_type": "markdown",
   "metadata": {},
   "source": [
    "### Clasificacion de puntos"
   ]
  },
  {
   "cell_type": "code",
   "execution_count": 28,
   "metadata": {},
   "outputs": [],
   "source": [
    "points_target = pd.DataFrame(points.map(lambda x: x['point']).collect())\n",
    "points_data = pd.DataFrame(points.map(lambda x: x['data']).collect())\n",
    "\n"
   ]
  },
  {
   "cell_type": "code",
   "execution_count": 29,
   "metadata": {},
   "outputs": [
    {
     "name": "stdout",
     "output_type": "stream",
     "text": [
      "{'n_neighbors': 5, 'weights': 'distance'}\n",
      "mean absolute error on test set 798.637688681372\n",
      "mean absolute error on train set 494.4564438095096\n"
     ]
    }
   ],
   "source": [
    "dict_coordenadas = points_recep.map(lambda x: (x['Punto'],(x['x'], x['y']))).collectAsMap()\n",
    "global dict_coordenadas\n",
    "\n",
    "def distance(p1, p2):\n",
    "    return math.sqrt((p1[0]-p2[0])**2+(p1[1]-p2[1])**2)\n",
    "\n",
    "def calculate_mae_distance(predictions, predictions_probas, real):\n",
    "    sum_error = 0\n",
    "    count = 0\n",
    "    for i in range(len(predictions)):\n",
    "        #print(predictions_probas[i].max())\n",
    "        pred_position = dict_coordenadas[predictions[i]]\n",
    "        real_position = dict_coordenadas[real[i]]\n",
    "        sum_error += distance(pred_position, real_position)\n",
    "        count += 1\n",
    "    return sum_error/count\n",
    "    \n",
    "\n",
    "def get_classifier_error(clf, X_train, y_train, X_eval, y_eval):\n",
    "    clf.fit(X_train, y_train)\n",
    "\n",
    "    predictions = clf.predict(X_eval)\n",
    "    predictions_probas = clf.predict_proba(X_eval)\n",
    "    mae = calculate_mae_distance(predictions, predictions_probas, y_eval)\n",
    "    return mae\n",
    "    \n",
    "    \n",
    "points_data_np = np.array(points_data)\n",
    "points_target_np = np.array(points_target).ravel()\n",
    "    \n",
    "\n",
    "\n",
    "def evaluate_knn_classifier(points_data_np, points_target_np, **kwargs):\n",
    "    print(kwargs)\n",
    "    clf = KNeighborsClassifier(**kwargs)    \n",
    "    kf = KFold(n_splits=5, shuffle=True)\n",
    "    mae_list = []\n",
    "    mae_list_train = []\n",
    "    for train_index, test_index in kf.split(points_data_np):\n",
    "        X_train, X_test = points_data_np[train_index], points_data_np[test_index]\n",
    "        y_train, y_test = points_target_np[train_index], points_target_np[test_index]\n",
    "\n",
    "        mae = get_classifier_error(clf, X_train, y_train, X_test, y_test)\n",
    "        mae_train = get_classifier_error(clf, X_train, y_train, X_train, y_train)\n",
    "        mae_list.append(mae)\n",
    "        mae_list_train.append(mae_train)\n",
    "    print('mean absolute error on test set {}'.format(np.mean(mae_list)))\n",
    "    print('mean absolute error on train set {}'.format(np.mean(mae_list_train)))\n",
    "\n",
    "\n",
    "params = {'n_neighbors': 5, 'weights': 'distance'}\n",
    "evaluate_knn_classifier(points_data_np, points_target_np, **params)\n"
   ]
  },
  {
   "cell_type": "code",
   "execution_count": null,
   "metadata": {},
   "outputs": [],
   "source": []
  },
  {
   "cell_type": "code",
   "execution_count": null,
   "metadata": {},
   "outputs": [],
   "source": []
  },
  {
   "cell_type": "markdown",
   "metadata": {},
   "source": [
    "### Regression grid search"
   ]
  },
  {
   "cell_type": "code",
   "execution_count": null,
   "metadata": {
    "scrolled": true
   },
   "outputs": [],
   "source": [
    "\n",
    "\n",
    "knn_params = {\n",
    "    \"n_neighbors\" : np.arange(1, 15),\n",
    "    \"weights\" : [\"uniform\", \"distance\"],\n",
    "    \"p\" : [1, 2]\n",
    "}\n",
    "estimator = KNeighborsRegressor()\n",
    "\n",
    "clf = GridSearchCV(estimator, knn_params, cv=5, scoring='neg_mean_absolute_error', n_jobs=3, error_score=0.0)\n",
    "clf.fit(points_data, points_target_x)\n"
   ]
  },
  {
   "cell_type": "code",
   "execution_count": null,
   "metadata": {},
   "outputs": [],
   "source": [
    "from IPython.display import display, HTML\n",
    "\n",
    "def show_grid_results(clf, n):\n",
    "    df = pd.DataFrame(clf.cv_results_[\"params\"])\n",
    "    df[\"mean_score_validation\"] = clf.cv_results_[\"mean_test_score\"]\n",
    "    df[\"mean_score_training\"] = clf.cv_results_[\"mean_train_score\"]\n",
    "    display(HTML(\"<h3> {}: top {} combinaciones  </h3>\".format(clf.estimator.__class__.__name__, n)))\n",
    "    display(df.sort_values(by=\"mean_score_validation\", ascending=False).head(n))\n",
    "    \n",
    "    \n",
    "show_grid_results(clf,5)"
   ]
  },
  {
   "cell_type": "code",
   "execution_count": null,
   "metadata": {},
   "outputs": [],
   "source": []
  },
  {
   "cell_type": "markdown",
   "metadata": {},
   "source": [
    "### Classification grid search"
   ]
  },
  {
   "cell_type": "code",
   "execution_count": null,
   "metadata": {},
   "outputs": [],
   "source": [
    "from sklearn.model_selection import ParameterGrid\n",
    "        \n",
    "knn_params = {\n",
    "    \"n_neighbors\" : np.arange(1, 15),\n",
    "    \"weights\" : [\"uniform\", \"distance\"],\n",
    "    \"p\" : [1, 2]\n",
    "}\n",
    " \n",
    "for params in ParameterGrid(knn_params):\n",
    "    evaluate_knn_classifier(points_data_np, points_target_np, **params)\n"
   ]
  },
  {
   "cell_type": "code",
   "execution_count": null,
   "metadata": {},
   "outputs": [],
   "source": []
  },
  {
   "cell_type": "code",
   "execution_count": null,
   "metadata": {},
   "outputs": [],
   "source": []
  },
  {
   "cell_type": "code",
   "execution_count": null,
   "metadata": {},
   "outputs": [],
   "source": []
  },
  {
   "cell_type": "code",
   "execution_count": null,
   "metadata": {},
   "outputs": [],
   "source": []
  },
  {
   "cell_type": "code",
   "execution_count": null,
   "metadata": {},
   "outputs": [],
   "source": []
  },
  {
   "cell_type": "markdown",
   "metadata": {},
   "source": [
    "### Error analysis"
   ]
  },
  {
   "cell_type": "code",
   "execution_count": null,
   "metadata": {},
   "outputs": [],
   "source": []
  }
 ],
 "metadata": {
  "kernelspec": {
   "display_name": "Python 3",
   "language": "python",
   "name": "python3"
  },
  "language_info": {
   "codemirror_mode": {
    "name": "ipython",
    "version": 3
   },
   "file_extension": ".py",
   "mimetype": "text/x-python",
   "name": "python",
   "nbconvert_exporter": "python",
   "pygments_lexer": "ipython3",
   "version": "3.6.5"
  }
 },
 "nbformat": 4,
 "nbformat_minor": 2
}
